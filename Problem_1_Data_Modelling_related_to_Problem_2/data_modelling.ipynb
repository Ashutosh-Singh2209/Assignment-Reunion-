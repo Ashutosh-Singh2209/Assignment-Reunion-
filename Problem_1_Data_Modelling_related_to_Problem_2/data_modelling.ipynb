{
 "cells": [
  {
   "cell_type": "code",
   "execution_count": 35,
   "metadata": {},
   "outputs": [
    {
     "name": "stdout",
     "output_type": "stream",
     "text": [
      "hello world!\n"
     ]
    }
   ],
   "source": [
    "print(\"hello world!\")"
   ]
  },
  {
   "cell_type": "markdown",
   "metadata": {},
   "source": [
    "**What is `faker` in `import faker`**:  \n",
    "   `faker` is a Python library that generates fake data, such as names, addresses, and emails. It is useful for testing and simulating realistic-looking random data in various domains.\n",
    "\n",
    "**What is `faker`**:  \n",
    "   `faker` is a module within the `Faker` library used to generate random fake data, such as names, addresses, and emails. It helps simulate realistic data for development and testing purposes.\n",
    "\n",
    "**What are `datetime`, `timedelta` in `from datetime import datetime, timedelta`**:  \n",
    "   `datetime` represents date and time, while `timedelta` represents a duration or difference between two dates. They are used to manipulate and generate dates for order history."
   ]
  },
  {
   "cell_type": "code",
   "execution_count": 36,
   "metadata": {},
   "outputs": [],
   "source": [
    "import random\n",
    "import faker\n",
    "from datetime import datetime, timedelta"
   ]
  },
  {
   "cell_type": "markdown",
   "metadata": {},
   "source": [
    "\n",
    "**What is `random.random()`**:  \n",
    "   `random.random()` returns a random floating-point number between 0 and 1. It’s used to create a probability condition (like deciding if a product should have variants)."
   ]
  },
  {
   "cell_type": "code",
   "execution_count": 37,
   "metadata": {},
   "outputs": [],
   "source": [
    "# Constants\n",
    "PRODUCT_CATEGORIES = [\"Clothing\", \"Groceries\", \"Electronics\"]\n",
    "PRODUCTS = {\n",
    "    \"Clothing\": [\"T-shirt\", \"Jeans\", \"Jacket\"],\n",
    "    \"Groceries\": [\"Rice\", \"Pasta\", \"Olive Oil\"],\n",
    "    \"Electronics\": [\"Laptop\", \"Smartphone\", \"Headphones\", \"ipad\"]\n",
    "}\n",
    "COLORS = [\"Red\", \"Green\", \"Blue\", \"Black\", \"White\"]\n",
    "VARIANT_CHANCE = 0.5  # 50% chance of a product having variants\n",
    "\n",
    "# Generate Product Data\n",
    "def generate_products():\n",
    "    products = []\n",
    "    product_id = 1\n",
    "\n",
    "    for category, product_names in PRODUCTS.items():\n",
    "        for product in product_names:\n",
    "            # Check if product should have variants\n",
    "            if (random.random() < VARIANT_CHANCE) and (category != \"Groceries\" ):\n",
    "                # Generate variants\n",
    "                for color in random.sample(COLORS, random.randint(1, 3)):\n",
    "                    variant_name = f\"{color} {product}\"\n",
    "                    products.append({\"id\": product_id, \"category\": category, \"name\": variant_name})\n",
    "                    product_id += 1\n",
    "            else:\n",
    "                # No variants, add the product itself\n",
    "                price = round(random.uniform(10, 500), 2)\n",
    "                products.append({\"id\": product_id, \"category\": category, \"name\": product})\n",
    "                product_id += 1\n",
    "    \n",
    "    return products"
   ]
  },
  {
   "cell_type": "markdown",
   "metadata": {},
   "source": [
    "\n",
    "**What is `faker.Faker()`**:  \n",
    "   `faker.Faker()` initializes a `Faker` instance that provides access to methods for generating fake data. It acts as a generator for creating random names, addresses, emails, etc.\n",
    "\n",
    "\n",
    "**What are `faker.Faker().name()`, `faker.Faker().email()`, `faker.Faker().address()`, `faker.Faker().phone_number()`**:  \n",
    "   These methods from `Faker` generate a fake person’s name, email, address, and phone number. They are useful for simulating customer data in an e-commerce scenario."
   ]
  },
  {
   "cell_type": "code",
   "execution_count": 38,
   "metadata": {},
   "outputs": [],
   "source": [
    "# Initialize Faker\n",
    "fake = faker.Faker()\n",
    "\n",
    "# Generate Customer Data\n",
    "def generate_customers(num_customers):\n",
    "    customers = []\n",
    "    for _ in range(num_customers):\n",
    "        customers.append({\n",
    "            \"id\": fake.uuid4(),\n",
    "            \"name\": fake.name(),\n",
    "            \"email\": fake.email(),\n",
    "            \"address\": fake.address(),\n",
    "            \"phone_number\": fake.phone_number()\n",
    "        })\n",
    "    return customers\n"
   ]
  },
  {
   "cell_type": "markdown",
   "metadata": {},
   "source": [
    "\n",
    "**What are `random.choice` and `random.randint` in `generate_orders()`**:  \n",
    "   `random.choice()` selects a random item from a list (e.g., a random product or customer). `random.randint()` generates a random integer within a specified range (e.g., the number of order items).\n",
    "\n",
    "**What is `datetime.now() - timedelta(days=random.randint(1, 730))` and `random.randint(1, 5)`**:  \n",
    "   `datetime.now() - timedelta(days=random.randint(1, 730))` generates a random order date within the last two years. `random.randint(1, 5)` sets a random order quantity between 1 and 5."
   ]
  },
  {
   "cell_type": "markdown",
   "metadata": {},
   "source": [
    "  - Since, prive is dynamic and can change with time, I've put price column in orders table"
   ]
  },
  {
   "cell_type": "markdown",
   "metadata": {},
   "source": [
    "- `uuid4()` in `fake.uuid4()` generates a random unique identifier (UUID) based on random numbers, which is commonly used for creating unique IDs. The datatype is a string representing the UUID in its standard 36-character format (including hyphens)."
   ]
  },
  {
   "cell_type": "markdown",
   "metadata": {},
   "source": [
    "- The line `order_date.strftime(\"%Y-%m-%d\")` formats the `order_date` into a string that follows the `YYYY-MM-DD` format (e.g., `2023-09-30`)."
   ]
  },
  {
   "cell_type": "code",
   "execution_count": 39,
   "metadata": {},
   "outputs": [],
   "source": [
    "# Generate Order Data\n",
    "def generate_orders(products, customers, num_orders=100):\n",
    "    orders = []\n",
    "    for _ in range(num_orders):\n",
    "        customer = random.choice(customers)\n",
    "        product = random.choice(products)\n",
    "        order_date = datetime.now() - timedelta(days=random.randint(1, 730))  # Random date in the last 2 years\n",
    "        quantity = random.randint(1, 5)\n",
    "        price = round(random.uniform(10, 500), 2)  # Random price between $10 and $500\n",
    "        total_price = price * quantity\n",
    "        \n",
    "        orders.append({\n",
    "            \"order_id\": fake.uuid4(),\n",
    "            \"customer_id\": customer[\"id\"],\n",
    "            \"product_id\": product[\"id\"],\n",
    "            \"order_date\": order_date.strftime(\"%Y-%m-%d\"),\n",
    "            # The line order_date.strftime(\"%Y-%m-%d\") formats the order_date into a string that follows the YYYY-MM-DD format (e.g., 2023-09-30)\n",
    "            \"quantity\": quantity,\n",
    "            \"product_price\": price, # Since, prive is dynamic and can change with time, I've put price column in orders table\n",
    "            \"total_price\": total_price\n",
    "        })\n",
    "    \n",
    "    return orders\n"
   ]
  },
  {
   "cell_type": "code",
   "execution_count": 40,
   "metadata": {},
   "outputs": [
    {
     "name": "stdout",
     "output_type": "stream",
     "text": [
      "\n",
      "Generated Products:\n",
      " [{'id': 1, 'category': 'Clothing', 'name': 'Blue T-shirt'}, {'id': 2, 'category': 'Clothing', 'name': 'Green T-shirt'}, {'id': 3, 'category': 'Clothing', 'name': 'Black T-shirt'}, {'id': 4, 'category': 'Clothing', 'name': 'Jeans'}, {'id': 5, 'category': 'Clothing', 'name': 'Jacket'}, {'id': 6, 'category': 'Groceries', 'name': 'Rice'}, {'id': 7, 'category': 'Groceries', 'name': 'Pasta'}, {'id': 8, 'category': 'Groceries', 'name': 'Olive Oil'}, {'id': 9, 'category': 'Electronics', 'name': 'Laptop'}, {'id': 10, 'category': 'Electronics', 'name': 'Smartphone'}, {'id': 11, 'category': 'Electronics', 'name': 'Black Headphones'}, {'id': 12, 'category': 'Electronics', 'name': 'Green ipad'}, {'id': 13, 'category': 'Electronics', 'name': 'White ipad'}]\n",
      "\n",
      "Generated Customers:\n",
      " [{'id': 'c5a40999-42de-4a85-83c5-4cf45700065d', 'name': 'Eileen Paul', 'email': 'dustinwilliams@example.org', 'address': 'PSC 9272, Box 7184\\nAPO AE 85969', 'phone_number': '620-762-0385x553'}, {'id': '347063a8-c7be-4af4-b929-84cd542ca7be', 'name': 'Daniel Campbell', 'email': 'frank39@example.org', 'address': '0780 Davis Circle Suite 075\\nMargarettown, VA 99762', 'phone_number': '001-365-951-5987'}, {'id': 'eb26de72-4ace-4fbb-8741-4c23e9c36659', 'name': 'Lauren Martin', 'email': 'nwilson@example.org', 'address': 'Unit 8859 Box 3957\\nDPO AE 07282', 'phone_number': '5799441248'}, {'id': 'a04dfab3-750a-4917-8c6f-356c8e305761', 'name': 'Carol Strickland DVM', 'email': 'johnjones@example.net', 'address': '4639 Hill Crossroad\\nEast Timothy, VI 52441', 'phone_number': '302.347.1011x5493'}, {'id': 'a9a7f89c-6fbd-446d-a1bc-d036adf3357b', 'name': 'Kayla Chambers', 'email': 'staceytucker@example.org', 'address': '21199 Hardin Cliff\\nNew Michael, SD 74754', 'phone_number': '978-841-1664'}, {'id': '10b36653-5c2e-4687-8484-a63b38c30de3', 'name': 'Blake Avila', 'email': 'brianclark@example.org', 'address': '465 Moore Union Apt. 911\\nHammondport, WI 46793', 'phone_number': '+1-459-238-7783'}, {'id': '5c98172f-6e44-433d-bd70-20d711a27402', 'name': 'April Dawson', 'email': 'alexa67@example.org', 'address': '7599 Kelly Plain\\nEast Debra, OK 99731', 'phone_number': '495-214-4255x1449'}, {'id': 'b50ae06c-89f6-40fc-9c29-adab79dec19f', 'name': 'David Williams', 'email': 'hcain@example.com', 'address': '35753 Fuller Junction Apt. 959\\nPort Tamara, NC 89673', 'phone_number': '(370)306-9747x988'}, {'id': 'efa1aa96-623e-456b-a3eb-bf7e209351fd', 'name': 'William Whitehead', 'email': 'joshuabarrett@example.com', 'address': '74529 Timothy Light\\nSouth Erin, NV 16290', 'phone_number': '(489)597-2078x285'}, {'id': 'd066ce57-8668-4b27-bb5a-0f0c868967fa', 'name': 'Stacy Reid', 'email': 'jimmy26@example.net', 'address': '0864 Debra Ranch\\nLisaview, OK 12076', 'phone_number': '001-677-455-9736x0200'}]\n",
      "\n",
      "Generated Orders:\n",
      " [{'order_id': 'ecf6d453-4ede-4cd6-a0db-7e8a76d6f611', 'customer_id': '5c98172f-6e44-433d-bd70-20d711a27402', 'product_id': 4, 'order_date': '2023-06-19', 'quantity': 5, 'product_price': 420.65, 'total_price': 2103.25}, {'order_id': 'e84dbcd0-c793-4f4d-a4de-95f30086d48e', 'customer_id': 'c5a40999-42de-4a85-83c5-4cf45700065d', 'product_id': 3, 'order_date': '2023-07-13', 'quantity': 5, 'product_price': 124.98, 'total_price': 624.9}, {'order_id': 'e5e5c0c0-586d-4a6c-883a-43e40a8fbdaf', 'customer_id': 'eb26de72-4ace-4fbb-8741-4c23e9c36659', 'product_id': 3, 'order_date': '2023-08-15', 'quantity': 5, 'product_price': 180.57, 'total_price': 902.8499999999999}, {'order_id': '043d6cfd-e4d8-4371-bb52-348571cde942', 'customer_id': '10b36653-5c2e-4687-8484-a63b38c30de3', 'product_id': 5, 'order_date': '2023-09-22', 'quantity': 2, 'product_price': 376.98, 'total_price': 753.96}, {'order_id': 'ecbdf25a-423a-4198-9ee9-a5b9d07b1ede', 'customer_id': 'eb26de72-4ace-4fbb-8741-4c23e9c36659', 'product_id': 4, 'order_date': '2022-10-15', 'quantity': 2, 'product_price': 196.55, 'total_price': 393.1}, {'order_id': 'deb9cd7f-2e78-4d46-87a7-b220892db0b7', 'customer_id': 'b50ae06c-89f6-40fc-9c29-adab79dec19f', 'product_id': 10, 'order_date': '2024-07-15', 'quantity': 5, 'product_price': 348.85, 'total_price': 1744.25}, {'order_id': 'be0f12b3-da4d-49c3-8e61-a76b2346d440', 'customer_id': 'd066ce57-8668-4b27-bb5a-0f0c868967fa', 'product_id': 1, 'order_date': '2023-08-23', 'quantity': 5, 'product_price': 73.87, 'total_price': 369.35}, {'order_id': 'ad5f3180-6fb2-4e17-9d98-5bfe71c9e1c3', 'customer_id': 'b50ae06c-89f6-40fc-9c29-adab79dec19f', 'product_id': 13, 'order_date': '2024-06-10', 'quantity': 3, 'product_price': 316.93, 'total_price': 950.79}, {'order_id': '770dfb2a-eb7e-4559-addd-c1436498c58e', 'customer_id': '347063a8-c7be-4af4-b929-84cd542ca7be', 'product_id': 3, 'order_date': '2023-11-04', 'quantity': 3, 'product_price': 458.6, 'total_price': 1375.8000000000002}, {'order_id': 'c8d9a512-6743-4642-8605-ef107610a6ae', 'customer_id': 'a9a7f89c-6fbd-446d-a1bc-d036adf3357b', 'product_id': 12, 'order_date': '2023-04-12', 'quantity': 4, 'product_price': 79.21, 'total_price': 316.84}, {'order_id': '6386beff-6a6f-4eda-933b-cd7e3bcc1a21', 'customer_id': 'd066ce57-8668-4b27-bb5a-0f0c868967fa', 'product_id': 13, 'order_date': '2023-10-23', 'quantity': 3, 'product_price': 165.76, 'total_price': 497.28}, {'order_id': 'aa72ea21-2c1a-406a-a8d8-539104a02df5', 'customer_id': '5c98172f-6e44-433d-bd70-20d711a27402', 'product_id': 1, 'order_date': '2024-05-18', 'quantity': 2, 'product_price': 111.56, 'total_price': 223.12}, {'order_id': '2f1a22fe-b96a-47e8-a941-2ad54955d633', 'customer_id': 'c5a40999-42de-4a85-83c5-4cf45700065d', 'product_id': 7, 'order_date': '2023-07-06', 'quantity': 4, 'product_price': 308.29, 'total_price': 1233.16}, {'order_id': '53cb5e9d-cac2-4b1a-b482-fca5bc2de550', 'customer_id': '347063a8-c7be-4af4-b929-84cd542ca7be', 'product_id': 1, 'order_date': '2023-02-04', 'quantity': 1, 'product_price': 432.61, 'total_price': 432.61}, {'order_id': '41cae094-ce89-4fea-8eb5-666014d8d9d9', 'customer_id': '10b36653-5c2e-4687-8484-a63b38c30de3', 'product_id': 3, 'order_date': '2024-03-22', 'quantity': 1, 'product_price': 381.33, 'total_price': 381.33}, {'order_id': 'dc214dc4-6bd8-4431-9c01-f07e102369cf', 'customer_id': 'd066ce57-8668-4b27-bb5a-0f0c868967fa', 'product_id': 11, 'order_date': '2023-12-26', 'quantity': 5, 'product_price': 216.59, 'total_price': 1082.95}, {'order_id': 'e9f16629-5084-46a7-8750-627b82c9058d', 'customer_id': 'a04dfab3-750a-4917-8c6f-356c8e305761', 'product_id': 4, 'order_date': '2024-07-19', 'quantity': 3, 'product_price': 396.83, 'total_price': 1190.49}, {'order_id': 'cb013e7d-e7bf-4d43-923e-8d768eed7903', 'customer_id': '347063a8-c7be-4af4-b929-84cd542ca7be', 'product_id': 4, 'order_date': '2023-05-18', 'quantity': 3, 'product_price': 262.71, 'total_price': 788.1299999999999}, {'order_id': '2a39d51f-5ade-475f-baad-f293cfaa9f1e', 'customer_id': '347063a8-c7be-4af4-b929-84cd542ca7be', 'product_id': 12, 'order_date': '2023-05-24', 'quantity': 2, 'product_price': 279.09, 'total_price': 558.18}, {'order_id': 'ff65f403-ae9a-43aa-a5c6-145aabd2fcdf', 'customer_id': 'b50ae06c-89f6-40fc-9c29-adab79dec19f', 'product_id': 5, 'order_date': '2024-07-30', 'quantity': 4, 'product_price': 126.19, 'total_price': 504.76}, {'order_id': 'a325863b-daf4-45a7-b2d0-ac0277f6aa37', 'customer_id': 'eb26de72-4ace-4fbb-8741-4c23e9c36659', 'product_id': 13, 'order_date': '2023-10-09', 'quantity': 2, 'product_price': 349.8, 'total_price': 699.6}, {'order_id': '03f28ee1-cea7-4209-8f01-aee0c568b445', 'customer_id': '10b36653-5c2e-4687-8484-a63b38c30de3', 'product_id': 3, 'order_date': '2024-02-09', 'quantity': 1, 'product_price': 203.58, 'total_price': 203.58}, {'order_id': 'cc2b8847-0f86-4d21-a90e-689446c5ac68', 'customer_id': '347063a8-c7be-4af4-b929-84cd542ca7be', 'product_id': 13, 'order_date': '2023-01-16', 'quantity': 3, 'product_price': 353.23, 'total_price': 1059.69}, {'order_id': '178f2551-d854-430b-b980-fe093107e03f', 'customer_id': '10b36653-5c2e-4687-8484-a63b38c30de3', 'product_id': 8, 'order_date': '2023-12-22', 'quantity': 3, 'product_price': 192.68, 'total_price': 578.04}, {'order_id': '02943a70-6ab0-4f46-9340-1119310d786b', 'customer_id': 'c5a40999-42de-4a85-83c5-4cf45700065d', 'product_id': 7, 'order_date': '2024-09-20', 'quantity': 2, 'product_price': 458.23, 'total_price': 916.46}, {'order_id': 'da11df35-6f1b-4640-88f9-3971c9d7c27d', 'customer_id': '10b36653-5c2e-4687-8484-a63b38c30de3', 'product_id': 7, 'order_date': '2024-02-18', 'quantity': 4, 'product_price': 336.84, 'total_price': 1347.36}, {'order_id': '79720e3c-3fe4-4d20-9e5e-681301e61abd', 'customer_id': 'eb26de72-4ace-4fbb-8741-4c23e9c36659', 'product_id': 5, 'order_date': '2022-11-06', 'quantity': 4, 'product_price': 306.59, 'total_price': 1226.36}, {'order_id': 'c5751d4a-bbee-4249-b0a3-8398a308bfc8', 'customer_id': '10b36653-5c2e-4687-8484-a63b38c30de3', 'product_id': 2, 'order_date': '2023-10-09', 'quantity': 5, 'product_price': 299.45, 'total_price': 1497.25}, {'order_id': '6357a5d9-c7b1-4bab-8deb-ac6520d61c7b', 'customer_id': '10b36653-5c2e-4687-8484-a63b38c30de3', 'product_id': 6, 'order_date': '2023-03-08', 'quantity': 5, 'product_price': 299.01, 'total_price': 1495.05}, {'order_id': '1051f9fc-fca5-4a85-8b87-7ca7bfe7e452', 'customer_id': 'a9a7f89c-6fbd-446d-a1bc-d036adf3357b', 'product_id': 13, 'order_date': '2023-04-28', 'quantity': 2, 'product_price': 133.28, 'total_price': 266.56}, {'order_id': '4451333f-3e68-413a-9a14-1d4f80a1e928', 'customer_id': '10b36653-5c2e-4687-8484-a63b38c30de3', 'product_id': 2, 'order_date': '2023-04-02', 'quantity': 5, 'product_price': 101.05, 'total_price': 505.25}, {'order_id': '22771b16-0ee4-4602-8783-153fba275515', 'customer_id': 'eb26de72-4ace-4fbb-8741-4c23e9c36659', 'product_id': 11, 'order_date': '2024-03-04', 'quantity': 5, 'product_price': 281.07, 'total_price': 1405.35}, {'order_id': 'c7a86602-f1fd-45ba-9ffa-daaa463d9d71', 'customer_id': 'd066ce57-8668-4b27-bb5a-0f0c868967fa', 'product_id': 10, 'order_date': '2024-04-10', 'quantity': 3, 'product_price': 261.92, 'total_price': 785.76}, {'order_id': 'ff70c28a-d41e-4bb1-8db3-74f695b0e74e', 'customer_id': 'efa1aa96-623e-456b-a3eb-bf7e209351fd', 'product_id': 1, 'order_date': '2023-11-23', 'quantity': 2, 'product_price': 310.37, 'total_price': 620.74}, {'order_id': '1b4419bb-4c72-47e1-a1e5-8458e6d66fcd', 'customer_id': 'a04dfab3-750a-4917-8c6f-356c8e305761', 'product_id': 9, 'order_date': '2023-09-05', 'quantity': 2, 'product_price': 127.44, 'total_price': 254.88}, {'order_id': '9fe57a7b-3afb-415b-bb5b-3f2a53ca8cef', 'customer_id': 'd066ce57-8668-4b27-bb5a-0f0c868967fa', 'product_id': 3, 'order_date': '2024-04-20', 'quantity': 1, 'product_price': 260.31, 'total_price': 260.31}, {'order_id': '5319bbe5-454d-458d-aecb-f64674cc5735', 'customer_id': 'a04dfab3-750a-4917-8c6f-356c8e305761', 'product_id': 11, 'order_date': '2024-05-22', 'quantity': 4, 'product_price': 314.31, 'total_price': 1257.24}, {'order_id': '48661e8d-d1eb-4cb5-bc30-51c38a9c53a1', 'customer_id': 'a04dfab3-750a-4917-8c6f-356c8e305761', 'product_id': 2, 'order_date': '2022-11-07', 'quantity': 4, 'product_price': 91.46, 'total_price': 365.84}, {'order_id': 'e4917965-2b38-4b08-b8f0-f81dc99eac50', 'customer_id': 'efa1aa96-623e-456b-a3eb-bf7e209351fd', 'product_id': 11, 'order_date': '2023-11-20', 'quantity': 1, 'product_price': 286.47, 'total_price': 286.47}, {'order_id': '4015801d-9246-481b-b826-db97c1748ee9', 'customer_id': 'efa1aa96-623e-456b-a3eb-bf7e209351fd', 'product_id': 9, 'order_date': '2024-06-01', 'quantity': 1, 'product_price': 240.37, 'total_price': 240.37}, {'order_id': '40438386-0af7-4c40-8d07-87bd52c66020', 'customer_id': '5c98172f-6e44-433d-bd70-20d711a27402', 'product_id': 9, 'order_date': '2023-09-18', 'quantity': 4, 'product_price': 394.64, 'total_price': 1578.56}, {'order_id': 'eb9d00e5-b395-43a0-b55a-8e5b47091121', 'customer_id': 'd066ce57-8668-4b27-bb5a-0f0c868967fa', 'product_id': 5, 'order_date': '2024-09-09', 'quantity': 3, 'product_price': 84.69, 'total_price': 254.07}, {'order_id': '0c74701c-edac-469e-ba6a-0224a89191d7', 'customer_id': 'eb26de72-4ace-4fbb-8741-4c23e9c36659', 'product_id': 13, 'order_date': '2023-06-22', 'quantity': 3, 'product_price': 86.03, 'total_price': 258.09000000000003}, {'order_id': 'be37a648-3744-4c6c-8401-b00c86618afb', 'customer_id': 'c5a40999-42de-4a85-83c5-4cf45700065d', 'product_id': 13, 'order_date': '2023-10-27', 'quantity': 3, 'product_price': 116.09, 'total_price': 348.27}, {'order_id': '4748d63d-63b4-4271-a204-3e4ffa82d38f', 'customer_id': '10b36653-5c2e-4687-8484-a63b38c30de3', 'product_id': 4, 'order_date': '2024-07-29', 'quantity': 4, 'product_price': 147.24, 'total_price': 588.96}, {'order_id': 'e046bdd4-72f5-480f-ae4f-6bbcb3bc7874', 'customer_id': 'eb26de72-4ace-4fbb-8741-4c23e9c36659', 'product_id': 1, 'order_date': '2024-01-13', 'quantity': 3, 'product_price': 36.97, 'total_price': 110.91}, {'order_id': '1fa64dea-97be-476e-a24b-396eba9033a4', 'customer_id': 'c5a40999-42de-4a85-83c5-4cf45700065d', 'product_id': 11, 'order_date': '2023-09-19', 'quantity': 3, 'product_price': 388.18, 'total_price': 1164.54}, {'order_id': '4ac95ac8-2b1d-48a7-842c-5992fc10dd35', 'customer_id': 'b50ae06c-89f6-40fc-9c29-adab79dec19f', 'product_id': 10, 'order_date': '2023-12-10', 'quantity': 1, 'product_price': 211.13, 'total_price': 211.13}, {'order_id': '9b24943e-1cb1-4183-ad04-d6662864e560', 'customer_id': '347063a8-c7be-4af4-b929-84cd542ca7be', 'product_id': 12, 'order_date': '2023-07-17', 'quantity': 2, 'product_price': 233.85, 'total_price': 467.7}, {'order_id': '78039af5-367c-4b2d-bb5e-64c76a52f145', 'customer_id': 'a04dfab3-750a-4917-8c6f-356c8e305761', 'product_id': 2, 'order_date': '2023-07-04', 'quantity': 5, 'product_price': 297.29, 'total_price': 1486.45}, {'order_id': '11c42d80-52b6-49f6-b25f-494a971117c1', 'customer_id': 'eb26de72-4ace-4fbb-8741-4c23e9c36659', 'product_id': 3, 'order_date': '2023-04-17', 'quantity': 4, 'product_price': 296.59, 'total_price': 1186.36}, {'order_id': '880fa04d-33f1-4cca-9e2a-492f0c649792', 'customer_id': '10b36653-5c2e-4687-8484-a63b38c30de3', 'product_id': 4, 'order_date': '2023-10-14', 'quantity': 3, 'product_price': 284.97, 'total_price': 854.9100000000001}, {'order_id': '65067cf3-6a6c-46bc-8015-e1fc47c7f4e1', 'customer_id': '5c98172f-6e44-433d-bd70-20d711a27402', 'product_id': 1, 'order_date': '2023-10-24', 'quantity': 5, 'product_price': 370.67, 'total_price': 1853.3500000000001}, {'order_id': 'aa0beb5b-f8ec-4379-b1f1-601395a81a4f', 'customer_id': 'eb26de72-4ace-4fbb-8741-4c23e9c36659', 'product_id': 9, 'order_date': '2023-05-14', 'quantity': 1, 'product_price': 90.04, 'total_price': 90.04}, {'order_id': 'd6a5ddc0-eebd-4e39-861f-2383e11f65e7', 'customer_id': '5c98172f-6e44-433d-bd70-20d711a27402', 'product_id': 13, 'order_date': '2023-07-25', 'quantity': 5, 'product_price': 27.22, 'total_price': 136.1}, {'order_id': '38fdf0c5-a8f6-4293-9e92-09162d8a7131', 'customer_id': '347063a8-c7be-4af4-b929-84cd542ca7be', 'product_id': 4, 'order_date': '2023-11-21', 'quantity': 4, 'product_price': 154.66, 'total_price': 618.64}, {'order_id': '52704ab5-d4a6-4c20-9726-6fb2843bf9d8', 'customer_id': 'a04dfab3-750a-4917-8c6f-356c8e305761', 'product_id': 7, 'order_date': '2023-02-19', 'quantity': 2, 'product_price': 119.87, 'total_price': 239.74}, {'order_id': 'e697f5ae-ae24-4985-9b29-e5b0b6e5f857', 'customer_id': '347063a8-c7be-4af4-b929-84cd542ca7be', 'product_id': 13, 'order_date': '2023-01-23', 'quantity': 4, 'product_price': 491.86, 'total_price': 1967.44}, {'order_id': '41caa966-c310-4953-9a63-5e761f2fcb41', 'customer_id': 'b50ae06c-89f6-40fc-9c29-adab79dec19f', 'product_id': 7, 'order_date': '2024-06-05', 'quantity': 5, 'product_price': 189.93, 'total_price': 949.6500000000001}, {'order_id': '38610c68-e615-4850-a3d0-df09f73fc9d3', 'customer_id': '347063a8-c7be-4af4-b929-84cd542ca7be', 'product_id': 8, 'order_date': '2024-01-15', 'quantity': 2, 'product_price': 348.05, 'total_price': 696.1}, {'order_id': '2338299a-f0b5-40a6-b967-0c44e41cc76c', 'customer_id': 'efa1aa96-623e-456b-a3eb-bf7e209351fd', 'product_id': 11, 'order_date': '2023-12-22', 'quantity': 1, 'product_price': 183.85, 'total_price': 183.85}, {'order_id': '795b32e5-d7f1-4bf9-8a04-c69bb766cba8', 'customer_id': 'c5a40999-42de-4a85-83c5-4cf45700065d', 'product_id': 6, 'order_date': '2023-02-11', 'quantity': 3, 'product_price': 381.15, 'total_price': 1143.4499999999998}, {'order_id': '9b94d2f7-3e8e-4195-8eb0-a8b72d4a7b06', 'customer_id': 'efa1aa96-623e-456b-a3eb-bf7e209351fd', 'product_id': 3, 'order_date': '2023-09-05', 'quantity': 1, 'product_price': 88.96, 'total_price': 88.96}, {'order_id': '48d11ec8-c312-4680-8a9f-702803b57039', 'customer_id': 'a04dfab3-750a-4917-8c6f-356c8e305761', 'product_id': 1, 'order_date': '2024-09-17', 'quantity': 5, 'product_price': 53.21, 'total_price': 266.05}, {'order_id': 'a73deffe-26e5-4c14-af4d-1402d1437a9a', 'customer_id': 'eb26de72-4ace-4fbb-8741-4c23e9c36659', 'product_id': 7, 'order_date': '2024-07-29', 'quantity': 2, 'product_price': 339.72, 'total_price': 679.44}, {'order_id': '8fdb99e7-ee95-4ed7-bf1c-ef13f24c4454', 'customer_id': 'efa1aa96-623e-456b-a3eb-bf7e209351fd', 'product_id': 2, 'order_date': '2023-12-10', 'quantity': 1, 'product_price': 194.58, 'total_price': 194.58}, {'order_id': 'd608cb11-4b33-4398-80da-b4c7ee37ac6a', 'customer_id': 'd066ce57-8668-4b27-bb5a-0f0c868967fa', 'product_id': 1, 'order_date': '2023-06-04', 'quantity': 5, 'product_price': 498.37, 'total_price': 2491.85}, {'order_id': 'e792c015-ccfe-4ca2-976d-977bffdf38ac', 'customer_id': '347063a8-c7be-4af4-b929-84cd542ca7be', 'product_id': 7, 'order_date': '2023-07-20', 'quantity': 4, 'product_price': 367.02, 'total_price': 1468.08}, {'order_id': '35aac30e-3b18-42dc-a630-19ca1859cefa', 'customer_id': 'b50ae06c-89f6-40fc-9c29-adab79dec19f', 'product_id': 3, 'order_date': '2024-05-03', 'quantity': 2, 'product_price': 251.15, 'total_price': 502.3}, {'order_id': '9803f0f5-cd49-478b-a17c-96ff7ffde508', 'customer_id': 'd066ce57-8668-4b27-bb5a-0f0c868967fa', 'product_id': 7, 'order_date': '2024-07-27', 'quantity': 1, 'product_price': 130.12, 'total_price': 130.12}, {'order_id': 'd1fecfdf-9686-453d-8eb1-6cae356c05da', 'customer_id': 'd066ce57-8668-4b27-bb5a-0f0c868967fa', 'product_id': 13, 'order_date': '2023-09-16', 'quantity': 4, 'product_price': 220.71, 'total_price': 882.84}, {'order_id': '27ed9b19-bac4-4414-951a-fcee4b2733f5', 'customer_id': 'a9a7f89c-6fbd-446d-a1bc-d036adf3357b', 'product_id': 11, 'order_date': '2023-10-30', 'quantity': 4, 'product_price': 288.3, 'total_price': 1153.2}, {'order_id': 'd1fdb0e8-ede6-4bb6-a7aa-e1fdd0a49f1c', 'customer_id': 'b50ae06c-89f6-40fc-9c29-adab79dec19f', 'product_id': 1, 'order_date': '2023-11-16', 'quantity': 3, 'product_price': 27.44, 'total_price': 82.32000000000001}, {'order_id': '5622f48a-5c78-40f2-905a-941cb713b1ca', 'customer_id': 'b50ae06c-89f6-40fc-9c29-adab79dec19f', 'product_id': 13, 'order_date': '2022-12-15', 'quantity': 1, 'product_price': 95.59, 'total_price': 95.59}, {'order_id': '6ca9ee68-2910-4276-8391-7345da2c9f12', 'customer_id': 'eb26de72-4ace-4fbb-8741-4c23e9c36659', 'product_id': 10, 'order_date': '2023-02-26', 'quantity': 1, 'product_price': 379.86, 'total_price': 379.86}, {'order_id': 'd918e80c-a134-40c8-b837-2c9565a1d91f', 'customer_id': '10b36653-5c2e-4687-8484-a63b38c30de3', 'product_id': 5, 'order_date': '2024-04-02', 'quantity': 2, 'product_price': 230.63, 'total_price': 461.26}, {'order_id': '51c909d9-2ee8-4a2e-8de1-297b903222b6', 'customer_id': 'eb26de72-4ace-4fbb-8741-4c23e9c36659', 'product_id': 9, 'order_date': '2024-08-01', 'quantity': 3, 'product_price': 266.45, 'total_price': 799.3499999999999}, {'order_id': 'e38cfd48-2726-4198-bf1c-a1455b45862a', 'customer_id': 'b50ae06c-89f6-40fc-9c29-adab79dec19f', 'product_id': 9, 'order_date': '2024-09-10', 'quantity': 2, 'product_price': 63.09, 'total_price': 126.18}, {'order_id': '821e237f-c761-408d-aa72-7a2f7767efc5', 'customer_id': 'b50ae06c-89f6-40fc-9c29-adab79dec19f', 'product_id': 13, 'order_date': '2023-07-12', 'quantity': 2, 'product_price': 174.1, 'total_price': 348.2}, {'order_id': '991ea7e8-ef12-48c0-b202-1ec13f7c2bee', 'customer_id': 'a04dfab3-750a-4917-8c6f-356c8e305761', 'product_id': 7, 'order_date': '2022-10-12', 'quantity': 3, 'product_price': 389.98, 'total_price': 1169.94}, {'order_id': '8983df17-0346-481c-8c3f-ea341936b930', 'customer_id': 'a04dfab3-750a-4917-8c6f-356c8e305761', 'product_id': 5, 'order_date': '2023-08-07', 'quantity': 5, 'product_price': 499.01, 'total_price': 2495.05}, {'order_id': '5d31f228-76b8-446c-a394-e5ddd6521ce8', 'customer_id': '347063a8-c7be-4af4-b929-84cd542ca7be', 'product_id': 12, 'order_date': '2022-12-13', 'quantity': 1, 'product_price': 475.32, 'total_price': 475.32}, {'order_id': '5da04e1d-443b-46ad-a4cd-374ae360906e', 'customer_id': '347063a8-c7be-4af4-b929-84cd542ca7be', 'product_id': 5, 'order_date': '2023-05-22', 'quantity': 2, 'product_price': 114.53, 'total_price': 229.06}, {'order_id': '002eec3f-08d8-45bf-a49d-665c0e95062f', 'customer_id': 'c5a40999-42de-4a85-83c5-4cf45700065d', 'product_id': 7, 'order_date': '2024-04-14', 'quantity': 2, 'product_price': 281.8, 'total_price': 563.6}, {'order_id': 'b3ee9486-3f79-4847-bb80-848e9ba4e74d', 'customer_id': 'a9a7f89c-6fbd-446d-a1bc-d036adf3357b', 'product_id': 7, 'order_date': '2023-01-17', 'quantity': 2, 'product_price': 360.07, 'total_price': 720.14}, {'order_id': '309c9587-fa7f-43ae-bd07-1c0e1f31e721', 'customer_id': 'a04dfab3-750a-4917-8c6f-356c8e305761', 'product_id': 4, 'order_date': '2023-10-23', 'quantity': 1, 'product_price': 316.72, 'total_price': 316.72}, {'order_id': 'b0a83b6f-6548-486b-b692-b3ecee74cfe0', 'customer_id': '5c98172f-6e44-433d-bd70-20d711a27402', 'product_id': 7, 'order_date': '2023-10-17', 'quantity': 3, 'product_price': 223.62, 'total_price': 670.86}, {'order_id': '20d8b8df-128f-4b97-866f-393a972102ab', 'customer_id': '347063a8-c7be-4af4-b929-84cd542ca7be', 'product_id': 12, 'order_date': '2023-10-03', 'quantity': 1, 'product_price': 443.87, 'total_price': 443.87}, {'order_id': 'dcb23db3-7339-48b2-a5db-897f74f04349', 'customer_id': '347063a8-c7be-4af4-b929-84cd542ca7be', 'product_id': 8, 'order_date': '2023-04-02', 'quantity': 3, 'product_price': 137.2, 'total_price': 411.59999999999997}, {'order_id': '08b9e0b9-9cba-41e6-8e18-785e913b06f1', 'customer_id': 'c5a40999-42de-4a85-83c5-4cf45700065d', 'product_id': 2, 'order_date': '2023-05-08', 'quantity': 4, 'product_price': 236.36, 'total_price': 945.44}, {'order_id': 'f7af6db1-68b3-4277-8ea0-2501d9610ec7', 'customer_id': '5c98172f-6e44-433d-bd70-20d711a27402', 'product_id': 2, 'order_date': '2023-01-08', 'quantity': 1, 'product_price': 346.3, 'total_price': 346.3}, {'order_id': 'a6ba88fa-60e3-427c-9637-4662dcecc097', 'customer_id': '347063a8-c7be-4af4-b929-84cd542ca7be', 'product_id': 2, 'order_date': '2024-04-04', 'quantity': 5, 'product_price': 361.93, 'total_price': 1809.65}, {'order_id': 'afd3edca-3fc4-4f32-a24a-6def1a196537', 'customer_id': 'efa1aa96-623e-456b-a3eb-bf7e209351fd', 'product_id': 12, 'order_date': '2024-06-17', 'quantity': 4, 'product_price': 50.64, 'total_price': 202.56}, {'order_id': '40ade0ca-1f76-45f3-93f3-d4a28d186492', 'customer_id': 'a9a7f89c-6fbd-446d-a1bc-d036adf3357b', 'product_id': 3, 'order_date': '2024-05-13', 'quantity': 1, 'product_price': 220.23, 'total_price': 220.23}, {'order_id': 'a7d99935-fde6-4a44-986f-0e7deafe9d1f', 'customer_id': 'a04dfab3-750a-4917-8c6f-356c8e305761', 'product_id': 10, 'order_date': '2024-08-09', 'quantity': 5, 'product_price': 459.84, 'total_price': 2299.2}, {'order_id': '9e105a40-4952-4e9e-b8c2-8685d63b0442', 'customer_id': 'a9a7f89c-6fbd-446d-a1bc-d036adf3357b', 'product_id': 2, 'order_date': '2023-08-31', 'quantity': 2, 'product_price': 92.87, 'total_price': 185.74}, {'order_id': 'a457bae0-4a77-4cb0-a6c9-6a130004e66b', 'customer_id': 'b50ae06c-89f6-40fc-9c29-adab79dec19f', 'product_id': 8, 'order_date': '2022-10-01', 'quantity': 4, 'product_price': 123.6, 'total_price': 494.4}, {'order_id': '7bd1cb00-8046-40db-81e9-7e18665d972d', 'customer_id': '10b36653-5c2e-4687-8484-a63b38c30de3', 'product_id': 10, 'order_date': '2023-03-30', 'quantity': 3, 'product_price': 386.4, 'total_price': 1159.1999999999998}, {'order_id': '06279dbc-c6d9-42bc-a01e-07fb6ca507cf', 'customer_id': 'a9a7f89c-6fbd-446d-a1bc-d036adf3357b', 'product_id': 5, 'order_date': '2023-08-11', 'quantity': 5, 'product_price': 101.68, 'total_price': 508.40000000000003}, {'order_id': 'bfd82d65-a764-492c-beb4-8411065cb5ee', 'customer_id': 'a04dfab3-750a-4917-8c6f-356c8e305761', 'product_id': 7, 'order_date': '2023-01-19', 'quantity': 2, 'product_price': 432.53, 'total_price': 865.06}, {'order_id': '1c1aa469-533e-4e22-9442-3b4317753fca', 'customer_id': 'eb26de72-4ace-4fbb-8741-4c23e9c36659', 'product_id': 1, 'order_date': '2023-01-03', 'quantity': 1, 'product_price': 313.72, 'total_price': 313.72}, {'order_id': 'dc696d02-1e4f-4255-919d-5b9869273c92', 'customer_id': 'a9a7f89c-6fbd-446d-a1bc-d036adf3357b', 'product_id': 13, 'order_date': '2024-04-08', 'quantity': 2, 'product_price': 151.04, 'total_price': 302.08}, {'order_id': '4d0b4e72-0b7d-434e-b2d9-72cab4072900', 'customer_id': 'a04dfab3-750a-4917-8c6f-356c8e305761', 'product_id': 8, 'order_date': '2022-12-01', 'quantity': 4, 'product_price': 146.79, 'total_price': 587.16}, {'order_id': 'dd8b0050-9f7f-4426-b70e-2bc0d038f2ac', 'customer_id': 'd066ce57-8668-4b27-bb5a-0f0c868967fa', 'product_id': 10, 'order_date': '2022-12-12', 'quantity': 4, 'product_price': 322.12, 'total_price': 1288.48}, {'order_id': 'd19619a1-01d3-477c-b25f-8b59242bf1bc', 'customer_id': '10b36653-5c2e-4687-8484-a63b38c30de3', 'product_id': 9, 'order_date': '2024-06-02', 'quantity': 1, 'product_price': 88.06, 'total_price': 88.06}, {'order_id': '8b4e6f1a-cbc5-4a58-a95d-d0b16a85f7df', 'customer_id': 'a04dfab3-750a-4917-8c6f-356c8e305761', 'product_id': 8, 'order_date': '2023-09-09', 'quantity': 1, 'product_price': 268.81, 'total_price': 268.81}, {'order_id': 'ac3b2393-8504-4144-b19e-f369aa04d91c', 'customer_id': 'efa1aa96-623e-456b-a3eb-bf7e209351fd', 'product_id': 7, 'order_date': '2023-12-28', 'quantity': 1, 'product_price': 223.87, 'total_price': 223.87}, {'order_id': 'fe1877d7-f367-42bb-9376-8d16c362e8d0', 'customer_id': 'a04dfab3-750a-4917-8c6f-356c8e305761', 'product_id': 13, 'order_date': '2023-03-09', 'quantity': 3, 'product_price': 415.51, 'total_price': 1246.53}, {'order_id': '45bcd069-8034-4ec0-9ab4-d68f22d219c3', 'customer_id': 'c5a40999-42de-4a85-83c5-4cf45700065d', 'product_id': 3, 'order_date': '2023-07-12', 'quantity': 1, 'product_price': 37.02, 'total_price': 37.02}, {'order_id': '51057428-a6fc-4c59-aa5f-1e29d6cbbda5', 'customer_id': 'a04dfab3-750a-4917-8c6f-356c8e305761', 'product_id': 4, 'order_date': '2024-01-27', 'quantity': 3, 'product_price': 100.58, 'total_price': 301.74}, {'order_id': 'dae6e329-38dd-4550-b05b-ae496433b8e5', 'customer_id': '10b36653-5c2e-4687-8484-a63b38c30de3', 'product_id': 11, 'order_date': '2022-10-01', 'quantity': 2, 'product_price': 369.66, 'total_price': 739.32}, {'order_id': '7828b7e4-540f-41fc-b7e2-bf6f4371e1d7', 'customer_id': 'd066ce57-8668-4b27-bb5a-0f0c868967fa', 'product_id': 10, 'order_date': '2023-08-07', 'quantity': 2, 'product_price': 216.15, 'total_price': 432.3}, {'order_id': '37d73210-8579-4ad0-8064-362404d06eda', 'customer_id': 'd066ce57-8668-4b27-bb5a-0f0c868967fa', 'product_id': 6, 'order_date': '2023-06-23', 'quantity': 3, 'product_price': 38.69, 'total_price': 116.07}, {'order_id': 'abdc780b-5017-4208-a7ce-56baf4c17899', 'customer_id': 'c5a40999-42de-4a85-83c5-4cf45700065d', 'product_id': 10, 'order_date': '2023-03-08', 'quantity': 5, 'product_price': 170.9, 'total_price': 854.5}, {'order_id': 'b394ef3b-fb5f-479d-b1da-1c437f3affcd', 'customer_id': 'eb26de72-4ace-4fbb-8741-4c23e9c36659', 'product_id': 9, 'order_date': '2023-07-24', 'quantity': 5, 'product_price': 305.37, 'total_price': 1526.85}, {'order_id': '1950f332-e713-4e4e-8c6b-558813b8b670', 'customer_id': 'efa1aa96-623e-456b-a3eb-bf7e209351fd', 'product_id': 8, 'order_date': '2022-10-10', 'quantity': 3, 'product_price': 114.59, 'total_price': 343.77}, {'order_id': '2c7e6878-eae7-47cf-9fa5-219bffab129d', 'customer_id': '347063a8-c7be-4af4-b929-84cd542ca7be', 'product_id': 11, 'order_date': '2024-08-17', 'quantity': 4, 'product_price': 86.12, 'total_price': 344.48}, {'order_id': '410df567-ca35-414c-9426-cca4b11a98df', 'customer_id': '5c98172f-6e44-433d-bd70-20d711a27402', 'product_id': 12, 'order_date': '2023-05-17', 'quantity': 1, 'product_price': 313.23, 'total_price': 313.23}, {'order_id': '6f9179ec-8a85-4a9b-8962-d9b53c2983be', 'customer_id': 'eb26de72-4ace-4fbb-8741-4c23e9c36659', 'product_id': 6, 'order_date': '2024-02-11', 'quantity': 4, 'product_price': 166.19, 'total_price': 664.76}, {'order_id': 'efc03e70-b5c8-4b46-a43f-e9a95bc7f335', 'customer_id': 'c5a40999-42de-4a85-83c5-4cf45700065d', 'product_id': 2, 'order_date': '2023-04-16', 'quantity': 1, 'product_price': 373.86, 'total_price': 373.86}, {'order_id': 'c8c3cdee-aa96-4226-98df-18395f54b34d', 'customer_id': 'eb26de72-4ace-4fbb-8741-4c23e9c36659', 'product_id': 10, 'order_date': '2024-03-10', 'quantity': 3, 'product_price': 417.42, 'total_price': 1252.26}, {'order_id': 'eaa67cdb-f8fe-4204-b870-f7adc3e3c5e8', 'customer_id': 'd066ce57-8668-4b27-bb5a-0f0c868967fa', 'product_id': 10, 'order_date': '2023-01-30', 'quantity': 4, 'product_price': 39.47, 'total_price': 157.88}, {'order_id': '43988330-61ce-42e1-8793-f6cd03c0e56d', 'customer_id': 'd066ce57-8668-4b27-bb5a-0f0c868967fa', 'product_id': 6, 'order_date': '2024-04-22', 'quantity': 3, 'product_price': 28.72, 'total_price': 86.16}, {'order_id': 'ea4b323b-856c-4d0a-8d5b-efe721e3aca0', 'customer_id': '5c98172f-6e44-433d-bd70-20d711a27402', 'product_id': 4, 'order_date': '2023-03-25', 'quantity': 1, 'product_price': 273.2, 'total_price': 273.2}, {'order_id': 'df5ce797-a6a0-4930-b576-b94fcfd81469', 'customer_id': 'd066ce57-8668-4b27-bb5a-0f0c868967fa', 'product_id': 10, 'order_date': '2024-09-27', 'quantity': 2, 'product_price': 317.6, 'total_price': 635.2}, {'order_id': '06d27c29-a438-450f-9397-aac18405c760', 'customer_id': 'efa1aa96-623e-456b-a3eb-bf7e209351fd', 'product_id': 9, 'order_date': '2023-12-13', 'quantity': 5, 'product_price': 32.98, 'total_price': 164.89999999999998}, {'order_id': 'daa8c920-efa2-4970-9623-17f9d8152357', 'customer_id': 'd066ce57-8668-4b27-bb5a-0f0c868967fa', 'product_id': 1, 'order_date': '2024-04-22', 'quantity': 3, 'product_price': 180.78, 'total_price': 542.34}, {'order_id': '8c17157b-2d98-40eb-8ece-932e1d8ce290', 'customer_id': 'efa1aa96-623e-456b-a3eb-bf7e209351fd', 'product_id': 1, 'order_date': '2023-08-03', 'quantity': 2, 'product_price': 318.42, 'total_price': 636.84}, {'order_id': '72deb963-e876-42ae-bf05-62e32f3c0104', 'customer_id': '10b36653-5c2e-4687-8484-a63b38c30de3', 'product_id': 8, 'order_date': '2023-05-21', 'quantity': 3, 'product_price': 94.55, 'total_price': 283.65}, {'order_id': 'fc5cd37a-b55b-4318-968e-da07b891f4f1', 'customer_id': '10b36653-5c2e-4687-8484-a63b38c30de3', 'product_id': 2, 'order_date': '2024-07-24', 'quantity': 5, 'product_price': 175.47, 'total_price': 877.35}, {'order_id': 'fb808dfc-3d98-4e39-b1de-29ecce7e411e', 'customer_id': '10b36653-5c2e-4687-8484-a63b38c30de3', 'product_id': 6, 'order_date': '2024-07-06', 'quantity': 4, 'product_price': 101.5, 'total_price': 406.0}, {'order_id': '826b8909-f4c1-407e-9bd2-f5032ea4519b', 'customer_id': 'd066ce57-8668-4b27-bb5a-0f0c868967fa', 'product_id': 13, 'order_date': '2022-10-23', 'quantity': 2, 'product_price': 33.43, 'total_price': 66.86}, {'order_id': '7de22f2e-7fcd-4b3d-8db7-f6828f8b4f25', 'customer_id': 'eb26de72-4ace-4fbb-8741-4c23e9c36659', 'product_id': 1, 'order_date': '2023-03-21', 'quantity': 1, 'product_price': 220.37, 'total_price': 220.37}, {'order_id': '433a6acd-8996-4da9-9a11-08848618b167', 'customer_id': 'b50ae06c-89f6-40fc-9c29-adab79dec19f', 'product_id': 1, 'order_date': '2023-01-15', 'quantity': 3, 'product_price': 292.89, 'total_price': 878.67}, {'order_id': 'da1f24a1-b9e4-4031-ad68-ba495820e536', 'customer_id': 'a9a7f89c-6fbd-446d-a1bc-d036adf3357b', 'product_id': 12, 'order_date': '2022-12-05', 'quantity': 2, 'product_price': 458.61, 'total_price': 917.22}, {'order_id': '28d80c2b-76c1-4ad9-baa5-d19fa30264b2', 'customer_id': 'b50ae06c-89f6-40fc-9c29-adab79dec19f', 'product_id': 3, 'order_date': '2024-06-19', 'quantity': 1, 'product_price': 106.74, 'total_price': 106.74}, {'order_id': 'b4c44751-cce9-404a-a2de-7cd6b2d340cf', 'customer_id': '347063a8-c7be-4af4-b929-84cd542ca7be', 'product_id': 7, 'order_date': '2022-12-11', 'quantity': 5, 'product_price': 252.03, 'total_price': 1260.15}, {'order_id': '6d1e161e-230a-4e80-bfd6-e9f736aa1401', 'customer_id': '347063a8-c7be-4af4-b929-84cd542ca7be', 'product_id': 13, 'order_date': '2023-01-10', 'quantity': 1, 'product_price': 26.27, 'total_price': 26.27}, {'order_id': 'b60d2aa8-163e-4fde-a9f7-c0e864f756c3', 'customer_id': 'efa1aa96-623e-456b-a3eb-bf7e209351fd', 'product_id': 1, 'order_date': '2022-12-17', 'quantity': 5, 'product_price': 170.49, 'total_price': 852.45}, {'order_id': 'b9aad866-be60-41dc-a8b0-aa8f1154c152', 'customer_id': 'c5a40999-42de-4a85-83c5-4cf45700065d', 'product_id': 13, 'order_date': '2023-08-15', 'quantity': 4, 'product_price': 232.31, 'total_price': 929.24}, {'order_id': 'f464901a-0335-4ce7-9a89-5d46fac5c6e6', 'customer_id': 'c5a40999-42de-4a85-83c5-4cf45700065d', 'product_id': 8, 'order_date': '2023-05-29', 'quantity': 2, 'product_price': 67.81, 'total_price': 135.62}, {'order_id': '8340dfc3-fed5-4399-b046-944bf7f42b57', 'customer_id': 'b50ae06c-89f6-40fc-9c29-adab79dec19f', 'product_id': 6, 'order_date': '2023-04-18', 'quantity': 2, 'product_price': 239.19, 'total_price': 478.38}, {'order_id': '9a264e04-fb31-4263-8139-323e2f989ffd', 'customer_id': 'eb26de72-4ace-4fbb-8741-4c23e9c36659', 'product_id': 2, 'order_date': '2023-02-12', 'quantity': 5, 'product_price': 337.49, 'total_price': 1687.45}, {'order_id': 'fe8d052f-e04a-43b1-910d-b705659e2a8c', 'customer_id': 'd066ce57-8668-4b27-bb5a-0f0c868967fa', 'product_id': 2, 'order_date': '2023-01-11', 'quantity': 1, 'product_price': 260.28, 'total_price': 260.28}, {'order_id': '040f1675-0647-4abb-8314-501594e1a77a', 'customer_id': '5c98172f-6e44-433d-bd70-20d711a27402', 'product_id': 10, 'order_date': '2023-01-06', 'quantity': 2, 'product_price': 342.44, 'total_price': 684.88}, {'order_id': 'f3a29a87-628b-40a3-8320-6940cbfb374c', 'customer_id': 'eb26de72-4ace-4fbb-8741-4c23e9c36659', 'product_id': 1, 'order_date': '2024-03-19', 'quantity': 2, 'product_price': 86.01, 'total_price': 172.02}, {'order_id': '5f00bbb7-761c-4266-9c42-df225acf1385', 'customer_id': 'a9a7f89c-6fbd-446d-a1bc-d036adf3357b', 'product_id': 3, 'order_date': '2023-11-07', 'quantity': 3, 'product_price': 139.35, 'total_price': 418.04999999999995}, {'order_id': '6d25af64-91ae-4132-a2dc-e9aeeae0fcd5', 'customer_id': 'd066ce57-8668-4b27-bb5a-0f0c868967fa', 'product_id': 3, 'order_date': '2024-07-07', 'quantity': 2, 'product_price': 207.49, 'total_price': 414.98}, {'order_id': 'a2057c0d-aceb-45e0-9e49-9853e0c6b7d3', 'customer_id': 'b50ae06c-89f6-40fc-9c29-adab79dec19f', 'product_id': 8, 'order_date': '2024-01-29', 'quantity': 3, 'product_price': 439.06, 'total_price': 1317.18}, {'order_id': '4f4dd65c-7ea0-4fba-a0f2-b4671c2643b6', 'customer_id': '347063a8-c7be-4af4-b929-84cd542ca7be', 'product_id': 9, 'order_date': '2024-05-13', 'quantity': 3, 'product_price': 321.81, 'total_price': 965.4300000000001}, {'order_id': '35e8e529-5eb8-41a9-8121-aad1c46b1a30', 'customer_id': '347063a8-c7be-4af4-b929-84cd542ca7be', 'product_id': 6, 'order_date': '2024-08-10', 'quantity': 3, 'product_price': 422.71, 'total_price': 1268.1299999999999}, {'order_id': '09a76b05-0f92-47f8-961c-4aa4786ee6d6', 'customer_id': 'c5a40999-42de-4a85-83c5-4cf45700065d', 'product_id': 6, 'order_date': '2023-04-25', 'quantity': 4, 'product_price': 199.11, 'total_price': 796.44}, {'order_id': 'aefcefd7-d815-48bc-b60f-3635bdc984c7', 'customer_id': '10b36653-5c2e-4687-8484-a63b38c30de3', 'product_id': 9, 'order_date': '2024-08-15', 'quantity': 5, 'product_price': 257.14, 'total_price': 1285.6999999999998}, {'order_id': '9577f731-c8ab-440c-9a0a-570f1351f912', 'customer_id': 'd066ce57-8668-4b27-bb5a-0f0c868967fa', 'product_id': 2, 'order_date': '2023-08-22', 'quantity': 2, 'product_price': 421.9, 'total_price': 843.8}, {'order_id': 'b7d3eac5-0339-45a6-bfd0-361976797fd2', 'customer_id': 'efa1aa96-623e-456b-a3eb-bf7e209351fd', 'product_id': 11, 'order_date': '2024-07-08', 'quantity': 5, 'product_price': 404.12, 'total_price': 2020.6}, {'order_id': '792363aa-095c-46d7-a333-a4b0f5dec038', 'customer_id': '347063a8-c7be-4af4-b929-84cd542ca7be', 'product_id': 5, 'order_date': '2023-08-01', 'quantity': 2, 'product_price': 235.1, 'total_price': 470.2}, {'order_id': '93e77d79-2e58-4732-8406-134d3b7c233d', 'customer_id': 'a04dfab3-750a-4917-8c6f-356c8e305761', 'product_id': 12, 'order_date': '2022-11-06', 'quantity': 5, 'product_price': 467.35, 'total_price': 2336.75}, {'order_id': 'bf5442c1-5deb-42fd-8cda-4386522988f2', 'customer_id': 'b50ae06c-89f6-40fc-9c29-adab79dec19f', 'product_id': 3, 'order_date': '2023-01-07', 'quantity': 4, 'product_price': 99.07, 'total_price': 396.28}, {'order_id': '25c59ba8-958d-4fe7-9c99-4452e0ffc2fc', 'customer_id': 'eb26de72-4ace-4fbb-8741-4c23e9c36659', 'product_id': 8, 'order_date': '2024-07-05', 'quantity': 5, 'product_price': 383.22, 'total_price': 1916.1000000000001}, {'order_id': '812096c3-e97b-4d17-92d5-1c8eea71a0c1', 'customer_id': 'a9a7f89c-6fbd-446d-a1bc-d036adf3357b', 'product_id': 8, 'order_date': '2022-10-20', 'quantity': 4, 'product_price': 255.19, 'total_price': 1020.76}, {'order_id': '423fc90e-11fa-4ab6-889f-4cd5ee02fc42', 'customer_id': 'a04dfab3-750a-4917-8c6f-356c8e305761', 'product_id': 2, 'order_date': '2023-06-06', 'quantity': 1, 'product_price': 269.59, 'total_price': 269.59}, {'order_id': 'afb8ac98-8343-4175-95d3-4d104b0c1ca9', 'customer_id': 'c5a40999-42de-4a85-83c5-4cf45700065d', 'product_id': 11, 'order_date': '2023-04-14', 'quantity': 4, 'product_price': 135.21, 'total_price': 540.84}, {'order_id': '2bf64bf8-c650-4b8c-9ee5-acb8b2bee5b9', 'customer_id': 'd066ce57-8668-4b27-bb5a-0f0c868967fa', 'product_id': 2, 'order_date': '2023-05-17', 'quantity': 3, 'product_price': 229.79, 'total_price': 689.37}, {'order_id': '772c8397-f073-4c2a-8531-a774b57cc81d', 'customer_id': '5c98172f-6e44-433d-bd70-20d711a27402', 'product_id': 2, 'order_date': '2023-12-13', 'quantity': 3, 'product_price': 357.35, 'total_price': 1072.0500000000002}, {'order_id': '0b27d3e2-c186-4304-90b4-5145edaf42ba', 'customer_id': 'eb26de72-4ace-4fbb-8741-4c23e9c36659', 'product_id': 12, 'order_date': '2024-03-21', 'quantity': 1, 'product_price': 347.93, 'total_price': 347.93}, {'order_id': 'c45187ea-e966-4c84-a6dc-417acb37ccae', 'customer_id': '5c98172f-6e44-433d-bd70-20d711a27402', 'product_id': 10, 'order_date': '2022-12-25', 'quantity': 4, 'product_price': 483.69, 'total_price': 1934.76}, {'order_id': '8ed3543a-6a2b-4c6c-966b-9a1c84449d77', 'customer_id': 'a9a7f89c-6fbd-446d-a1bc-d036adf3357b', 'product_id': 7, 'order_date': '2023-08-22', 'quantity': 5, 'product_price': 400.7, 'total_price': 2003.5}, {'order_id': '963dfa7e-e4dd-44f0-baec-04235f44e09d', 'customer_id': '347063a8-c7be-4af4-b929-84cd542ca7be', 'product_id': 3, 'order_date': '2023-07-05', 'quantity': 1, 'product_price': 273.77, 'total_price': 273.77}, {'order_id': '47a8afe9-fbb4-4ad6-9bf3-971395fce3a3', 'customer_id': '5c98172f-6e44-433d-bd70-20d711a27402', 'product_id': 1, 'order_date': '2022-11-30', 'quantity': 3, 'product_price': 277.69, 'total_price': 833.0699999999999}, {'order_id': 'a0fe1a21-286e-4c40-be75-450ff8b40192', 'customer_id': '10b36653-5c2e-4687-8484-a63b38c30de3', 'product_id': 10, 'order_date': '2023-11-26', 'quantity': 2, 'product_price': 266.76, 'total_price': 533.52}, {'order_id': '2847d878-99f8-4571-99de-6b1766a59d46', 'customer_id': 'eb26de72-4ace-4fbb-8741-4c23e9c36659', 'product_id': 3, 'order_date': '2024-04-18', 'quantity': 2, 'product_price': 87.47, 'total_price': 174.94}, {'order_id': 'e98977a3-1ba7-4951-9be0-f11104a7a723', 'customer_id': 'efa1aa96-623e-456b-a3eb-bf7e209351fd', 'product_id': 9, 'order_date': '2024-06-26', 'quantity': 5, 'product_price': 451.72, 'total_price': 2258.6000000000004}, {'order_id': 'd7644cbb-9a38-4dcb-a6bf-13afec2dd8c7', 'customer_id': 'a9a7f89c-6fbd-446d-a1bc-d036adf3357b', 'product_id': 10, 'order_date': '2023-04-02', 'quantity': 3, 'product_price': 12.33, 'total_price': 36.99}, {'order_id': '8150ffb7-6746-44e1-ad0e-902a1babdd6d', 'customer_id': 'efa1aa96-623e-456b-a3eb-bf7e209351fd', 'product_id': 1, 'order_date': '2023-07-24', 'quantity': 2, 'product_price': 202.83, 'total_price': 405.66}, {'order_id': 'ac20e469-8d98-4883-9bfa-9dcb0cd1c5cc', 'customer_id': '5c98172f-6e44-433d-bd70-20d711a27402', 'product_id': 7, 'order_date': '2024-03-30', 'quantity': 3, 'product_price': 408.88, 'total_price': 1226.6399999999999}, {'order_id': 'c6ecff1a-11fa-4252-b5e4-f50cb2c45c40', 'customer_id': 'a9a7f89c-6fbd-446d-a1bc-d036adf3357b', 'product_id': 7, 'order_date': '2023-04-25', 'quantity': 1, 'product_price': 180.73, 'total_price': 180.73}, {'order_id': '489d91f0-aa0c-44fa-9841-b060d30a81bf', 'customer_id': 'efa1aa96-623e-456b-a3eb-bf7e209351fd', 'product_id': 6, 'order_date': '2023-07-18', 'quantity': 5, 'product_price': 232.52, 'total_price': 1162.6000000000001}, {'order_id': '85875edd-6112-409d-88e2-2722e8ea67ed', 'customer_id': 'b50ae06c-89f6-40fc-9c29-adab79dec19f', 'product_id': 5, 'order_date': '2023-08-09', 'quantity': 4, 'product_price': 47.28, 'total_price': 189.12}, {'order_id': '7423c663-ec08-4196-a58f-fa38e502d45a', 'customer_id': '347063a8-c7be-4af4-b929-84cd542ca7be', 'product_id': 10, 'order_date': '2023-07-01', 'quantity': 2, 'product_price': 183.62, 'total_price': 367.24}, {'order_id': 'a3753e11-ed3c-4109-9d06-9f9534e45f2d', 'customer_id': 'd066ce57-8668-4b27-bb5a-0f0c868967fa', 'product_id': 1, 'order_date': '2023-06-12', 'quantity': 3, 'product_price': 112.07, 'total_price': 336.21}, {'order_id': 'df1c3d15-05b9-44a4-a7eb-92979544560d', 'customer_id': '5c98172f-6e44-433d-bd70-20d711a27402', 'product_id': 8, 'order_date': '2024-07-01', 'quantity': 2, 'product_price': 224.75, 'total_price': 449.5}, {'order_id': '70d2137e-e1dd-45e6-aad6-7d6ef7ce90cf', 'customer_id': 'c5a40999-42de-4a85-83c5-4cf45700065d', 'product_id': 4, 'order_date': '2024-02-07', 'quantity': 1, 'product_price': 97.14, 'total_price': 97.14}, {'order_id': 'ecf92569-587c-4efb-8f79-efba328c090c', 'customer_id': 'c5a40999-42de-4a85-83c5-4cf45700065d', 'product_id': 8, 'order_date': '2023-09-26', 'quantity': 5, 'product_price': 481.55, 'total_price': 2407.75}, {'order_id': '69b13171-18d2-4f3c-821c-bd8fd9e4b7d0', 'customer_id': 'b50ae06c-89f6-40fc-9c29-adab79dec19f', 'product_id': 13, 'order_date': '2024-02-19', 'quantity': 4, 'product_price': 191.13, 'total_price': 764.52}, {'order_id': '4315b71b-821f-497f-8f3b-8ca04a5bf50d', 'customer_id': 'eb26de72-4ace-4fbb-8741-4c23e9c36659', 'product_id': 11, 'order_date': '2023-05-05', 'quantity': 2, 'product_price': 413.25, 'total_price': 826.5}, {'order_id': '736cb7c7-306b-4a73-849a-df0a568a236a', 'customer_id': '347063a8-c7be-4af4-b929-84cd542ca7be', 'product_id': 11, 'order_date': '2023-05-17', 'quantity': 5, 'product_price': 243.88, 'total_price': 1219.4}, {'order_id': '3ecaa5fd-c524-44f1-9dca-e3250afe987e', 'customer_id': '347063a8-c7be-4af4-b929-84cd542ca7be', 'product_id': 12, 'order_date': '2024-03-18', 'quantity': 1, 'product_price': 185.86, 'total_price': 185.86}, {'order_id': '96e58474-72c4-43e1-be29-7d8181f2a248', 'customer_id': 'd066ce57-8668-4b27-bb5a-0f0c868967fa', 'product_id': 4, 'order_date': '2023-03-18', 'quantity': 2, 'product_price': 357.53, 'total_price': 715.06}, {'order_id': 'd323319e-7400-422e-aa1c-726bbb90c6b9', 'customer_id': '347063a8-c7be-4af4-b929-84cd542ca7be', 'product_id': 5, 'order_date': '2024-06-30', 'quantity': 3, 'product_price': 240.55, 'total_price': 721.6500000000001}, {'order_id': '857053c8-e72d-42b6-891d-74527a1dc96c', 'customer_id': '10b36653-5c2e-4687-8484-a63b38c30de3', 'product_id': 2, 'order_date': '2024-02-26', 'quantity': 1, 'product_price': 316.84, 'total_price': 316.84}, {'order_id': '19ed4942-73da-41c0-98b5-5396884e3f0a', 'customer_id': 'eb26de72-4ace-4fbb-8741-4c23e9c36659', 'product_id': 4, 'order_date': '2023-10-04', 'quantity': 4, 'product_price': 382.36, 'total_price': 1529.44}, {'order_id': '5f3f7f3e-5d10-4e6a-8f32-1b361d7063b1', 'customer_id': 'eb26de72-4ace-4fbb-8741-4c23e9c36659', 'product_id': 5, 'order_date': '2024-01-28', 'quantity': 4, 'product_price': 489.42, 'total_price': 1957.68}, {'order_id': 'cacc27cb-2c2e-4247-943a-058840d0a1b1', 'customer_id': 'a04dfab3-750a-4917-8c6f-356c8e305761', 'product_id': 3, 'order_date': '2022-11-04', 'quantity': 1, 'product_price': 345.27, 'total_price': 345.27}, {'order_id': '929a5fd6-a8df-4654-b6c7-1b662622be07', 'customer_id': 'd066ce57-8668-4b27-bb5a-0f0c868967fa', 'product_id': 4, 'order_date': '2023-11-23', 'quantity': 4, 'product_price': 56.15, 'total_price': 224.6}, {'order_id': 'b4c5c5dc-f9c1-4600-b878-6476a3869db3', 'customer_id': 'b50ae06c-89f6-40fc-9c29-adab79dec19f', 'product_id': 2, 'order_date': '2024-05-09', 'quantity': 5, 'product_price': 473.87, 'total_price': 2369.35}, {'order_id': '1f1c2981-d22b-4fad-bc68-86c785b619fe', 'customer_id': 'c5a40999-42de-4a85-83c5-4cf45700065d', 'product_id': 2, 'order_date': '2024-04-23', 'quantity': 1, 'product_price': 494.86, 'total_price': 494.86}, {'order_id': '052161ae-f95e-4410-aca4-0753aa39981a', 'customer_id': '5c98172f-6e44-433d-bd70-20d711a27402', 'product_id': 12, 'order_date': '2022-12-03', 'quantity': 2, 'product_price': 319.57, 'total_price': 639.14}, {'order_id': '6e6d5941-b37f-4914-bcec-3df3739577c7', 'customer_id': 'efa1aa96-623e-456b-a3eb-bf7e209351fd', 'product_id': 5, 'order_date': '2023-06-17', 'quantity': 5, 'product_price': 484.49, 'total_price': 2422.45}, {'order_id': '6545f572-ee72-4d4f-94a3-77f7511b428a', 'customer_id': '10b36653-5c2e-4687-8484-a63b38c30de3', 'product_id': 1, 'order_date': '2023-06-22', 'quantity': 5, 'product_price': 167.71, 'total_price': 838.5500000000001}, {'order_id': '623c3433-8329-48ac-b601-29f882189370', 'customer_id': 'eb26de72-4ace-4fbb-8741-4c23e9c36659', 'product_id': 3, 'order_date': '2024-06-24', 'quantity': 2, 'product_price': 38.98, 'total_price': 77.96}]\n"
     ]
    }
   ],
   "source": [
    "# Main Function to Generate All Data\n",
    "def generate_ecommerce_data():\n",
    "    # Generate products and customers\n",
    "    products = generate_products()\n",
    "    customers = generate_customers(10)  # At least 10 customers\n",
    "\n",
    "    # Generate orders (At least 2 years of order history)\n",
    "    orders = generate_orders(products, customers, num_orders=200)  # Generate 200 orders\n",
    "\n",
    "    return products, customers, orders\n",
    "\n",
    "# Run the generation\n",
    "products, customers, orders = generate_ecommerce_data()\n",
    "\n",
    "# Print the data (For demonstration purposes)\n",
    "print(\"\\nGenerated Products:\\n\", products)\n",
    "print(\"\\nGenerated Customers:\\n\", customers)\n",
    "print(\"\\nGenerated Orders:\\n\", orders)\n",
    "\n",
    "# You can export the data to a database or a file (e.g., CSV, JSON) as per your requirements.\n"
   ]
  },
  {
   "cell_type": "markdown",
   "metadata": {},
   "source": [
    "- Converting these to dataframe and saving to csv files."
   ]
  },
  {
   "cell_type": "code",
   "execution_count": 41,
   "metadata": {},
   "outputs": [],
   "source": [
    "import pandas as pd\n",
    "\n",
    "df_products = pd.DataFrame(products)\n",
    "df_customers = pd.DataFrame(customers)\n",
    "df_orders = pd.DataFrame(orders)"
   ]
  },
  {
   "cell_type": "code",
   "execution_count": 42,
   "metadata": {},
   "outputs": [
    {
     "data": {
      "text/html": [
       "<div>\n",
       "<style scoped>\n",
       "    .dataframe tbody tr th:only-of-type {\n",
       "        vertical-align: middle;\n",
       "    }\n",
       "\n",
       "    .dataframe tbody tr th {\n",
       "        vertical-align: top;\n",
       "    }\n",
       "\n",
       "    .dataframe thead th {\n",
       "        text-align: right;\n",
       "    }\n",
       "</style>\n",
       "<table border=\"1\" class=\"dataframe\">\n",
       "  <thead>\n",
       "    <tr style=\"text-align: right;\">\n",
       "      <th></th>\n",
       "      <th>id</th>\n",
       "      <th>category</th>\n",
       "      <th>name</th>\n",
       "    </tr>\n",
       "  </thead>\n",
       "  <tbody>\n",
       "    <tr>\n",
       "      <th>0</th>\n",
       "      <td>1</td>\n",
       "      <td>Clothing</td>\n",
       "      <td>Blue T-shirt</td>\n",
       "    </tr>\n",
       "    <tr>\n",
       "      <th>1</th>\n",
       "      <td>2</td>\n",
       "      <td>Clothing</td>\n",
       "      <td>Green T-shirt</td>\n",
       "    </tr>\n",
       "    <tr>\n",
       "      <th>2</th>\n",
       "      <td>3</td>\n",
       "      <td>Clothing</td>\n",
       "      <td>Black T-shirt</td>\n",
       "    </tr>\n",
       "    <tr>\n",
       "      <th>3</th>\n",
       "      <td>4</td>\n",
       "      <td>Clothing</td>\n",
       "      <td>Jeans</td>\n",
       "    </tr>\n",
       "    <tr>\n",
       "      <th>4</th>\n",
       "      <td>5</td>\n",
       "      <td>Clothing</td>\n",
       "      <td>Jacket</td>\n",
       "    </tr>\n",
       "  </tbody>\n",
       "</table>\n",
       "</div>"
      ],
      "text/plain": [
       "   id  category           name\n",
       "0   1  Clothing   Blue T-shirt\n",
       "1   2  Clothing  Green T-shirt\n",
       "2   3  Clothing  Black T-shirt\n",
       "3   4  Clothing          Jeans\n",
       "4   5  Clothing         Jacket"
      ]
     },
     "execution_count": 42,
     "metadata": {},
     "output_type": "execute_result"
    }
   ],
   "source": [
    "df_products.head()"
   ]
  },
  {
   "cell_type": "code",
   "execution_count": 43,
   "metadata": {},
   "outputs": [
    {
     "data": {
      "text/html": [
       "<div>\n",
       "<style scoped>\n",
       "    .dataframe tbody tr th:only-of-type {\n",
       "        vertical-align: middle;\n",
       "    }\n",
       "\n",
       "    .dataframe tbody tr th {\n",
       "        vertical-align: top;\n",
       "    }\n",
       "\n",
       "    .dataframe thead th {\n",
       "        text-align: right;\n",
       "    }\n",
       "</style>\n",
       "<table border=\"1\" class=\"dataframe\">\n",
       "  <thead>\n",
       "    <tr style=\"text-align: right;\">\n",
       "      <th></th>\n",
       "      <th>id</th>\n",
       "      <th>name</th>\n",
       "      <th>email</th>\n",
       "      <th>address</th>\n",
       "      <th>phone_number</th>\n",
       "    </tr>\n",
       "  </thead>\n",
       "  <tbody>\n",
       "    <tr>\n",
       "      <th>0</th>\n",
       "      <td>c5a40999-42de-4a85-83c5-4cf45700065d</td>\n",
       "      <td>Eileen Paul</td>\n",
       "      <td>dustinwilliams@example.org</td>\n",
       "      <td>PSC 9272, Box 7184\\nAPO AE 85969</td>\n",
       "      <td>620-762-0385x553</td>\n",
       "    </tr>\n",
       "    <tr>\n",
       "      <th>1</th>\n",
       "      <td>347063a8-c7be-4af4-b929-84cd542ca7be</td>\n",
       "      <td>Daniel Campbell</td>\n",
       "      <td>frank39@example.org</td>\n",
       "      <td>0780 Davis Circle Suite 075\\nMargarettown, VA ...</td>\n",
       "      <td>001-365-951-5987</td>\n",
       "    </tr>\n",
       "    <tr>\n",
       "      <th>2</th>\n",
       "      <td>eb26de72-4ace-4fbb-8741-4c23e9c36659</td>\n",
       "      <td>Lauren Martin</td>\n",
       "      <td>nwilson@example.org</td>\n",
       "      <td>Unit 8859 Box 3957\\nDPO AE 07282</td>\n",
       "      <td>5799441248</td>\n",
       "    </tr>\n",
       "    <tr>\n",
       "      <th>3</th>\n",
       "      <td>a04dfab3-750a-4917-8c6f-356c8e305761</td>\n",
       "      <td>Carol Strickland DVM</td>\n",
       "      <td>johnjones@example.net</td>\n",
       "      <td>4639 Hill Crossroad\\nEast Timothy, VI 52441</td>\n",
       "      <td>302.347.1011x5493</td>\n",
       "    </tr>\n",
       "    <tr>\n",
       "      <th>4</th>\n",
       "      <td>a9a7f89c-6fbd-446d-a1bc-d036adf3357b</td>\n",
       "      <td>Kayla Chambers</td>\n",
       "      <td>staceytucker@example.org</td>\n",
       "      <td>21199 Hardin Cliff\\nNew Michael, SD 74754</td>\n",
       "      <td>978-841-1664</td>\n",
       "    </tr>\n",
       "  </tbody>\n",
       "</table>\n",
       "</div>"
      ],
      "text/plain": [
       "                                     id                  name  \\\n",
       "0  c5a40999-42de-4a85-83c5-4cf45700065d           Eileen Paul   \n",
       "1  347063a8-c7be-4af4-b929-84cd542ca7be       Daniel Campbell   \n",
       "2  eb26de72-4ace-4fbb-8741-4c23e9c36659         Lauren Martin   \n",
       "3  a04dfab3-750a-4917-8c6f-356c8e305761  Carol Strickland DVM   \n",
       "4  a9a7f89c-6fbd-446d-a1bc-d036adf3357b        Kayla Chambers   \n",
       "\n",
       "                        email  \\\n",
       "0  dustinwilliams@example.org   \n",
       "1         frank39@example.org   \n",
       "2         nwilson@example.org   \n",
       "3       johnjones@example.net   \n",
       "4    staceytucker@example.org   \n",
       "\n",
       "                                             address       phone_number  \n",
       "0                   PSC 9272, Box 7184\\nAPO AE 85969   620-762-0385x553  \n",
       "1  0780 Davis Circle Suite 075\\nMargarettown, VA ...   001-365-951-5987  \n",
       "2                   Unit 8859 Box 3957\\nDPO AE 07282         5799441248  \n",
       "3        4639 Hill Crossroad\\nEast Timothy, VI 52441  302.347.1011x5493  \n",
       "4          21199 Hardin Cliff\\nNew Michael, SD 74754       978-841-1664  "
      ]
     },
     "execution_count": 43,
     "metadata": {},
     "output_type": "execute_result"
    }
   ],
   "source": [
    "df_customers.head()"
   ]
  },
  {
   "cell_type": "code",
   "execution_count": 44,
   "metadata": {},
   "outputs": [
    {
     "data": {
      "text/html": [
       "<div>\n",
       "<style scoped>\n",
       "    .dataframe tbody tr th:only-of-type {\n",
       "        vertical-align: middle;\n",
       "    }\n",
       "\n",
       "    .dataframe tbody tr th {\n",
       "        vertical-align: top;\n",
       "    }\n",
       "\n",
       "    .dataframe thead th {\n",
       "        text-align: right;\n",
       "    }\n",
       "</style>\n",
       "<table border=\"1\" class=\"dataframe\">\n",
       "  <thead>\n",
       "    <tr style=\"text-align: right;\">\n",
       "      <th></th>\n",
       "      <th>order_id</th>\n",
       "      <th>customer_id</th>\n",
       "      <th>product_id</th>\n",
       "      <th>order_date</th>\n",
       "      <th>quantity</th>\n",
       "      <th>product_price</th>\n",
       "      <th>total_price</th>\n",
       "    </tr>\n",
       "  </thead>\n",
       "  <tbody>\n",
       "    <tr>\n",
       "      <th>0</th>\n",
       "      <td>ecf6d453-4ede-4cd6-a0db-7e8a76d6f611</td>\n",
       "      <td>5c98172f-6e44-433d-bd70-20d711a27402</td>\n",
       "      <td>4</td>\n",
       "      <td>2023-06-19</td>\n",
       "      <td>5</td>\n",
       "      <td>420.65</td>\n",
       "      <td>2103.25</td>\n",
       "    </tr>\n",
       "    <tr>\n",
       "      <th>1</th>\n",
       "      <td>e84dbcd0-c793-4f4d-a4de-95f30086d48e</td>\n",
       "      <td>c5a40999-42de-4a85-83c5-4cf45700065d</td>\n",
       "      <td>3</td>\n",
       "      <td>2023-07-13</td>\n",
       "      <td>5</td>\n",
       "      <td>124.98</td>\n",
       "      <td>624.90</td>\n",
       "    </tr>\n",
       "    <tr>\n",
       "      <th>2</th>\n",
       "      <td>e5e5c0c0-586d-4a6c-883a-43e40a8fbdaf</td>\n",
       "      <td>eb26de72-4ace-4fbb-8741-4c23e9c36659</td>\n",
       "      <td>3</td>\n",
       "      <td>2023-08-15</td>\n",
       "      <td>5</td>\n",
       "      <td>180.57</td>\n",
       "      <td>902.85</td>\n",
       "    </tr>\n",
       "    <tr>\n",
       "      <th>3</th>\n",
       "      <td>043d6cfd-e4d8-4371-bb52-348571cde942</td>\n",
       "      <td>10b36653-5c2e-4687-8484-a63b38c30de3</td>\n",
       "      <td>5</td>\n",
       "      <td>2023-09-22</td>\n",
       "      <td>2</td>\n",
       "      <td>376.98</td>\n",
       "      <td>753.96</td>\n",
       "    </tr>\n",
       "    <tr>\n",
       "      <th>4</th>\n",
       "      <td>ecbdf25a-423a-4198-9ee9-a5b9d07b1ede</td>\n",
       "      <td>eb26de72-4ace-4fbb-8741-4c23e9c36659</td>\n",
       "      <td>4</td>\n",
       "      <td>2022-10-15</td>\n",
       "      <td>2</td>\n",
       "      <td>196.55</td>\n",
       "      <td>393.10</td>\n",
       "    </tr>\n",
       "  </tbody>\n",
       "</table>\n",
       "</div>"
      ],
      "text/plain": [
       "                               order_id                           customer_id  \\\n",
       "0  ecf6d453-4ede-4cd6-a0db-7e8a76d6f611  5c98172f-6e44-433d-bd70-20d711a27402   \n",
       "1  e84dbcd0-c793-4f4d-a4de-95f30086d48e  c5a40999-42de-4a85-83c5-4cf45700065d   \n",
       "2  e5e5c0c0-586d-4a6c-883a-43e40a8fbdaf  eb26de72-4ace-4fbb-8741-4c23e9c36659   \n",
       "3  043d6cfd-e4d8-4371-bb52-348571cde942  10b36653-5c2e-4687-8484-a63b38c30de3   \n",
       "4  ecbdf25a-423a-4198-9ee9-a5b9d07b1ede  eb26de72-4ace-4fbb-8741-4c23e9c36659   \n",
       "\n",
       "   product_id  order_date  quantity  product_price  total_price  \n",
       "0           4  2023-06-19         5         420.65      2103.25  \n",
       "1           3  2023-07-13         5         124.98       624.90  \n",
       "2           3  2023-08-15         5         180.57       902.85  \n",
       "3           5  2023-09-22         2         376.98       753.96  \n",
       "4           4  2022-10-15         2         196.55       393.10  "
      ]
     },
     "execution_count": 44,
     "metadata": {},
     "output_type": "execute_result"
    }
   ],
   "source": [
    "df_orders.head()"
   ]
  },
  {
   "cell_type": "code",
   "execution_count": 45,
   "metadata": {},
   "outputs": [],
   "source": [
    "df_products.to_csv(\"products.csv\", index=False)\n",
    "df_customers.to_csv(\"customers.csv\", index=False)\n",
    "df_orders.to_csv(\"orders.csv\", index=False)"
   ]
  }
 ],
 "metadata": {
  "kernelspec": {
   "display_name": "Python 3",
   "language": "python",
   "name": "python3"
  },
  "language_info": {
   "codemirror_mode": {
    "name": "ipython",
    "version": 3
   },
   "file_extension": ".py",
   "mimetype": "text/x-python",
   "name": "python",
   "nbconvert_exporter": "python",
   "pygments_lexer": "ipython3",
   "version": "3.11.5"
  }
 },
 "nbformat": 4,
 "nbformat_minor": 2
}
