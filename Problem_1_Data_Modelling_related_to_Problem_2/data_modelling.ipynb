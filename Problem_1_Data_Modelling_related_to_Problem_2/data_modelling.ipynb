{
 "cells": [
  {
   "cell_type": "code",
   "execution_count": 58,
   "metadata": {},
   "outputs": [
    {
     "name": "stdout",
     "output_type": "stream",
     "text": [
      "hello world!\n"
     ]
    }
   ],
   "source": [
    "print(\"hello world!\")"
   ]
  },
  {
   "cell_type": "markdown",
   "metadata": {},
   "source": [
    "**What is `faker` in `import faker`**:  \n",
    "   `faker` is a Python library that generates fake data, such as names, addresses, and emails. It is useful for testing and simulating realistic-looking random data in various domains.\n",
    "\n",
    "**What is `faker`**:  \n",
    "   `faker` is a module within the `Faker` library used to generate random fake data, such as names, addresses, and emails. It helps simulate realistic data for development and testing purposes.\n",
    "\n",
    "**What are `datetime`, `timedelta` in `from datetime import datetime, timedelta`**:  \n",
    "   `datetime` represents date and time, while `timedelta` represents a duration or difference between two dates. They are used to manipulate and generate dates for order history."
   ]
  },
  {
   "cell_type": "code",
   "execution_count": 59,
   "metadata": {},
   "outputs": [],
   "source": [
    "import random\n",
    "import faker\n",
    "from datetime import datetime, timedelta"
   ]
  },
  {
   "cell_type": "markdown",
   "metadata": {},
   "source": [
    "\n",
    "**What is `random.random()`**:  \n",
    "   `random.random()` returns a random floating-point number between 0 and 1. It’s used to create a probability condition (like deciding if a product should have variants)."
   ]
  },
  {
   "cell_type": "code",
   "execution_count": 60,
   "metadata": {},
   "outputs": [],
   "source": [
    "# Constants\n",
    "PRODUCT_CATEGORIES = [\"Clothing\", \"Groceries\", \"Electronics\"]\n",
    "PRODUCTS = {\n",
    "    \"Clothing\": [\"T-shirt\", \"Jeans\", \"Jacket\"],\n",
    "    \"Groceries\": [\"Rice\", \"Pasta\", \"Olive Oil\"],\n",
    "    \"Electronics\": [\"Laptop\", \"Smartphone\", \"Headphones\", \"ipad\"]\n",
    "}\n",
    "COLORS = [\"Red\", \"Green\", \"Blue\", \"Black\", \"White\"]\n",
    "VARIANT_CHANCE = 0.5  # 50% chance of a product having variants\n",
    "\n",
    "# Generate Product Data\n",
    "def generate_products():\n",
    "    products = []\n",
    "    product_id = 1\n",
    "\n",
    "    for category, product_names in PRODUCTS.items():\n",
    "        for product in product_names:\n",
    "            # Check if product should have variants\n",
    "            if (random.random() < VARIANT_CHANCE) and (category != \"Groceries\" ):\n",
    "                # Generate variants\n",
    "                for color in random.sample(COLORS, random.randint(1, 3)):\n",
    "                    variant_name = f\"{color} {product}\"\n",
    "                    products.append({\"id\": product_id, \"category\": category, \"name\": variant_name})\n",
    "                    product_id += 1\n",
    "            else:\n",
    "                # No variants, add the product itself\n",
    "                price = round(random.uniform(10, 500), 2)\n",
    "                products.append({\"id\": product_id, \"category\": category, \"name\": product})\n",
    "                product_id += 1\n",
    "    \n",
    "    return products"
   ]
  },
  {
   "cell_type": "markdown",
   "metadata": {},
   "source": [
    "\n",
    "**What is `faker.Faker()`**:  \n",
    "   `faker.Faker()` initializes a `Faker` instance that provides access to methods for generating fake data. It acts as a generator for creating random names, addresses, emails, etc.\n",
    "\n",
    "\n",
    "**What are `faker.Faker().name()`, `faker.Faker().email()`, `faker.Faker().address()`, `faker.Faker().phone_number()`**:  \n",
    "   These methods from `Faker` generate a fake person’s name, email, address, and phone number. They are useful for simulating customer data in an e-commerce scenario."
   ]
  },
  {
   "cell_type": "code",
   "execution_count": 61,
   "metadata": {},
   "outputs": [],
   "source": [
    "# Initialize Faker\n",
    "fake = faker.Faker()\n",
    "\n",
    "# Generate Customer Data\n",
    "def generate_customers(num_customers):\n",
    "    customers = []\n",
    "    for _ in range(num_customers):\n",
    "        customers.append({\n",
    "            \"id\": fake.uuid4(),\n",
    "            \"name\": fake.name(),\n",
    "            \"email\": fake.email(),\n",
    "            \"address\": fake.address(),\n",
    "            \"phone_number\": fake.phone_number()\n",
    "        })\n",
    "    return customers\n"
   ]
  },
  {
   "cell_type": "markdown",
   "metadata": {},
   "source": [
    "\n",
    "**What are `random.choice` and `random.randint` in `generate_orders()`**:  \n",
    "   `random.choice()` selects a random item from a list (e.g., a random product or customer). `random.randint()` generates a random integer within a specified range (e.g., the number of order items).\n",
    "\n",
    "**What is `datetime.now() - timedelta(days=random.randint(1, 730))` and `random.randint(1, 5)`**:  \n",
    "   `datetime.now() - timedelta(days=random.randint(1, 730))` generates a random order date within the last two years. `random.randint(1, 5)` sets a random order quantity between 1 and 5."
   ]
  },
  {
   "cell_type": "markdown",
   "metadata": {},
   "source": [
    "  - Since, prive is dynamic and can change with time, I've put price column in orders table"
   ]
  },
  {
   "cell_type": "markdown",
   "metadata": {},
   "source": [
    "- `uuid4()` in `fake.uuid4()` generates a random unique identifier (UUID) based on random numbers, which is commonly used for creating unique IDs. The datatype is a string representing the UUID in its standard 36-character format (including hyphens)."
   ]
  },
  {
   "cell_type": "markdown",
   "metadata": {},
   "source": [
    "- The line `order_date.strftime(\"%Y-%m-%d\")` formats the `order_date` into a string that follows the `YYYY-MM-DD` format (e.g., `2023-09-30`)."
   ]
  },
  {
   "cell_type": "code",
   "execution_count": 62,
   "metadata": {},
   "outputs": [],
   "source": [
    "# Generate Order Data\n",
    "def generate_orders(products, customers, num_orders=100):\n",
    "    orders = []\n",
    "    for _ in range(num_orders):\n",
    "        customer = random.choice(customers)\n",
    "        product = random.choice(products)\n",
    "        order_date = datetime.now() - timedelta(days=random.randint(1, 730))  # Random date in the last 2 years\n",
    "        quantity = random.randint(1, 5)\n",
    "        price = round(random.uniform(10, 500), 2)  # Random price between $10 and $500\n",
    "        total_price = price * quantity\n",
    "        \n",
    "        orders.append({\n",
    "            \"order_id\": fake.uuid4(),\n",
    "            \"customer_id\": customer[\"id\"],\n",
    "            \"product_id\": product[\"id\"],\n",
    "            \"order_date\": order_date.strftime(\"%Y-%m-%d\"),\n",
    "            # The line order_date.strftime(\"%Y-%m-%d\") formats the order_date into a string that follows the YYYY-MM-DD format (e.g., 2023-09-30)\n",
    "            \"quantity\": quantity,\n",
    "            \"product_price\": price, # Since, prive is dynamic and can change with time, I've put price column in orders table\n",
    "            \"total_price\": total_price\n",
    "        })\n",
    "    \n",
    "    return orders\n"
   ]
  },
  {
   "cell_type": "code",
   "execution_count": 63,
   "metadata": {},
   "outputs": [
    {
     "name": "stdout",
     "output_type": "stream",
     "text": [
      "\n",
      "Generated Products:\n",
      " [{'id': 1, 'category': 'Clothing', 'name': 'Green T-shirt'}, {'id': 2, 'category': 'Clothing', 'name': 'Red T-shirt'}, {'id': 3, 'category': 'Clothing', 'name': 'Jeans'}, {'id': 4, 'category': 'Clothing', 'name': 'Red Jacket'}, {'id': 5, 'category': 'Groceries', 'name': 'Rice'}]\n"
     ]
    }
   ],
   "source": [
    "# Main Function to Generate All Data\n",
    "def generate_ecommerce_data():\n",
    "    # Generate products and customers\n",
    "    products = generate_products()\n",
    "    customers = generate_customers(10)  # At least 10 customers\n",
    "\n",
    "    # Generate orders (At least 2 years of order history)\n",
    "    orders = generate_orders(products, customers, num_orders=200)  # Generate 200 orders\n",
    "\n",
    "    return products, customers, orders\n",
    "\n",
    "# Run the generation\n",
    "products, customers, orders = generate_ecommerce_data()\n",
    "\n",
    "# Print the data (For demonstration purposes)\n",
    "print(\"\\nGenerated Products:\\n\", products[:5])"
   ]
  },
  {
   "cell_type": "markdown",
   "metadata": {},
   "source": [
    "- Converting these to dataframe and saving to csv files."
   ]
  },
  {
   "cell_type": "code",
   "execution_count": 64,
   "metadata": {},
   "outputs": [],
   "source": [
    "import pandas as pd\n",
    "\n",
    "df_products = pd.DataFrame(products)\n",
    "df_customers = pd.DataFrame(customers)\n",
    "df_orders = pd.DataFrame(orders)"
   ]
  },
  {
   "cell_type": "code",
   "execution_count": 65,
   "metadata": {},
   "outputs": [
    {
     "data": {
      "text/html": [
       "<div>\n",
       "<style scoped>\n",
       "    .dataframe tbody tr th:only-of-type {\n",
       "        vertical-align: middle;\n",
       "    }\n",
       "\n",
       "    .dataframe tbody tr th {\n",
       "        vertical-align: top;\n",
       "    }\n",
       "\n",
       "    .dataframe thead th {\n",
       "        text-align: right;\n",
       "    }\n",
       "</style>\n",
       "<table border=\"1\" class=\"dataframe\">\n",
       "  <thead>\n",
       "    <tr style=\"text-align: right;\">\n",
       "      <th></th>\n",
       "      <th>id</th>\n",
       "      <th>category</th>\n",
       "      <th>name</th>\n",
       "    </tr>\n",
       "  </thead>\n",
       "  <tbody>\n",
       "    <tr>\n",
       "      <th>0</th>\n",
       "      <td>1</td>\n",
       "      <td>Clothing</td>\n",
       "      <td>Green T-shirt</td>\n",
       "    </tr>\n",
       "    <tr>\n",
       "      <th>1</th>\n",
       "      <td>2</td>\n",
       "      <td>Clothing</td>\n",
       "      <td>Red T-shirt</td>\n",
       "    </tr>\n",
       "    <tr>\n",
       "      <th>2</th>\n",
       "      <td>3</td>\n",
       "      <td>Clothing</td>\n",
       "      <td>Jeans</td>\n",
       "    </tr>\n",
       "    <tr>\n",
       "      <th>3</th>\n",
       "      <td>4</td>\n",
       "      <td>Clothing</td>\n",
       "      <td>Red Jacket</td>\n",
       "    </tr>\n",
       "    <tr>\n",
       "      <th>4</th>\n",
       "      <td>5</td>\n",
       "      <td>Groceries</td>\n",
       "      <td>Rice</td>\n",
       "    </tr>\n",
       "  </tbody>\n",
       "</table>\n",
       "</div>"
      ],
      "text/plain": [
       "   id   category           name\n",
       "0   1   Clothing  Green T-shirt\n",
       "1   2   Clothing    Red T-shirt\n",
       "2   3   Clothing          Jeans\n",
       "3   4   Clothing     Red Jacket\n",
       "4   5  Groceries           Rice"
      ]
     },
     "execution_count": 65,
     "metadata": {},
     "output_type": "execute_result"
    }
   ],
   "source": [
    "df_products.head()"
   ]
  },
  {
   "cell_type": "code",
   "execution_count": 66,
   "metadata": {},
   "outputs": [
    {
     "data": {
      "text/html": [
       "<div>\n",
       "<style scoped>\n",
       "    .dataframe tbody tr th:only-of-type {\n",
       "        vertical-align: middle;\n",
       "    }\n",
       "\n",
       "    .dataframe tbody tr th {\n",
       "        vertical-align: top;\n",
       "    }\n",
       "\n",
       "    .dataframe thead th {\n",
       "        text-align: right;\n",
       "    }\n",
       "</style>\n",
       "<table border=\"1\" class=\"dataframe\">\n",
       "  <thead>\n",
       "    <tr style=\"text-align: right;\">\n",
       "      <th></th>\n",
       "      <th>id</th>\n",
       "      <th>name</th>\n",
       "      <th>email</th>\n",
       "      <th>address</th>\n",
       "      <th>phone_number</th>\n",
       "    </tr>\n",
       "  </thead>\n",
       "  <tbody>\n",
       "    <tr>\n",
       "      <th>0</th>\n",
       "      <td>433aad0b-da9a-4843-b184-6caab49a5f18</td>\n",
       "      <td>David Hall</td>\n",
       "      <td>stephanie49@example.net</td>\n",
       "      <td>90191 Anne Branch\\nEast James, AR 94143</td>\n",
       "      <td>+1-587-384-6710x625</td>\n",
       "    </tr>\n",
       "    <tr>\n",
       "      <th>1</th>\n",
       "      <td>869ae21f-3c08-40e0-a79c-b3b850bb4f06</td>\n",
       "      <td>Michael Holt</td>\n",
       "      <td>rhart@example.org</td>\n",
       "      <td>32998 Jason Shoals Apt. 299\\nDustinbury, CO 68415</td>\n",
       "      <td>385.998.4140x32148</td>\n",
       "    </tr>\n",
       "    <tr>\n",
       "      <th>2</th>\n",
       "      <td>dc0be72e-5aa9-4850-9c3d-e8ba3296cbe2</td>\n",
       "      <td>Don Cochran</td>\n",
       "      <td>woodjason@example.com</td>\n",
       "      <td>46187 Edwin Unions\\nLake Randyport, TX 79259</td>\n",
       "      <td>001-480-330-4582x1875</td>\n",
       "    </tr>\n",
       "    <tr>\n",
       "      <th>3</th>\n",
       "      <td>e6dfe79b-d20f-4a03-be2b-9ca753e2dbcd</td>\n",
       "      <td>Jacob Kelley</td>\n",
       "      <td>fordaudrey@example.net</td>\n",
       "      <td>Unit 2584 Box 5162\\nDPO AA 48058</td>\n",
       "      <td>(985)660-1676x405</td>\n",
       "    </tr>\n",
       "    <tr>\n",
       "      <th>4</th>\n",
       "      <td>ca1cea91-749f-41b7-a6af-5471bf375e22</td>\n",
       "      <td>Tammy Rowland</td>\n",
       "      <td>zvalenzuela@example.com</td>\n",
       "      <td>82067 Nathan Pine\\nPort Oliviastad, TN 45604</td>\n",
       "      <td>836.778.7476</td>\n",
       "    </tr>\n",
       "  </tbody>\n",
       "</table>\n",
       "</div>"
      ],
      "text/plain": [
       "                                     id           name  \\\n",
       "0  433aad0b-da9a-4843-b184-6caab49a5f18     David Hall   \n",
       "1  869ae21f-3c08-40e0-a79c-b3b850bb4f06   Michael Holt   \n",
       "2  dc0be72e-5aa9-4850-9c3d-e8ba3296cbe2    Don Cochran   \n",
       "3  e6dfe79b-d20f-4a03-be2b-9ca753e2dbcd   Jacob Kelley   \n",
       "4  ca1cea91-749f-41b7-a6af-5471bf375e22  Tammy Rowland   \n",
       "\n",
       "                     email                                            address  \\\n",
       "0  stephanie49@example.net            90191 Anne Branch\\nEast James, AR 94143   \n",
       "1        rhart@example.org  32998 Jason Shoals Apt. 299\\nDustinbury, CO 68415   \n",
       "2    woodjason@example.com       46187 Edwin Unions\\nLake Randyport, TX 79259   \n",
       "3   fordaudrey@example.net                   Unit 2584 Box 5162\\nDPO AA 48058   \n",
       "4  zvalenzuela@example.com       82067 Nathan Pine\\nPort Oliviastad, TN 45604   \n",
       "\n",
       "            phone_number  \n",
       "0    +1-587-384-6710x625  \n",
       "1     385.998.4140x32148  \n",
       "2  001-480-330-4582x1875  \n",
       "3      (985)660-1676x405  \n",
       "4           836.778.7476  "
      ]
     },
     "execution_count": 66,
     "metadata": {},
     "output_type": "execute_result"
    }
   ],
   "source": [
    "df_customers.head()"
   ]
  },
  {
   "cell_type": "code",
   "execution_count": 67,
   "metadata": {},
   "outputs": [
    {
     "data": {
      "text/html": [
       "<div>\n",
       "<style scoped>\n",
       "    .dataframe tbody tr th:only-of-type {\n",
       "        vertical-align: middle;\n",
       "    }\n",
       "\n",
       "    .dataframe tbody tr th {\n",
       "        vertical-align: top;\n",
       "    }\n",
       "\n",
       "    .dataframe thead th {\n",
       "        text-align: right;\n",
       "    }\n",
       "</style>\n",
       "<table border=\"1\" class=\"dataframe\">\n",
       "  <thead>\n",
       "    <tr style=\"text-align: right;\">\n",
       "      <th></th>\n",
       "      <th>order_id</th>\n",
       "      <th>customer_id</th>\n",
       "      <th>product_id</th>\n",
       "      <th>order_date</th>\n",
       "      <th>quantity</th>\n",
       "      <th>product_price</th>\n",
       "      <th>total_price</th>\n",
       "    </tr>\n",
       "  </thead>\n",
       "  <tbody>\n",
       "    <tr>\n",
       "      <th>0</th>\n",
       "      <td>7e356cfd-5323-4375-9f94-5e9b8a60b748</td>\n",
       "      <td>1771b2c8-6764-47ea-9730-6e3cc20f9c9a</td>\n",
       "      <td>12</td>\n",
       "      <td>2024-04-07</td>\n",
       "      <td>1</td>\n",
       "      <td>410.02</td>\n",
       "      <td>410.02</td>\n",
       "    </tr>\n",
       "    <tr>\n",
       "      <th>1</th>\n",
       "      <td>0aae2a02-8be6-4bf9-8c04-e045c0852480</td>\n",
       "      <td>ca1cea91-749f-41b7-a6af-5471bf375e22</td>\n",
       "      <td>9</td>\n",
       "      <td>2022-12-06</td>\n",
       "      <td>2</td>\n",
       "      <td>402.95</td>\n",
       "      <td>805.90</td>\n",
       "    </tr>\n",
       "    <tr>\n",
       "      <th>2</th>\n",
       "      <td>6a905c72-62e2-4752-b4b9-fe1681f8d96f</td>\n",
       "      <td>1bfbdda5-acda-45b3-85e9-7fb8b6871990</td>\n",
       "      <td>9</td>\n",
       "      <td>2024-08-10</td>\n",
       "      <td>2</td>\n",
       "      <td>28.25</td>\n",
       "      <td>56.50</td>\n",
       "    </tr>\n",
       "    <tr>\n",
       "      <th>3</th>\n",
       "      <td>88e430c0-b245-4484-94eb-45231937982a</td>\n",
       "      <td>e6dfe79b-d20f-4a03-be2b-9ca753e2dbcd</td>\n",
       "      <td>10</td>\n",
       "      <td>2023-10-13</td>\n",
       "      <td>4</td>\n",
       "      <td>133.54</td>\n",
       "      <td>534.16</td>\n",
       "    </tr>\n",
       "    <tr>\n",
       "      <th>4</th>\n",
       "      <td>ac9e2dba-2bb2-4223-a8d1-d669984b6a17</td>\n",
       "      <td>53a7ccef-e87b-4463-89a5-af9f82b45224</td>\n",
       "      <td>8</td>\n",
       "      <td>2023-05-26</td>\n",
       "      <td>2</td>\n",
       "      <td>463.84</td>\n",
       "      <td>927.68</td>\n",
       "    </tr>\n",
       "  </tbody>\n",
       "</table>\n",
       "</div>"
      ],
      "text/plain": [
       "                               order_id                           customer_id  \\\n",
       "0  7e356cfd-5323-4375-9f94-5e9b8a60b748  1771b2c8-6764-47ea-9730-6e3cc20f9c9a   \n",
       "1  0aae2a02-8be6-4bf9-8c04-e045c0852480  ca1cea91-749f-41b7-a6af-5471bf375e22   \n",
       "2  6a905c72-62e2-4752-b4b9-fe1681f8d96f  1bfbdda5-acda-45b3-85e9-7fb8b6871990   \n",
       "3  88e430c0-b245-4484-94eb-45231937982a  e6dfe79b-d20f-4a03-be2b-9ca753e2dbcd   \n",
       "4  ac9e2dba-2bb2-4223-a8d1-d669984b6a17  53a7ccef-e87b-4463-89a5-af9f82b45224   \n",
       "\n",
       "   product_id  order_date  quantity  product_price  total_price  \n",
       "0          12  2024-04-07         1         410.02       410.02  \n",
       "1           9  2022-12-06         2         402.95       805.90  \n",
       "2           9  2024-08-10         2          28.25        56.50  \n",
       "3          10  2023-10-13         4         133.54       534.16  \n",
       "4           8  2023-05-26         2         463.84       927.68  "
      ]
     },
     "execution_count": 67,
     "metadata": {},
     "output_type": "execute_result"
    }
   ],
   "source": [
    "df_orders.head()"
   ]
  },
  {
   "cell_type": "code",
   "execution_count": 68,
   "metadata": {},
   "outputs": [],
   "source": [
    "df_products.to_csv(\"products.csv\", index=False)\n",
    "df_customers.to_csv(\"customers.csv\", index=False)\n",
    "df_orders.to_csv(\"orders.csv\", index=False)"
   ]
  }
 ],
 "metadata": {
  "kernelspec": {
   "display_name": "Python 3",
   "language": "python",
   "name": "python3"
  },
  "language_info": {
   "codemirror_mode": {
    "name": "ipython",
    "version": 3
   },
   "file_extension": ".py",
   "mimetype": "text/x-python",
   "name": "python",
   "nbconvert_exporter": "python",
   "pygments_lexer": "ipython3",
   "version": "3.11.5"
  }
 },
 "nbformat": 4,
 "nbformat_minor": 2
}
