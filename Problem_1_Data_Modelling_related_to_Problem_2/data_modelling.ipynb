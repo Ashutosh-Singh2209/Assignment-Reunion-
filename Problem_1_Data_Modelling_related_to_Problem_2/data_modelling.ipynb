{
 "cells": [
  {
   "cell_type": "code",
   "execution_count": 20,
   "metadata": {},
   "outputs": [
    {
     "name": "stdout",
     "output_type": "stream",
     "text": [
      "hello world!\n"
     ]
    }
   ],
   "source": [
    "print(\"hello world!\")"
   ]
  },
  {
   "cell_type": "markdown",
   "metadata": {},
   "source": [
    "**What is `faker` in `import faker`**:  \n",
    "   `faker` is a Python library that generates fake data, such as names, addresses, and emails. It is useful for testing and simulating realistic-looking random data in various domains.\n",
    "\n",
    "**What is `faker`**:  \n",
    "   `faker` is a module within the `Faker` library used to generate random fake data, such as names, addresses, and emails. It helps simulate realistic data for development and testing purposes.\n",
    "\n",
    "**What are `datetime`, `timedelta` in `from datetime import datetime, timedelta`**:  \n",
    "   `datetime` represents date and time, while `timedelta` represents a duration or difference between two dates. They are used to manipulate and generate dates for order history."
   ]
  },
  {
   "cell_type": "code",
   "execution_count": 21,
   "metadata": {},
   "outputs": [],
   "source": [
    "import random\n",
    "import faker\n",
    "from datetime import datetime, timedelta\n",
    "import numpy as np"
   ]
  },
  {
   "cell_type": "markdown",
   "metadata": {},
   "source": [
    "\n",
    "**What is `random.random()`**:  \n",
    "   `random.random()` returns a random floating-point number between 0 and 1. It’s used to create a probability condition (like deciding if a product should have variants)."
   ]
  },
  {
   "cell_type": "code",
   "execution_count": 22,
   "metadata": {},
   "outputs": [],
   "source": [
    "# Constants\n",
    "PRODUCT_CATEGORIES = [\"Clothing\", \"Groceries\", \"Electronics\"]\n",
    "PRODUCTS = {\n",
    "    \"Clothing\": [\"T-shirt\", \"Jeans\", \"Jacket\"],\n",
    "    \"Groceries\": [\"Rice\", \"Pasta\", \"Olive Oil\"],\n",
    "    \"Electronics\": [\"Laptop\", \"Smartphone\", \"Headphones\", \"ipad\"]\n",
    "}\n",
    "COLORS = [\"Red\", \"Green\", \"Blue\", \"Black\", \"White\"]\n",
    "VARIANT_CHANCE = 0.5  # 50% chance of a product having variants\n",
    "\n",
    "# Generate Product Data\n",
    "def generate_products():\n",
    "    products = []\n",
    "    product_id = 1\n",
    "\n",
    "    for category, product_names in PRODUCTS.items():\n",
    "        for product in product_names:\n",
    "            # Check if product should have variants\n",
    "            if (random.random() < VARIANT_CHANCE) and (category != \"Groceries\" ):\n",
    "                # Generate variants\n",
    "                for color in random.sample(COLORS, random.randint(1, 3)):\n",
    "                    variant_name = f\"{color} {product}\"\n",
    "                    products.append({\"product_id\": product_id, \"category\": category, \"variant_name\": variant_name, \"product_name\": product})\n",
    "                    product_id += 1\n",
    "            else:\n",
    "                # No variants, add the product itself\n",
    "                products.append({\"product_id\": product_id, \"category\": category, \"variant_name\": np.nan, \"product_name\": product})\n",
    "                product_id += 1\n",
    "    \n",
    "    return products"
   ]
  },
  {
   "cell_type": "markdown",
   "metadata": {},
   "source": [
    "\n",
    "**What is `faker.Faker()`**:  \n",
    "   `faker.Faker()` initializes a `Faker` instance that provides access to methods for generating fake data. It acts as a generator for creating random names, addresses, emails, etc.\n",
    "\n",
    "\n",
    "**What are `faker.Faker().name()`, `faker.Faker().email()`, `faker.Faker().address()`, `faker.Faker().phone_number()`**:  \n",
    "   These methods from `Faker` generate a fake person’s name, email, address, and phone number. They are useful for simulating customer data in an e-commerce scenario."
   ]
  },
  {
   "cell_type": "code",
   "execution_count": 23,
   "metadata": {},
   "outputs": [],
   "source": [
    "# Initialize Faker\n",
    "fake = faker.Faker()\n",
    "\n",
    "# Generate Customer Data\n",
    "def generate_customers(num_customers):\n",
    "    customers = []\n",
    "    customer_id = 1\n",
    "    for _ in range(num_customers):\n",
    "        customers.append({\n",
    "            \"customer_id\": customer_id,\n",
    "            \"name\": fake.name(),\n",
    "            \"email\": fake.email(),\n",
    "            \"address\": fake.address(),\n",
    "            \"phone_number\": fake.phone_number()\n",
    "        })\n",
    "\n",
    "        customer_id += 1\n",
    "    return customers\n"
   ]
  },
  {
   "cell_type": "markdown",
   "metadata": {},
   "source": [
    "\n",
    "**What are `random.choice` and `random.randint` in `generate_orders()`**:  \n",
    "   `random.choice()` selects a random item from a list (e.g., a random product or customer). `random.randint()` generates a random integer within a specified range (e.g., the number of order items).\n",
    "\n",
    "**What is `datetime.now() - timedelta(days=random.randint(1, 730))` and `random.randint(1, 5)`**:  \n",
    "   `datetime.now() - timedelta(days=random.randint(1, 730))` generates a random order date within the last two years. `random.randint(1, 5)` sets a random order quantity between 1 and 5."
   ]
  },
  {
   "cell_type": "markdown",
   "metadata": {},
   "source": [
    "  - Since, prive is dynamic and can change with time, I've put price column in orders table"
   ]
  },
  {
   "cell_type": "markdown",
   "metadata": {},
   "source": [
    "- `uuid4()` in `fake.uuid4()` generates a random unique identifier (UUID) based on random numbers, which is commonly used for creating unique IDs. The datatype is a string representing the UUID in its standard 36-character format (including hyphens)."
   ]
  },
  {
   "cell_type": "markdown",
   "metadata": {},
   "source": [
    "- The line `order_date.strftime(\"%Y-%m-%d\")` formats the `order_date` into a string that follows the `YYYY-MM-DD` format (e.g., `2023-09-30`)."
   ]
  },
  {
   "cell_type": "code",
   "execution_count": 24,
   "metadata": {},
   "outputs": [],
   "source": [
    "# Generate Order Data\n",
    "def generate_orders(products, customers, num_orders=100):\n",
    "    orders = []\n",
    "    order_id=1\n",
    "    for _ in range(num_orders):\n",
    "        customer = random.choice(customers)\n",
    "        product = random.choice(products)\n",
    "        order_date = datetime.now() - timedelta(days=random.randint(1, 730))  # Random date in the last 2 years\n",
    "        quantity = random.randint(1, 5)\n",
    "        price = round(random.uniform(10, 500), 2)  # Random price between $10 and $500\n",
    "        total_price = price * quantity\n",
    "        \n",
    "        orders.append({\n",
    "            \"order_id\": order_id,\n",
    "            \"customer_id\": customer[\"customer_id\"],\n",
    "            \"product_id\": product[\"product_id\"],\n",
    "            \"order_date\": order_date.strftime(\"%Y-%m-%d\"),\n",
    "            # The line order_date.strftime(\"%Y-%m-%d\") formats the order_date into a string that follows the YYYY-MM-DD format (e.g., 2023-09-30)\n",
    "            \"quantity\": quantity,\n",
    "            \"product_price\": price, # Since, prive is dynamic and can change with time, I've put price column in orders table\n",
    "            \"total_price\": total_price\n",
    "        })\n",
    "\n",
    "        order_id += 1\n",
    "    \n",
    "    return orders\n"
   ]
  },
  {
   "cell_type": "code",
   "execution_count": 25,
   "metadata": {},
   "outputs": [
    {
     "name": "stdout",
     "output_type": "stream",
     "text": [
      "\n",
      "Generated Products:\n",
      " [{'product_id': 1, 'category': 'Clothing', 'variant_name': 'Red T-shirt', 'product_name': 'T-shirt'}, {'product_id': 2, 'category': 'Clothing', 'variant_name': 'Black T-shirt', 'product_name': 'T-shirt'}, {'product_id': 3, 'category': 'Clothing', 'variant_name': 'White T-shirt', 'product_name': 'T-shirt'}, {'product_id': 4, 'category': 'Clothing', 'variant_name': nan, 'product_name': 'Jeans'}, {'product_id': 5, 'category': 'Clothing', 'variant_name': nan, 'product_name': 'Jacket'}]\n"
     ]
    }
   ],
   "source": [
    "# Main Function to Generate All Data\n",
    "def generate_ecommerce_data():\n",
    "    # Generate products and customers\n",
    "    products = generate_products()\n",
    "    customers = generate_customers(10)  # At least 10 customers\n",
    "\n",
    "    # Generate orders (At least 2 years of order history)\n",
    "    orders = generate_orders(products, customers, num_orders=200)  # Generate 200 orders\n",
    "\n",
    "    return products, customers, orders\n",
    "\n",
    "# Run the generation\n",
    "products, customers, orders = generate_ecommerce_data()\n",
    "\n",
    "# Print the data (For demonstration purposes)\n",
    "print(\"\\nGenerated Products:\\n\", products[:5])"
   ]
  },
  {
   "cell_type": "markdown",
   "metadata": {},
   "source": [
    "- Converting these to dataframe and saving to csv files."
   ]
  },
  {
   "cell_type": "code",
   "execution_count": 26,
   "metadata": {},
   "outputs": [],
   "source": [
    "import pandas as pd\n",
    "\n",
    "df_products = pd.DataFrame(products)\n",
    "df_customers = pd.DataFrame(customers)\n",
    "df_orders = pd.DataFrame(orders)"
   ]
  },
  {
   "cell_type": "code",
   "execution_count": 27,
   "metadata": {},
   "outputs": [
    {
     "data": {
      "text/html": [
       "<div>\n",
       "<style scoped>\n",
       "    .dataframe tbody tr th:only-of-type {\n",
       "        vertical-align: middle;\n",
       "    }\n",
       "\n",
       "    .dataframe tbody tr th {\n",
       "        vertical-align: top;\n",
       "    }\n",
       "\n",
       "    .dataframe thead th {\n",
       "        text-align: right;\n",
       "    }\n",
       "</style>\n",
       "<table border=\"1\" class=\"dataframe\">\n",
       "  <thead>\n",
       "    <tr style=\"text-align: right;\">\n",
       "      <th></th>\n",
       "      <th>product_id</th>\n",
       "      <th>category</th>\n",
       "      <th>variant_name</th>\n",
       "      <th>product_name</th>\n",
       "    </tr>\n",
       "  </thead>\n",
       "  <tbody>\n",
       "    <tr>\n",
       "      <th>0</th>\n",
       "      <td>1</td>\n",
       "      <td>Clothing</td>\n",
       "      <td>Red T-shirt</td>\n",
       "      <td>T-shirt</td>\n",
       "    </tr>\n",
       "    <tr>\n",
       "      <th>1</th>\n",
       "      <td>2</td>\n",
       "      <td>Clothing</td>\n",
       "      <td>Black T-shirt</td>\n",
       "      <td>T-shirt</td>\n",
       "    </tr>\n",
       "    <tr>\n",
       "      <th>2</th>\n",
       "      <td>3</td>\n",
       "      <td>Clothing</td>\n",
       "      <td>White T-shirt</td>\n",
       "      <td>T-shirt</td>\n",
       "    </tr>\n",
       "    <tr>\n",
       "      <th>3</th>\n",
       "      <td>4</td>\n",
       "      <td>Clothing</td>\n",
       "      <td>NaN</td>\n",
       "      <td>Jeans</td>\n",
       "    </tr>\n",
       "    <tr>\n",
       "      <th>4</th>\n",
       "      <td>5</td>\n",
       "      <td>Clothing</td>\n",
       "      <td>NaN</td>\n",
       "      <td>Jacket</td>\n",
       "    </tr>\n",
       "  </tbody>\n",
       "</table>\n",
       "</div>"
      ],
      "text/plain": [
       "   product_id  category   variant_name product_name\n",
       "0           1  Clothing    Red T-shirt      T-shirt\n",
       "1           2  Clothing  Black T-shirt      T-shirt\n",
       "2           3  Clothing  White T-shirt      T-shirt\n",
       "3           4  Clothing            NaN        Jeans\n",
       "4           5  Clothing            NaN       Jacket"
      ]
     },
     "execution_count": 27,
     "metadata": {},
     "output_type": "execute_result"
    }
   ],
   "source": [
    "df_products.head()"
   ]
  },
  {
   "cell_type": "markdown",
   "metadata": {},
   "source": [
    "- To replace all commas in the address column of the df_customers DataFrame with spaces.\n",
    "- This will help remove complications while reading csv in sql_workbench"
   ]
  },
  {
   "cell_type": "code",
   "execution_count": 28,
   "metadata": {},
   "outputs": [],
   "source": [
    "df_customers['address'] = df_customers['address'].str.replace(',', ' ', regex=False)\n",
    "df_customers['address'] = df_customers['address'].str.replace('\\n', ' ', regex=False)"
   ]
  },
  {
   "cell_type": "code",
   "execution_count": 29,
   "metadata": {},
   "outputs": [
    {
     "data": {
      "text/html": [
       "<div>\n",
       "<style scoped>\n",
       "    .dataframe tbody tr th:only-of-type {\n",
       "        vertical-align: middle;\n",
       "    }\n",
       "\n",
       "    .dataframe tbody tr th {\n",
       "        vertical-align: top;\n",
       "    }\n",
       "\n",
       "    .dataframe thead th {\n",
       "        text-align: right;\n",
       "    }\n",
       "</style>\n",
       "<table border=\"1\" class=\"dataframe\">\n",
       "  <thead>\n",
       "    <tr style=\"text-align: right;\">\n",
       "      <th></th>\n",
       "      <th>customer_id</th>\n",
       "      <th>name</th>\n",
       "      <th>email</th>\n",
       "      <th>address</th>\n",
       "      <th>phone_number</th>\n",
       "    </tr>\n",
       "  </thead>\n",
       "  <tbody>\n",
       "    <tr>\n",
       "      <th>0</th>\n",
       "      <td>1</td>\n",
       "      <td>Adam Harrington</td>\n",
       "      <td>charles75@example.org</td>\n",
       "      <td>83590 Danielle Drive South Brianchester  OR 21646</td>\n",
       "      <td>001-525-541-6861x717</td>\n",
       "    </tr>\n",
       "    <tr>\n",
       "      <th>1</th>\n",
       "      <td>2</td>\n",
       "      <td>David Lopez</td>\n",
       "      <td>frankmatthew@example.com</td>\n",
       "      <td>427 Pamela Dale Suite 080 West Miguelville  VI...</td>\n",
       "      <td>+1-946-605-4049x12570</td>\n",
       "    </tr>\n",
       "    <tr>\n",
       "      <th>2</th>\n",
       "      <td>3</td>\n",
       "      <td>Gerald Thompson</td>\n",
       "      <td>fhall@example.net</td>\n",
       "      <td>8917 Stephanie Gardens West Alan  PA 73911</td>\n",
       "      <td>5432930381</td>\n",
       "    </tr>\n",
       "    <tr>\n",
       "      <th>3</th>\n",
       "      <td>4</td>\n",
       "      <td>Travis Prince</td>\n",
       "      <td>robinsonpaul@example.com</td>\n",
       "      <td>99873 James Cape Apt. 705 Richardstad  NM 46262</td>\n",
       "      <td>519-679-4522x9423</td>\n",
       "    </tr>\n",
       "    <tr>\n",
       "      <th>4</th>\n",
       "      <td>5</td>\n",
       "      <td>Michael Mitchell</td>\n",
       "      <td>steven81@example.net</td>\n",
       "      <td>29281 Nguyen Valleys Robertstad  AZ 91084</td>\n",
       "      <td>3615970595</td>\n",
       "    </tr>\n",
       "  </tbody>\n",
       "</table>\n",
       "</div>"
      ],
      "text/plain": [
       "   customer_id              name                     email  \\\n",
       "0            1   Adam Harrington     charles75@example.org   \n",
       "1            2       David Lopez  frankmatthew@example.com   \n",
       "2            3   Gerald Thompson         fhall@example.net   \n",
       "3            4     Travis Prince  robinsonpaul@example.com   \n",
       "4            5  Michael Mitchell      steven81@example.net   \n",
       "\n",
       "                                             address           phone_number  \n",
       "0  83590 Danielle Drive South Brianchester  OR 21646   001-525-541-6861x717  \n",
       "1  427 Pamela Dale Suite 080 West Miguelville  VI...  +1-946-605-4049x12570  \n",
       "2         8917 Stephanie Gardens West Alan  PA 73911             5432930381  \n",
       "3    99873 James Cape Apt. 705 Richardstad  NM 46262      519-679-4522x9423  \n",
       "4          29281 Nguyen Valleys Robertstad  AZ 91084             3615970595  "
      ]
     },
     "execution_count": 29,
     "metadata": {},
     "output_type": "execute_result"
    }
   ],
   "source": [
    "df_customers.head()"
   ]
  },
  {
   "cell_type": "code",
   "execution_count": 30,
   "metadata": {},
   "outputs": [
    {
     "data": {
      "text/plain": [
       "customer_id     0\n",
       "name            0\n",
       "email           0\n",
       "address         0\n",
       "phone_number    0\n",
       "dtype: int64"
      ]
     },
     "execution_count": 30,
     "metadata": {},
     "output_type": "execute_result"
    }
   ],
   "source": [
    "df_customers.isnull().sum()"
   ]
  },
  {
   "cell_type": "code",
   "execution_count": 31,
   "metadata": {},
   "outputs": [
    {
     "data": {
      "text/html": [
       "<div>\n",
       "<style scoped>\n",
       "    .dataframe tbody tr th:only-of-type {\n",
       "        vertical-align: middle;\n",
       "    }\n",
       "\n",
       "    .dataframe tbody tr th {\n",
       "        vertical-align: top;\n",
       "    }\n",
       "\n",
       "    .dataframe thead th {\n",
       "        text-align: right;\n",
       "    }\n",
       "</style>\n",
       "<table border=\"1\" class=\"dataframe\">\n",
       "  <thead>\n",
       "    <tr style=\"text-align: right;\">\n",
       "      <th></th>\n",
       "      <th>order_id</th>\n",
       "      <th>customer_id</th>\n",
       "      <th>product_id</th>\n",
       "      <th>order_date</th>\n",
       "      <th>quantity</th>\n",
       "      <th>product_price</th>\n",
       "      <th>total_price</th>\n",
       "    </tr>\n",
       "  </thead>\n",
       "  <tbody>\n",
       "    <tr>\n",
       "      <th>0</th>\n",
       "      <td>1</td>\n",
       "      <td>4</td>\n",
       "      <td>13</td>\n",
       "      <td>2023-09-11</td>\n",
       "      <td>2</td>\n",
       "      <td>483.39</td>\n",
       "      <td>966.78</td>\n",
       "    </tr>\n",
       "    <tr>\n",
       "      <th>1</th>\n",
       "      <td>2</td>\n",
       "      <td>5</td>\n",
       "      <td>11</td>\n",
       "      <td>2024-09-16</td>\n",
       "      <td>4</td>\n",
       "      <td>441.68</td>\n",
       "      <td>1766.72</td>\n",
       "    </tr>\n",
       "    <tr>\n",
       "      <th>2</th>\n",
       "      <td>3</td>\n",
       "      <td>4</td>\n",
       "      <td>15</td>\n",
       "      <td>2024-04-09</td>\n",
       "      <td>5</td>\n",
       "      <td>43.21</td>\n",
       "      <td>216.05</td>\n",
       "    </tr>\n",
       "    <tr>\n",
       "      <th>3</th>\n",
       "      <td>4</td>\n",
       "      <td>4</td>\n",
       "      <td>5</td>\n",
       "      <td>2022-12-16</td>\n",
       "      <td>4</td>\n",
       "      <td>171.53</td>\n",
       "      <td>686.12</td>\n",
       "    </tr>\n",
       "    <tr>\n",
       "      <th>4</th>\n",
       "      <td>5</td>\n",
       "      <td>6</td>\n",
       "      <td>7</td>\n",
       "      <td>2023-07-29</td>\n",
       "      <td>5</td>\n",
       "      <td>388.29</td>\n",
       "      <td>1941.45</td>\n",
       "    </tr>\n",
       "  </tbody>\n",
       "</table>\n",
       "</div>"
      ],
      "text/plain": [
       "   order_id  customer_id  product_id  order_date  quantity  product_price  \\\n",
       "0         1            4          13  2023-09-11         2         483.39   \n",
       "1         2            5          11  2024-09-16         4         441.68   \n",
       "2         3            4          15  2024-04-09         5          43.21   \n",
       "3         4            4           5  2022-12-16         4         171.53   \n",
       "4         5            6           7  2023-07-29         5         388.29   \n",
       "\n",
       "   total_price  \n",
       "0       966.78  \n",
       "1      1766.72  \n",
       "2       216.05  \n",
       "3       686.12  \n",
       "4      1941.45  "
      ]
     },
     "execution_count": 31,
     "metadata": {},
     "output_type": "execute_result"
    }
   ],
   "source": [
    "df_orders.head()"
   ]
  },
  {
   "cell_type": "code",
   "execution_count": 32,
   "metadata": {},
   "outputs": [],
   "source": [
    "df_products.to_csv(\"products.csv\", index=False)\n",
    "df_customers.to_csv(\"customers.csv\", index=False)\n",
    "df_orders.to_csv(\"orders.csv\", index=False)"
   ]
  },
  {
   "cell_type": "code",
   "execution_count": 33,
   "metadata": {},
   "outputs": [
    {
     "data": {
      "text/plain": [
       "product_id      0\n",
       "category        0\n",
       "variant_name    6\n",
       "product_name    0\n",
       "dtype: int64"
      ]
     },
     "execution_count": 33,
     "metadata": {},
     "output_type": "execute_result"
    }
   ],
   "source": [
    "df_products.isnull().sum()"
   ]
  }
 ],
 "metadata": {
  "kernelspec": {
   "display_name": "Python 3",
   "language": "python",
   "name": "python3"
  },
  "language_info": {
   "codemirror_mode": {
    "name": "ipython",
    "version": 3
   },
   "file_extension": ".py",
   "mimetype": "text/x-python",
   "name": "python",
   "nbconvert_exporter": "python",
   "pygments_lexer": "ipython3",
   "version": "3.11.5"
  }
 },
 "nbformat": 4,
 "nbformat_minor": 2
}
