{
 "cells": [
  {
   "cell_type": "code",
   "execution_count": 172,
   "metadata": {},
   "outputs": [
    {
     "name": "stdout",
     "output_type": "stream",
     "text": [
      "hello world!\n"
     ]
    }
   ],
   "source": [
    "print(\"hello world!\")"
   ]
  },
  {
   "cell_type": "markdown",
   "metadata": {},
   "source": [
    "**What is `faker` in `import faker`**:  \n",
    "   `faker` is a Python library that generates fake data, such as names, addresses, and emails. It is useful for testing and simulating realistic-looking random data in various domains.\n",
    "\n",
    "**What is `faker`**:  \n",
    "   `faker` is a module within the `Faker` library used to generate random fake data, such as names, addresses, and emails. It helps simulate realistic data for development and testing purposes.\n",
    "\n",
    "**What are `datetime`, `timedelta` in `from datetime import datetime, timedelta`**:  \n",
    "   `datetime` represents date and time, while `timedelta` represents a duration or difference between two dates. They are used to manipulate and generate dates for order history."
   ]
  },
  {
   "cell_type": "code",
   "execution_count": 173,
   "metadata": {},
   "outputs": [],
   "source": [
    "import random\n",
    "import faker\n",
    "from datetime import datetime, timedelta"
   ]
  },
  {
   "cell_type": "markdown",
   "metadata": {},
   "source": [
    "\n",
    "**What is `random.random()`**:  \n",
    "   `random.random()` returns a random floating-point number between 0 and 1. It’s used to create a probability condition (like deciding if a product should have variants)."
   ]
  },
  {
   "cell_type": "code",
   "execution_count": 174,
   "metadata": {},
   "outputs": [],
   "source": [
    "# Constants\n",
    "PRODUCT_CATEGORIES = [\"Clothing\", \"Groceries\", \"Electronics\"]\n",
    "PRODUCTS = {\n",
    "    \"Clothing\": [\"T-shirt\", \"Jeans\", \"Jacket\"],\n",
    "    \"Groceries\": [\"Rice\", \"Pasta\", \"Olive Oil\"],\n",
    "    \"Electronics\": [\"Laptop\", \"Smartphone\", \"Headphones\", \"ipad\"]\n",
    "}\n",
    "COLORS = [\"Red\", \"Green\", \"Blue\", \"Black\", \"White\"]\n",
    "VARIANT_CHANCE = 0.5  # 50% chance of a product having variants\n",
    "\n",
    "# Generate Product Data\n",
    "def generate_products():\n",
    "    products = []\n",
    "    product_id = 1\n",
    "\n",
    "    for category, product_names in PRODUCTS.items():\n",
    "        for product in product_names:\n",
    "            # Check if product should have variants\n",
    "            if (random.random() < VARIANT_CHANCE) and (category != \"Groceries\" ):\n",
    "                # Generate variants\n",
    "                for color in random.sample(COLORS, random.randint(1, 3)):\n",
    "                    variant_name = f\"{color} {product}\"\n",
    "                    products.append({\"product_id\": product_id, \"category\": category, \"name\": variant_name})\n",
    "                    product_id += 1\n",
    "            else:\n",
    "                # No variants, add the product itself\n",
    "                price = round(random.uniform(10, 500), 2)\n",
    "                products.append({\"product_id\": product_id, \"category\": category, \"name\": product})\n",
    "                product_id += 1\n",
    "    \n",
    "    return products"
   ]
  },
  {
   "cell_type": "markdown",
   "metadata": {},
   "source": [
    "\n",
    "**What is `faker.Faker()`**:  \n",
    "   `faker.Faker()` initializes a `Faker` instance that provides access to methods for generating fake data. It acts as a generator for creating random names, addresses, emails, etc.\n",
    "\n",
    "\n",
    "**What are `faker.Faker().name()`, `faker.Faker().email()`, `faker.Faker().address()`, `faker.Faker().phone_number()`**:  \n",
    "   These methods from `Faker` generate a fake person’s name, email, address, and phone number. They are useful for simulating customer data in an e-commerce scenario."
   ]
  },
  {
   "cell_type": "code",
   "execution_count": 175,
   "metadata": {},
   "outputs": [],
   "source": [
    "# Initialize Faker\n",
    "fake = faker.Faker()\n",
    "\n",
    "# Generate Customer Data\n",
    "def generate_customers(num_customers):\n",
    "    customers = []\n",
    "    customer_id = 1\n",
    "    for _ in range(num_customers):\n",
    "        customers.append({\n",
    "            \"customer_id\": customer_id,\n",
    "            \"name\": fake.name(),\n",
    "            \"email\": fake.email(),\n",
    "            \"address\": fake.address(),\n",
    "            \"phone_number\": fake.phone_number()\n",
    "        })\n",
    "\n",
    "        customer_id += 1\n",
    "    return customers\n"
   ]
  },
  {
   "cell_type": "markdown",
   "metadata": {},
   "source": [
    "\n",
    "**What are `random.choice` and `random.randint` in `generate_orders()`**:  \n",
    "   `random.choice()` selects a random item from a list (e.g., a random product or customer). `random.randint()` generates a random integer within a specified range (e.g., the number of order items).\n",
    "\n",
    "**What is `datetime.now() - timedelta(days=random.randint(1, 730))` and `random.randint(1, 5)`**:  \n",
    "   `datetime.now() - timedelta(days=random.randint(1, 730))` generates a random order date within the last two years. `random.randint(1, 5)` sets a random order quantity between 1 and 5."
   ]
  },
  {
   "cell_type": "markdown",
   "metadata": {},
   "source": [
    "  - Since, prive is dynamic and can change with time, I've put price column in orders table"
   ]
  },
  {
   "cell_type": "markdown",
   "metadata": {},
   "source": [
    "- `uuid4()` in `fake.uuid4()` generates a random unique identifier (UUID) based on random numbers, which is commonly used for creating unique IDs. The datatype is a string representing the UUID in its standard 36-character format (including hyphens)."
   ]
  },
  {
   "cell_type": "markdown",
   "metadata": {},
   "source": [
    "- The line `order_date.strftime(\"%Y-%m-%d\")` formats the `order_date` into a string that follows the `YYYY-MM-DD` format (e.g., `2023-09-30`)."
   ]
  },
  {
   "cell_type": "code",
   "execution_count": 176,
   "metadata": {},
   "outputs": [],
   "source": [
    "# Generate Order Data\n",
    "def generate_orders(products, customers, num_orders=100):\n",
    "    orders = []\n",
    "    order_id=1\n",
    "    for _ in range(num_orders):\n",
    "        customer = random.choice(customers)\n",
    "        product = random.choice(products)\n",
    "        order_date = datetime.now() - timedelta(days=random.randint(1, 730))  # Random date in the last 2 years\n",
    "        quantity = random.randint(1, 5)\n",
    "        price = round(random.uniform(10, 500), 2)  # Random price between $10 and $500\n",
    "        total_price = price * quantity\n",
    "        \n",
    "        orders.append({\n",
    "            \"order_id\": order_id,\n",
    "            \"customer_id\": customer[\"customer_id\"],\n",
    "            \"product_id\": product[\"product_id\"],\n",
    "            \"order_date\": order_date.strftime(\"%Y-%m-%d\"),\n",
    "            # The line order_date.strftime(\"%Y-%m-%d\") formats the order_date into a string that follows the YYYY-MM-DD format (e.g., 2023-09-30)\n",
    "            \"quantity\": quantity,\n",
    "            \"product_price\": price, # Since, prive is dynamic and can change with time, I've put price column in orders table\n",
    "            \"total_price\": total_price\n",
    "        })\n",
    "\n",
    "        order_id += 1\n",
    "    \n",
    "    return orders\n"
   ]
  },
  {
   "cell_type": "code",
   "execution_count": 177,
   "metadata": {},
   "outputs": [
    {
     "name": "stdout",
     "output_type": "stream",
     "text": [
      "\n",
      "Generated Products:\n",
      " [{'product_id': 1, 'category': 'Clothing', 'name': 'Green T-shirt'}, {'product_id': 2, 'category': 'Clothing', 'name': 'Jeans'}, {'product_id': 3, 'category': 'Clothing', 'name': 'Blue Jacket'}, {'product_id': 4, 'category': 'Groceries', 'name': 'Rice'}, {'product_id': 5, 'category': 'Groceries', 'name': 'Pasta'}]\n"
     ]
    }
   ],
   "source": [
    "# Main Function to Generate All Data\n",
    "def generate_ecommerce_data():\n",
    "    # Generate products and customers\n",
    "    products = generate_products()\n",
    "    customers = generate_customers(10)  # At least 10 customers\n",
    "\n",
    "    # Generate orders (At least 2 years of order history)\n",
    "    orders = generate_orders(products, customers, num_orders=200)  # Generate 200 orders\n",
    "\n",
    "    return products, customers, orders\n",
    "\n",
    "# Run the generation\n",
    "products, customers, orders = generate_ecommerce_data()\n",
    "\n",
    "# Print the data (For demonstration purposes)\n",
    "print(\"\\nGenerated Products:\\n\", products[:5])"
   ]
  },
  {
   "cell_type": "markdown",
   "metadata": {},
   "source": [
    "- Converting these to dataframe and saving to csv files."
   ]
  },
  {
   "cell_type": "code",
   "execution_count": 178,
   "metadata": {},
   "outputs": [],
   "source": [
    "import pandas as pd\n",
    "\n",
    "df_products = pd.DataFrame(products)\n",
    "df_customers = pd.DataFrame(customers)\n",
    "df_orders = pd.DataFrame(orders)"
   ]
  },
  {
   "cell_type": "code",
   "execution_count": 179,
   "metadata": {},
   "outputs": [
    {
     "data": {
      "text/html": [
       "<div>\n",
       "<style scoped>\n",
       "    .dataframe tbody tr th:only-of-type {\n",
       "        vertical-align: middle;\n",
       "    }\n",
       "\n",
       "    .dataframe tbody tr th {\n",
       "        vertical-align: top;\n",
       "    }\n",
       "\n",
       "    .dataframe thead th {\n",
       "        text-align: right;\n",
       "    }\n",
       "</style>\n",
       "<table border=\"1\" class=\"dataframe\">\n",
       "  <thead>\n",
       "    <tr style=\"text-align: right;\">\n",
       "      <th></th>\n",
       "      <th>product_id</th>\n",
       "      <th>category</th>\n",
       "      <th>name</th>\n",
       "    </tr>\n",
       "  </thead>\n",
       "  <tbody>\n",
       "    <tr>\n",
       "      <th>0</th>\n",
       "      <td>1</td>\n",
       "      <td>Clothing</td>\n",
       "      <td>Green T-shirt</td>\n",
       "    </tr>\n",
       "    <tr>\n",
       "      <th>1</th>\n",
       "      <td>2</td>\n",
       "      <td>Clothing</td>\n",
       "      <td>Jeans</td>\n",
       "    </tr>\n",
       "    <tr>\n",
       "      <th>2</th>\n",
       "      <td>3</td>\n",
       "      <td>Clothing</td>\n",
       "      <td>Blue Jacket</td>\n",
       "    </tr>\n",
       "    <tr>\n",
       "      <th>3</th>\n",
       "      <td>4</td>\n",
       "      <td>Groceries</td>\n",
       "      <td>Rice</td>\n",
       "    </tr>\n",
       "    <tr>\n",
       "      <th>4</th>\n",
       "      <td>5</td>\n",
       "      <td>Groceries</td>\n",
       "      <td>Pasta</td>\n",
       "    </tr>\n",
       "  </tbody>\n",
       "</table>\n",
       "</div>"
      ],
      "text/plain": [
       "   product_id   category           name\n",
       "0           1   Clothing  Green T-shirt\n",
       "1           2   Clothing          Jeans\n",
       "2           3   Clothing    Blue Jacket\n",
       "3           4  Groceries           Rice\n",
       "4           5  Groceries          Pasta"
      ]
     },
     "execution_count": 179,
     "metadata": {},
     "output_type": "execute_result"
    }
   ],
   "source": [
    "df_products.head()"
   ]
  },
  {
   "cell_type": "markdown",
   "metadata": {},
   "source": [
    "- To replace all commas in the address column of the df_customers DataFrame with spaces.\n",
    "- This will help remove complications while reading csv in sql_workbench"
   ]
  },
  {
   "cell_type": "code",
   "execution_count": 180,
   "metadata": {},
   "outputs": [],
   "source": [
    "df_customers['address'] = df_customers['address'].str.replace(',', ' ', regex=False)\n",
    "df_customers['address'] = df_customers['address'].str.replace('\\n', ' ', regex=False)"
   ]
  },
  {
   "cell_type": "code",
   "execution_count": 181,
   "metadata": {},
   "outputs": [
    {
     "data": {
      "text/html": [
       "<div>\n",
       "<style scoped>\n",
       "    .dataframe tbody tr th:only-of-type {\n",
       "        vertical-align: middle;\n",
       "    }\n",
       "\n",
       "    .dataframe tbody tr th {\n",
       "        vertical-align: top;\n",
       "    }\n",
       "\n",
       "    .dataframe thead th {\n",
       "        text-align: right;\n",
       "    }\n",
       "</style>\n",
       "<table border=\"1\" class=\"dataframe\">\n",
       "  <thead>\n",
       "    <tr style=\"text-align: right;\">\n",
       "      <th></th>\n",
       "      <th>customer_id</th>\n",
       "      <th>name</th>\n",
       "      <th>email</th>\n",
       "      <th>address</th>\n",
       "      <th>phone_number</th>\n",
       "    </tr>\n",
       "  </thead>\n",
       "  <tbody>\n",
       "    <tr>\n",
       "      <th>0</th>\n",
       "      <td>1</td>\n",
       "      <td>Tracy Chavez</td>\n",
       "      <td>mharris@example.net</td>\n",
       "      <td>8932 Michael Mills Johnport  PA 61538</td>\n",
       "      <td>266-255-8610x6944</td>\n",
       "    </tr>\n",
       "    <tr>\n",
       "      <th>1</th>\n",
       "      <td>2</td>\n",
       "      <td>Marie Thomas</td>\n",
       "      <td>jhernandez@example.net</td>\n",
       "      <td>452 Daniel Avenue Christopherside  DC 28520</td>\n",
       "      <td>835-922-6123x899</td>\n",
       "    </tr>\n",
       "    <tr>\n",
       "      <th>2</th>\n",
       "      <td>3</td>\n",
       "      <td>Jason Jefferson</td>\n",
       "      <td>richardashley@example.net</td>\n",
       "      <td>PSC 2123  Box 9037 APO AP 76384</td>\n",
       "      <td>(928)353-1084</td>\n",
       "    </tr>\n",
       "    <tr>\n",
       "      <th>3</th>\n",
       "      <td>4</td>\n",
       "      <td>Michael Gibbs</td>\n",
       "      <td>omartinez@example.com</td>\n",
       "      <td>5675 Davis Forges Suite 968 Port Thomaschester...</td>\n",
       "      <td>(503)816-3507x2943</td>\n",
       "    </tr>\n",
       "    <tr>\n",
       "      <th>4</th>\n",
       "      <td>5</td>\n",
       "      <td>Alexander York</td>\n",
       "      <td>mclaughlinryan@example.net</td>\n",
       "      <td>4600 Mary Street Suite 277 Port Rebecca  HI 38069</td>\n",
       "      <td>696-806-0403x753</td>\n",
       "    </tr>\n",
       "  </tbody>\n",
       "</table>\n",
       "</div>"
      ],
      "text/plain": [
       "   customer_id             name                       email  \\\n",
       "0            1     Tracy Chavez         mharris@example.net   \n",
       "1            2     Marie Thomas      jhernandez@example.net   \n",
       "2            3  Jason Jefferson   richardashley@example.net   \n",
       "3            4    Michael Gibbs       omartinez@example.com   \n",
       "4            5   Alexander York  mclaughlinryan@example.net   \n",
       "\n",
       "                                             address        phone_number  \n",
       "0              8932 Michael Mills Johnport  PA 61538   266-255-8610x6944  \n",
       "1        452 Daniel Avenue Christopherside  DC 28520    835-922-6123x899  \n",
       "2                    PSC 2123  Box 9037 APO AP 76384       (928)353-1084  \n",
       "3  5675 Davis Forges Suite 968 Port Thomaschester...  (503)816-3507x2943  \n",
       "4  4600 Mary Street Suite 277 Port Rebecca  HI 38069    696-806-0403x753  "
      ]
     },
     "execution_count": 181,
     "metadata": {},
     "output_type": "execute_result"
    }
   ],
   "source": [
    "df_customers.head()"
   ]
  },
  {
   "cell_type": "code",
   "execution_count": 182,
   "metadata": {},
   "outputs": [
    {
     "data": {
      "text/plain": [
       "customer_id     0\n",
       "name            0\n",
       "email           0\n",
       "address         0\n",
       "phone_number    0\n",
       "dtype: int64"
      ]
     },
     "execution_count": 182,
     "metadata": {},
     "output_type": "execute_result"
    }
   ],
   "source": [
    "df_customers.isnull().sum()"
   ]
  },
  {
   "cell_type": "code",
   "execution_count": 183,
   "metadata": {},
   "outputs": [
    {
     "data": {
      "text/html": [
       "<div>\n",
       "<style scoped>\n",
       "    .dataframe tbody tr th:only-of-type {\n",
       "        vertical-align: middle;\n",
       "    }\n",
       "\n",
       "    .dataframe tbody tr th {\n",
       "        vertical-align: top;\n",
       "    }\n",
       "\n",
       "    .dataframe thead th {\n",
       "        text-align: right;\n",
       "    }\n",
       "</style>\n",
       "<table border=\"1\" class=\"dataframe\">\n",
       "  <thead>\n",
       "    <tr style=\"text-align: right;\">\n",
       "      <th></th>\n",
       "      <th>order_id</th>\n",
       "      <th>customer_id</th>\n",
       "      <th>product_id</th>\n",
       "      <th>order_date</th>\n",
       "      <th>quantity</th>\n",
       "      <th>product_price</th>\n",
       "      <th>total_price</th>\n",
       "    </tr>\n",
       "  </thead>\n",
       "  <tbody>\n",
       "    <tr>\n",
       "      <th>0</th>\n",
       "      <td>1</td>\n",
       "      <td>4</td>\n",
       "      <td>3</td>\n",
       "      <td>2024-08-08</td>\n",
       "      <td>1</td>\n",
       "      <td>426.62</td>\n",
       "      <td>426.62</td>\n",
       "    </tr>\n",
       "    <tr>\n",
       "      <th>1</th>\n",
       "      <td>2</td>\n",
       "      <td>3</td>\n",
       "      <td>5</td>\n",
       "      <td>2024-06-19</td>\n",
       "      <td>4</td>\n",
       "      <td>301.37</td>\n",
       "      <td>1205.48</td>\n",
       "    </tr>\n",
       "    <tr>\n",
       "      <th>2</th>\n",
       "      <td>3</td>\n",
       "      <td>4</td>\n",
       "      <td>6</td>\n",
       "      <td>2023-04-12</td>\n",
       "      <td>1</td>\n",
       "      <td>463.27</td>\n",
       "      <td>463.27</td>\n",
       "    </tr>\n",
       "    <tr>\n",
       "      <th>3</th>\n",
       "      <td>4</td>\n",
       "      <td>4</td>\n",
       "      <td>6</td>\n",
       "      <td>2023-01-29</td>\n",
       "      <td>4</td>\n",
       "      <td>388.65</td>\n",
       "      <td>1554.60</td>\n",
       "    </tr>\n",
       "    <tr>\n",
       "      <th>4</th>\n",
       "      <td>5</td>\n",
       "      <td>6</td>\n",
       "      <td>11</td>\n",
       "      <td>2024-04-06</td>\n",
       "      <td>5</td>\n",
       "      <td>269.91</td>\n",
       "      <td>1349.55</td>\n",
       "    </tr>\n",
       "  </tbody>\n",
       "</table>\n",
       "</div>"
      ],
      "text/plain": [
       "   order_id  customer_id  product_id  order_date  quantity  product_price  \\\n",
       "0         1            4           3  2024-08-08         1         426.62   \n",
       "1         2            3           5  2024-06-19         4         301.37   \n",
       "2         3            4           6  2023-04-12         1         463.27   \n",
       "3         4            4           6  2023-01-29         4         388.65   \n",
       "4         5            6          11  2024-04-06         5         269.91   \n",
       "\n",
       "   total_price  \n",
       "0       426.62  \n",
       "1      1205.48  \n",
       "2       463.27  \n",
       "3      1554.60  \n",
       "4      1349.55  "
      ]
     },
     "execution_count": 183,
     "metadata": {},
     "output_type": "execute_result"
    }
   ],
   "source": [
    "df_orders.head()"
   ]
  },
  {
   "cell_type": "code",
   "execution_count": 184,
   "metadata": {},
   "outputs": [],
   "source": [
    "df_products.to_csv(\"products.csv\", index=False)\n",
    "df_customers.to_csv(\"customers.csv\", index=False)\n",
    "df_orders.to_csv(\"orders.csv\", index=False)"
   ]
  }
 ],
 "metadata": {
  "kernelspec": {
   "display_name": "Python 3",
   "language": "python",
   "name": "python3"
  },
  "language_info": {
   "codemirror_mode": {
    "name": "ipython",
    "version": 3
   },
   "file_extension": ".py",
   "mimetype": "text/x-python",
   "name": "python",
   "nbconvert_exporter": "python",
   "pygments_lexer": "ipython3",
   "version": "3.11.5"
  }
 },
 "nbformat": 4,
 "nbformat_minor": 2
}
