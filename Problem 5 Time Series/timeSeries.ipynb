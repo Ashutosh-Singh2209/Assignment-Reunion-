{
 "cells": [
  {
   "cell_type": "code",
   "execution_count": null,
   "metadata": {},
   "outputs": [],
   "source": []
  },
  {
   "cell_type": "markdown",
   "metadata": {},
   "source": []
  },
  {
   "cell_type": "code",
   "execution_count": 1,
   "metadata": {},
   "outputs": [
    {
     "name": "stdout",
     "output_type": "stream",
     "text": [
      "(10885, 4)\n"
     ]
    },
    {
     "data": {
      "text/html": [
       "<div>\n",
       "<style scoped>\n",
       "    .dataframe tbody tr th:only-of-type {\n",
       "        vertical-align: middle;\n",
       "    }\n",
       "\n",
       "    .dataframe tbody tr th {\n",
       "        vertical-align: top;\n",
       "    }\n",
       "\n",
       "    .dataframe thead th {\n",
       "        text-align: right;\n",
       "    }\n",
       "</style>\n",
       "<table border=\"1\" class=\"dataframe\">\n",
       "  <thead>\n",
       "    <tr style=\"text-align: right;\">\n",
       "      <th></th>\n",
       "      <th>Name</th>\n",
       "      <th>Start</th>\n",
       "      <th>End</th>\n",
       "      <th>Activity</th>\n",
       "    </tr>\n",
       "  </thead>\n",
       "  <tbody>\n",
       "    <tr>\n",
       "      <th>0</th>\n",
       "      <td>Priyanka</td>\n",
       "      <td>2023-10-10 22:43:52.620</td>\n",
       "      <td>2023-07-20 03:31:52.620</td>\n",
       "      <td>Inspection</td>\n",
       "    </tr>\n",
       "    <tr>\n",
       "      <th>1</th>\n",
       "      <td>Jyoti</td>\n",
       "      <td>2023-08-24 05:55:52.620</td>\n",
       "      <td>2023-05-17 20:19:52.620</td>\n",
       "      <td>Remote Inspection</td>\n",
       "    </tr>\n",
       "  </tbody>\n",
       "</table>\n",
       "</div>"
      ],
      "text/plain": [
       "       Name                   Start                     End           Activity\n",
       "0  Priyanka 2023-10-10 22:43:52.620 2023-07-20 03:31:52.620         Inspection\n",
       "1     Jyoti 2023-08-24 05:55:52.620 2023-05-17 20:19:52.620  Remote Inspection"
      ]
     },
     "execution_count": 1,
     "metadata": {},
     "output_type": "execute_result"
    }
   ],
   "source": [
    "import pandas as pd\n",
    "\n",
    "df = pd.read_excel('Time Series.xlsx')\n",
    "\n",
    "print(df.shape)\n",
    "df.head(2)"
   ]
  },
  {
   "cell_type": "code",
   "execution_count": 2,
   "metadata": {},
   "outputs": [
    {
     "data": {
      "text/plain": [
       "array(['Priyanka', 'Jyoti', 'Deepti', 'Sharan', 'Ravi'], dtype=object)"
      ]
     },
     "execution_count": 2,
     "metadata": {},
     "output_type": "execute_result"
    }
   ],
   "source": [
    "df.Name.unique()"
   ]
  },
  {
   "cell_type": "code",
   "execution_count": 3,
   "metadata": {},
   "outputs": [],
   "source": [
    "# df['Start'] = pd.to_datetime(df['Start'])\n",
    "# df['End'] = pd.to_datetime(df['End'])"
   ]
  },
  {
   "cell_type": "code",
   "execution_count": 4,
   "metadata": {},
   "outputs": [
    {
     "data": {
      "text/plain": [
       "Name                object\n",
       "Start       datetime64[ns]\n",
       "End         datetime64[ns]\n",
       "Activity            object\n",
       "dtype: object"
      ]
     },
     "execution_count": 4,
     "metadata": {},
     "output_type": "execute_result"
    }
   ],
   "source": [
    "df.dtypes"
   ]
  },
  {
   "cell_type": "markdown",
   "metadata": {},
   "source": [
    "- Above is date-time object with nano-second resolution"
   ]
  },
  {
   "cell_type": "code",
   "execution_count": 5,
   "metadata": {},
   "outputs": [],
   "source": []
  },
  {
   "cell_type": "code",
   "execution_count": 5,
   "metadata": {},
   "outputs": [
    {
     "data": {
      "text/html": [
       "<div>\n",
       "<style scoped>\n",
       "    .dataframe tbody tr th:only-of-type {\n",
       "        vertical-align: middle;\n",
       "    }\n",
       "\n",
       "    .dataframe tbody tr th {\n",
       "        vertical-align: top;\n",
       "    }\n",
       "\n",
       "    .dataframe thead th {\n",
       "        text-align: right;\n",
       "    }\n",
       "</style>\n",
       "<table border=\"1\" class=\"dataframe\">\n",
       "  <thead>\n",
       "    <tr style=\"text-align: right;\">\n",
       "      <th></th>\n",
       "      <th>Name</th>\n",
       "      <th>Start</th>\n",
       "      <th>End</th>\n",
       "      <th>Activity</th>\n",
       "    </tr>\n",
       "  </thead>\n",
       "  <tbody>\n",
       "    <tr>\n",
       "      <th>0</th>\n",
       "      <td>Priyanka</td>\n",
       "      <td>2023-10-10 22:43:52.620</td>\n",
       "      <td>2023-07-20 03:31:52.620</td>\n",
       "      <td>Inspection</td>\n",
       "    </tr>\n",
       "    <tr>\n",
       "      <th>1</th>\n",
       "      <td>Jyoti</td>\n",
       "      <td>2023-08-24 05:55:52.620</td>\n",
       "      <td>2023-05-17 20:19:52.620</td>\n",
       "      <td>Remote Inspection</td>\n",
       "    </tr>\n",
       "    <tr>\n",
       "      <th>2</th>\n",
       "      <td>Jyoti</td>\n",
       "      <td>2023-06-08 08:19:52.620</td>\n",
       "      <td>2023-04-08 05:55:52.620</td>\n",
       "      <td>Updates</td>\n",
       "    </tr>\n",
       "    <tr>\n",
       "      <th>3</th>\n",
       "      <td>Priyanka</td>\n",
       "      <td>2023-09-21 15:31:52.620</td>\n",
       "      <td>2023-05-27 10:43:52.620</td>\n",
       "      <td>Reporting</td>\n",
       "    </tr>\n",
       "    <tr>\n",
       "      <th>4</th>\n",
       "      <td>Priyanka</td>\n",
       "      <td>2023-10-07 03:31:52.620</td>\n",
       "      <td>2023-04-30 13:07:52.620</td>\n",
       "      <td>Reply to Customers</td>\n",
       "    </tr>\n",
       "  </tbody>\n",
       "</table>\n",
       "</div>"
      ],
      "text/plain": [
       "       Name                   Start                     End  \\\n",
       "0  Priyanka 2023-10-10 22:43:52.620 2023-07-20 03:31:52.620   \n",
       "1     Jyoti 2023-08-24 05:55:52.620 2023-05-17 20:19:52.620   \n",
       "2     Jyoti 2023-06-08 08:19:52.620 2023-04-08 05:55:52.620   \n",
       "3  Priyanka 2023-09-21 15:31:52.620 2023-05-27 10:43:52.620   \n",
       "4  Priyanka 2023-10-07 03:31:52.620 2023-04-30 13:07:52.620   \n",
       "\n",
       "             Activity  \n",
       "0          Inspection  \n",
       "1   Remote Inspection  \n",
       "2             Updates  \n",
       "3           Reporting  \n",
       "4  Reply to Customers  "
      ]
     },
     "execution_count": 5,
     "metadata": {},
     "output_type": "execute_result"
    }
   ],
   "source": [
    "df.head()"
   ]
  },
  {
   "cell_type": "markdown",
   "metadata": {},
   "source": [
    "- **`itertools`**: A Python module that provides fast, memory-efficient tools to create and manipulate iterators for looping and data aggregation.\n",
    "- **`itertools.groupby`**: A function that groups consecutive elements of an iterable based on a key function, returning key-value pairs where each key is associated with its corresponding group."
   ]
  },
  {
   "cell_type": "code",
   "execution_count": 6,
   "metadata": {},
   "outputs": [
    {
     "data": {
      "text/plain": [
       "array([Timestamp('2023-10-10 22:43:52.620000'),\n",
       "       Timestamp('2023-07-20 03:31:52.620000')], dtype=object)"
      ]
     },
     "execution_count": 6,
     "metadata": {},
     "output_type": "execute_result"
    }
   ],
   "source": [
    "df.iloc[0][['Start', 'End']].values"
   ]
  },
  {
   "cell_type": "code",
   "execution_count": 7,
   "metadata": {},
   "outputs": [
    {
     "data": {
      "text/plain": [
       "Timestamp('2023-10-10 22:43:52.620000')"
      ]
     },
     "execution_count": 7,
     "metadata": {},
     "output_type": "execute_result"
    }
   ],
   "source": [
    "df.iloc[0][['Start', 'End']].values[0]"
   ]
  },
  {
   "cell_type": "markdown",
   "metadata": {},
   "source": [
    "#### Merge Overlapping or Continuous Periods:"
   ]
  },
  {
   "cell_type": "code",
   "execution_count": 8,
   "metadata": {},
   "outputs": [],
   "source": [
    "i=1\n",
    "temp_df=0\n",
    "\n",
    "for group in df.groupby('Name'):\n",
    "    temp_df = group\n",
    "    i+=1\n",
    "    if i==1:\n",
    "        break"
   ]
  },
  {
   "cell_type": "code",
   "execution_count": 9,
   "metadata": {},
   "outputs": [
    {
     "data": {
      "text/plain": [
       "tuple"
      ]
     },
     "execution_count": 9,
     "metadata": {},
     "output_type": "execute_result"
    }
   ],
   "source": [
    "type(temp_df)"
   ]
  },
  {
   "cell_type": "code",
   "execution_count": 10,
   "metadata": {},
   "outputs": [
    {
     "name": "stdout",
     "output_type": "stream",
     "text": [
      "Sharan\n"
     ]
    },
    {
     "data": {
      "text/html": [
       "<div>\n",
       "<style scoped>\n",
       "    .dataframe tbody tr th:only-of-type {\n",
       "        vertical-align: middle;\n",
       "    }\n",
       "\n",
       "    .dataframe tbody tr th {\n",
       "        vertical-align: top;\n",
       "    }\n",
       "\n",
       "    .dataframe thead th {\n",
       "        text-align: right;\n",
       "    }\n",
       "</style>\n",
       "<table border=\"1\" class=\"dataframe\">\n",
       "  <thead>\n",
       "    <tr style=\"text-align: right;\">\n",
       "      <th></th>\n",
       "      <th>Name</th>\n",
       "      <th>Start</th>\n",
       "      <th>End</th>\n",
       "      <th>Activity</th>\n",
       "    </tr>\n",
       "  </thead>\n",
       "  <tbody>\n",
       "    <tr>\n",
       "      <th>9</th>\n",
       "      <td>Sharan</td>\n",
       "      <td>2023-06-08 13:07:52.620</td>\n",
       "      <td>2023-09-24 01:07:52.620</td>\n",
       "      <td>Reply to Customers</td>\n",
       "    </tr>\n",
       "    <tr>\n",
       "      <th>14</th>\n",
       "      <td>Sharan</td>\n",
       "      <td>2023-09-18 10:43:52.620</td>\n",
       "      <td>2023-07-31 03:31:52.620</td>\n",
       "      <td>Business Development</td>\n",
       "    </tr>\n",
       "    <tr>\n",
       "      <th>17</th>\n",
       "      <td>Sharan</td>\n",
       "      <td>2023-09-06 08:19:52.620</td>\n",
       "      <td>2023-05-11 15:31:52.620</td>\n",
       "      <td>Inspection</td>\n",
       "    </tr>\n",
       "    <tr>\n",
       "      <th>19</th>\n",
       "      <td>Sharan</td>\n",
       "      <td>2023-09-06 01:07:52.620</td>\n",
       "      <td>2023-07-17 20:19:52.620</td>\n",
       "      <td>Podcast</td>\n",
       "    </tr>\n",
       "    <tr>\n",
       "      <th>21</th>\n",
       "      <td>Sharan</td>\n",
       "      <td>2023-10-09 08:19:52.620</td>\n",
       "      <td>2023-08-01 13:07:52.620</td>\n",
       "      <td>Reply to Customers</td>\n",
       "    </tr>\n",
       "  </tbody>\n",
       "</table>\n",
       "</div>"
      ],
      "text/plain": [
       "      Name                   Start                     End  \\\n",
       "9   Sharan 2023-06-08 13:07:52.620 2023-09-24 01:07:52.620   \n",
       "14  Sharan 2023-09-18 10:43:52.620 2023-07-31 03:31:52.620   \n",
       "17  Sharan 2023-09-06 08:19:52.620 2023-05-11 15:31:52.620   \n",
       "19  Sharan 2023-09-06 01:07:52.620 2023-07-17 20:19:52.620   \n",
       "21  Sharan 2023-10-09 08:19:52.620 2023-08-01 13:07:52.620   \n",
       "\n",
       "                Activity  \n",
       "9     Reply to Customers  \n",
       "14  Business Development  \n",
       "17            Inspection  \n",
       "19               Podcast  \n",
       "21    Reply to Customers  "
      ]
     },
     "execution_count": 10,
     "metadata": {},
     "output_type": "execute_result"
    }
   ],
   "source": [
    "print(temp_df[0])\n",
    "temp_df[1].head()"
   ]
  },
  {
   "cell_type": "code",
   "execution_count": 11,
   "metadata": {},
   "outputs": [],
   "source": [
    "from itertools import groupby\n",
    "\n",
    "def merge_periods(group):\n",
    "    merged_periods = {}\n",
    "    current_period = group.iloc[0][['Start', 'End']].values\n",
    "    current_activities = [group.iloc[0]['Activity']]\n",
    "    \n",
    "    for i in range(1, len(group)):\n",
    "        row = group.iloc[i]\n",
    "        if row['Start'] <= current_period[1]:  # If overlapping or continuous\n",
    "            current_period[1] = max(current_period[1], row['End'])  # Extend the end time\n",
    "            current_activities.append(row['Activity'])  # Aggregate activity\n",
    "        else:\n",
    "            merged_periods[(current_period[0], current_period[1])] = current_activities\n",
    "            current_period = row[['Start', 'End']].values\n",
    "            current_activities = [row['Activity']]\n",
    "    \n",
    "    merged_periods[(current_period[0], current_period[1])] = current_activities\n",
    "    return merged_periods\n"
   ]
  },
  {
   "cell_type": "code",
   "execution_count": 12,
   "metadata": {},
   "outputs": [],
   "source": [
    "bot_activity = {}\n",
    "\n",
    "for group in df.groupby('Name'):\n",
    "    bot_activity[group[0]] = merge_periods(group[1])"
   ]
  },
  {
   "cell_type": "code",
   "execution_count": 28,
   "metadata": {},
   "outputs": [
    {
     "name": "stdout",
     "output_type": "stream",
     "text": [
      "2023-08-02 13:07:52.620000\n"
     ]
    }
   ],
   "source": [
    "i=0\n",
    "for key in bot_activity['Deepti'].keys():\n",
    "    print(key[0])\n",
    "    if i==0:\n",
    "        break\n",
    "# [str((Timestamp('2023-03-29 15:31:52.620000'), Timestamp('2023-10-15 15:31:52.620000')))]"
   ]
  },
  {
   "cell_type": "code",
   "execution_count": 29,
   "metadata": {},
   "outputs": [
    {
     "ename": "KeyError",
     "evalue": "'2023-08-02 13:07:52.620000'",
     "output_type": "error",
     "traceback": [
      "\u001b[1;31m---------------------------------------------------------------------------\u001b[0m",
      "\u001b[1;31mKeyError\u001b[0m                                  Traceback (most recent call last)",
      "Cell \u001b[1;32mIn[29], line 1\u001b[0m\n\u001b[1;32m----> 1\u001b[0m bot_activity[\u001b[38;5;124m'\u001b[39m\u001b[38;5;124mDeepti\u001b[39m\u001b[38;5;124m'\u001b[39m][\u001b[38;5;124m'\u001b[39m\u001b[38;5;124m2023-08-02 13:07:52.620000\u001b[39m\u001b[38;5;124m'\u001b[39m]\n",
      "\u001b[1;31mKeyError\u001b[0m: '2023-08-02 13:07:52.620000'"
     ]
    }
   ],
   "source": [
    "bot_activity['Deepti']['2023-08-02 13:07:52.620000']"
   ]
  },
  {
   "cell_type": "code",
   "execution_count": null,
   "metadata": {},
   "outputs": [],
   "source": []
  }
 ],
 "metadata": {
  "kernelspec": {
   "display_name": "base",
   "language": "python",
   "name": "python3"
  },
  "language_info": {
   "codemirror_mode": {
    "name": "ipython",
    "version": 3
   },
   "file_extension": ".py",
   "mimetype": "text/x-python",
   "name": "python",
   "nbconvert_exporter": "python",
   "pygments_lexer": "ipython3",
   "version": "3.11.5"
  }
 },
 "nbformat": 4,
 "nbformat_minor": 2
}
