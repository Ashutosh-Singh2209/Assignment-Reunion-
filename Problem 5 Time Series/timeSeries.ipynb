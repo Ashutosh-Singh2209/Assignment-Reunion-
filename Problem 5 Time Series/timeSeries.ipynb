{
 "cells": [
  {
   "cell_type": "code",
   "execution_count": null,
   "metadata": {},
   "outputs": [],
   "source": []
  },
  {
   "cell_type": "markdown",
   "metadata": {},
   "source": []
  },
  {
   "cell_type": "code",
   "execution_count": 94,
   "metadata": {},
   "outputs": [
    {
     "name": "stdout",
     "output_type": "stream",
     "text": [
      "(10885, 4)\n"
     ]
    },
    {
     "data": {
      "text/html": [
       "<div>\n",
       "<style scoped>\n",
       "    .dataframe tbody tr th:only-of-type {\n",
       "        vertical-align: middle;\n",
       "    }\n",
       "\n",
       "    .dataframe tbody tr th {\n",
       "        vertical-align: top;\n",
       "    }\n",
       "\n",
       "    .dataframe thead th {\n",
       "        text-align: right;\n",
       "    }\n",
       "</style>\n",
       "<table border=\"1\" class=\"dataframe\">\n",
       "  <thead>\n",
       "    <tr style=\"text-align: right;\">\n",
       "      <th></th>\n",
       "      <th>Name</th>\n",
       "      <th>Start</th>\n",
       "      <th>End</th>\n",
       "      <th>Activity</th>\n",
       "    </tr>\n",
       "  </thead>\n",
       "  <tbody>\n",
       "    <tr>\n",
       "      <th>0</th>\n",
       "      <td>Priyanka</td>\n",
       "      <td>2023-10-10 22:43:52.620</td>\n",
       "      <td>2023-07-20 03:31:52.620</td>\n",
       "      <td>Inspection</td>\n",
       "    </tr>\n",
       "    <tr>\n",
       "      <th>1</th>\n",
       "      <td>Jyoti</td>\n",
       "      <td>2023-08-24 05:55:52.620</td>\n",
       "      <td>2023-05-17 20:19:52.620</td>\n",
       "      <td>Remote Inspection</td>\n",
       "    </tr>\n",
       "  </tbody>\n",
       "</table>\n",
       "</div>"
      ],
      "text/plain": [
       "       Name                   Start                     End           Activity\n",
       "0  Priyanka 2023-10-10 22:43:52.620 2023-07-20 03:31:52.620         Inspection\n",
       "1     Jyoti 2023-08-24 05:55:52.620 2023-05-17 20:19:52.620  Remote Inspection"
      ]
     },
     "execution_count": 94,
     "metadata": {},
     "output_type": "execute_result"
    }
   ],
   "source": [
    "import pandas as pd\n",
    "\n",
    "df = pd.read_excel('Time Series.xlsx')\n",
    "\n",
    "print(df.shape)\n",
    "df.head(2)"
   ]
  },
  {
   "cell_type": "code",
   "execution_count": 95,
   "metadata": {},
   "outputs": [
    {
     "data": {
      "text/plain": [
       "array(['Priyanka', 'Jyoti', 'Deepti', 'Sharan', 'Ravi'], dtype=object)"
      ]
     },
     "execution_count": 95,
     "metadata": {},
     "output_type": "execute_result"
    }
   ],
   "source": [
    "df.Name.unique()"
   ]
  },
  {
   "cell_type": "code",
   "execution_count": 96,
   "metadata": {},
   "outputs": [],
   "source": [
    "# df['Start'] = pd.to_datetime(df['Start'])\n",
    "# df['End'] = pd.to_datetime(df['End'])"
   ]
  },
  {
   "cell_type": "code",
   "execution_count": 97,
   "metadata": {},
   "outputs": [
    {
     "data": {
      "text/plain": [
       "Name                object\n",
       "Start       datetime64[ns]\n",
       "End         datetime64[ns]\n",
       "Activity            object\n",
       "dtype: object"
      ]
     },
     "execution_count": 97,
     "metadata": {},
     "output_type": "execute_result"
    }
   ],
   "source": [
    "df.dtypes"
   ]
  },
  {
   "cell_type": "markdown",
   "metadata": {},
   "source": [
    "- In above, columns start and End are having date-time objects with nano-second resolution"
   ]
  },
  {
   "cell_type": "code",
   "execution_count": 98,
   "metadata": {},
   "outputs": [
    {
     "data": {
      "text/html": [
       "<div>\n",
       "<style scoped>\n",
       "    .dataframe tbody tr th:only-of-type {\n",
       "        vertical-align: middle;\n",
       "    }\n",
       "\n",
       "    .dataframe tbody tr th {\n",
       "        vertical-align: top;\n",
       "    }\n",
       "\n",
       "    .dataframe thead th {\n",
       "        text-align: right;\n",
       "    }\n",
       "</style>\n",
       "<table border=\"1\" class=\"dataframe\">\n",
       "  <thead>\n",
       "    <tr style=\"text-align: right;\">\n",
       "      <th></th>\n",
       "      <th>Name</th>\n",
       "      <th>Start</th>\n",
       "      <th>End</th>\n",
       "      <th>Activity</th>\n",
       "    </tr>\n",
       "  </thead>\n",
       "  <tbody>\n",
       "    <tr>\n",
       "      <th>0</th>\n",
       "      <td>Priyanka</td>\n",
       "      <td>2023-10-10 22:43:52.620</td>\n",
       "      <td>2023-07-20 03:31:52.620</td>\n",
       "      <td>Inspection</td>\n",
       "    </tr>\n",
       "    <tr>\n",
       "      <th>1</th>\n",
       "      <td>Jyoti</td>\n",
       "      <td>2023-08-24 05:55:52.620</td>\n",
       "      <td>2023-05-17 20:19:52.620</td>\n",
       "      <td>Remote Inspection</td>\n",
       "    </tr>\n",
       "    <tr>\n",
       "      <th>2</th>\n",
       "      <td>Jyoti</td>\n",
       "      <td>2023-06-08 08:19:52.620</td>\n",
       "      <td>2023-04-08 05:55:52.620</td>\n",
       "      <td>Updates</td>\n",
       "    </tr>\n",
       "    <tr>\n",
       "      <th>3</th>\n",
       "      <td>Priyanka</td>\n",
       "      <td>2023-09-21 15:31:52.620</td>\n",
       "      <td>2023-05-27 10:43:52.620</td>\n",
       "      <td>Reporting</td>\n",
       "    </tr>\n",
       "    <tr>\n",
       "      <th>4</th>\n",
       "      <td>Priyanka</td>\n",
       "      <td>2023-10-07 03:31:52.620</td>\n",
       "      <td>2023-04-30 13:07:52.620</td>\n",
       "      <td>Reply to Customers</td>\n",
       "    </tr>\n",
       "  </tbody>\n",
       "</table>\n",
       "</div>"
      ],
      "text/plain": [
       "       Name                   Start                     End  \\\n",
       "0  Priyanka 2023-10-10 22:43:52.620 2023-07-20 03:31:52.620   \n",
       "1     Jyoti 2023-08-24 05:55:52.620 2023-05-17 20:19:52.620   \n",
       "2     Jyoti 2023-06-08 08:19:52.620 2023-04-08 05:55:52.620   \n",
       "3  Priyanka 2023-09-21 15:31:52.620 2023-05-27 10:43:52.620   \n",
       "4  Priyanka 2023-10-07 03:31:52.620 2023-04-30 13:07:52.620   \n",
       "\n",
       "             Activity  \n",
       "0          Inspection  \n",
       "1   Remote Inspection  \n",
       "2             Updates  \n",
       "3           Reporting  \n",
       "4  Reply to Customers  "
      ]
     },
     "execution_count": 98,
     "metadata": {},
     "output_type": "execute_result"
    }
   ],
   "source": [
    "df.head()"
   ]
  },
  {
   "cell_type": "markdown",
   "metadata": {},
   "source": [
    "- **`groupby`**: A function that groups consecutive elements of an iterable based on a key function, returning key-value pairs where each key is associated with its corresponding group."
   ]
  },
  {
   "cell_type": "markdown",
   "metadata": {},
   "source": [
    "- below, I'm retrieving start and end times from 1st row of data-frame, printing one of them, and converting to string"
   ]
  },
  {
   "cell_type": "code",
   "execution_count": 99,
   "metadata": {},
   "outputs": [
    {
     "data": {
      "text/plain": [
       "array([Timestamp('2023-10-10 22:43:52.620000'),\n",
       "       Timestamp('2023-07-20 03:31:52.620000')], dtype=object)"
      ]
     },
     "execution_count": 99,
     "metadata": {},
     "output_type": "execute_result"
    }
   ],
   "source": [
    "df.iloc[0][['Start', 'End']].values"
   ]
  },
  {
   "cell_type": "code",
   "execution_count": 100,
   "metadata": {},
   "outputs": [
    {
     "data": {
      "text/plain": [
       "Timestamp('2023-10-10 22:43:52.620000')"
      ]
     },
     "execution_count": 100,
     "metadata": {},
     "output_type": "execute_result"
    }
   ],
   "source": [
    "df.iloc[0][['Start', 'End']].values[0]"
   ]
  },
  {
   "cell_type": "code",
   "execution_count": 101,
   "metadata": {},
   "outputs": [
    {
     "data": {
      "text/plain": [
       "'2023-10-10 22:43:52.620000'"
      ]
     },
     "execution_count": 101,
     "metadata": {},
     "output_type": "execute_result"
    }
   ],
   "source": [
    "str(df.iloc[0][['Start', 'End']].values[0])"
   ]
  },
  {
   "cell_type": "markdown",
   "metadata": {},
   "source": [
    "#### Merge Overlapping or Continuous Periods:"
   ]
  },
  {
   "cell_type": "markdown",
   "metadata": {},
   "source": [
    "- Below code retrieves single group from df.groupby('Name')"
   ]
  },
  {
   "cell_type": "code",
   "execution_count": 102,
   "metadata": {},
   "outputs": [],
   "source": [
    "i=1\n",
    "temp_df=0\n",
    "\n",
    "for group in df.groupby('Name'):\n",
    "    temp_df = group\n",
    "    i+=1\n",
    "    if i==1:\n",
    "        break"
   ]
  },
  {
   "cell_type": "code",
   "execution_count": 103,
   "metadata": {},
   "outputs": [
    {
     "data": {
      "text/plain": [
       "tuple"
      ]
     },
     "execution_count": 103,
     "metadata": {},
     "output_type": "execute_result"
    }
   ],
   "source": [
    "type(temp_df)"
   ]
  },
  {
   "cell_type": "markdown",
   "metadata": {},
   "source": [
    "- Below code shows that the temp df just retrieved in above is a tuple with size 2, and its 1st element is string, 2nd element is a data-frame "
   ]
  },
  {
   "cell_type": "code",
   "execution_count": 104,
   "metadata": {},
   "outputs": [
    {
     "name": "stdout",
     "output_type": "stream",
     "text": [
      "Sharan\n",
      "<class 'pandas.core.frame.DataFrame'>\n"
     ]
    },
    {
     "data": {
      "text/html": [
       "<div>\n",
       "<style scoped>\n",
       "    .dataframe tbody tr th:only-of-type {\n",
       "        vertical-align: middle;\n",
       "    }\n",
       "\n",
       "    .dataframe tbody tr th {\n",
       "        vertical-align: top;\n",
       "    }\n",
       "\n",
       "    .dataframe thead th {\n",
       "        text-align: right;\n",
       "    }\n",
       "</style>\n",
       "<table border=\"1\" class=\"dataframe\">\n",
       "  <thead>\n",
       "    <tr style=\"text-align: right;\">\n",
       "      <th></th>\n",
       "      <th>Name</th>\n",
       "      <th>Start</th>\n",
       "      <th>End</th>\n",
       "      <th>Activity</th>\n",
       "    </tr>\n",
       "  </thead>\n",
       "  <tbody>\n",
       "    <tr>\n",
       "      <th>9</th>\n",
       "      <td>Sharan</td>\n",
       "      <td>2023-06-08 13:07:52.620</td>\n",
       "      <td>2023-09-24 01:07:52.620</td>\n",
       "      <td>Reply to Customers</td>\n",
       "    </tr>\n",
       "    <tr>\n",
       "      <th>14</th>\n",
       "      <td>Sharan</td>\n",
       "      <td>2023-09-18 10:43:52.620</td>\n",
       "      <td>2023-07-31 03:31:52.620</td>\n",
       "      <td>Business Development</td>\n",
       "    </tr>\n",
       "    <tr>\n",
       "      <th>17</th>\n",
       "      <td>Sharan</td>\n",
       "      <td>2023-09-06 08:19:52.620</td>\n",
       "      <td>2023-05-11 15:31:52.620</td>\n",
       "      <td>Inspection</td>\n",
       "    </tr>\n",
       "  </tbody>\n",
       "</table>\n",
       "</div>"
      ],
      "text/plain": [
       "      Name                   Start                     End  \\\n",
       "9   Sharan 2023-06-08 13:07:52.620 2023-09-24 01:07:52.620   \n",
       "14  Sharan 2023-09-18 10:43:52.620 2023-07-31 03:31:52.620   \n",
       "17  Sharan 2023-09-06 08:19:52.620 2023-05-11 15:31:52.620   \n",
       "\n",
       "                Activity  \n",
       "9     Reply to Customers  \n",
       "14  Business Development  \n",
       "17            Inspection  "
      ]
     },
     "execution_count": 104,
     "metadata": {},
     "output_type": "execute_result"
    }
   ],
   "source": [
    "print(temp_df[0])\n",
    "print(type(temp_df[1]))\n",
    "temp_df[1].head(3)"
   ]
  },
  {
   "cell_type": "code",
   "execution_count": 105,
   "metadata": {},
   "outputs": [],
   "source": [
    "from itertools import groupby\n",
    "\n",
    "\n",
    "def merge_periods(group):\n",
    "    merged_periods = {}\n",
    "    current_period = group.iloc[0][['Start', 'End']].values\n",
    "    current_activities = [group.iloc[0]['Activity']]\n",
    "    \n",
    "    for i in range(1, len(group)):\n",
    "        row = group.iloc[i]\n",
    "        if row['Start'] <= current_period[1]:  # If overlapping or continuous\n",
    "            current_period[1] = max(current_period[1], row['End'])  # Extend the end time\n",
    "            current_activities.append(row['Activity'])  # Aggregate activity\n",
    "        else:\n",
    "            merged_periods[(str(current_period[0]), str(current_period[1]))] = current_activities\n",
    "            current_period = row[['Start', 'End']].values\n",
    "            current_activities = [row['Activity']]\n",
    "    \n",
    "    merged_periods[(str(current_period[0]), str(current_period[1]))] = current_activities\n",
    "    return merged_periods\n"
   ]
  },
  {
   "cell_type": "code",
   "execution_count": 106,
   "metadata": {},
   "outputs": [],
   "source": [
    "bot_activity = {}\n",
    "\n",
    "for group in df.groupby('Name'):\n",
    "    bot_activity[group[0]] = merge_periods(group[1])"
   ]
  },
  {
   "cell_type": "code",
   "execution_count": 107,
   "metadata": {},
   "outputs": [
    {
     "name": "stdout",
     "output_type": "stream",
     "text": [
      "<class 'tuple'>\n",
      "('2023-08-02 13:07:52.620000', '2023-04-25 10:43:52.620000')\n",
      "2\n",
      "<class 'str'>\n",
      "2023-08-02 13:07:52.620000\n"
     ]
    }
   ],
   "source": [
    "i=0\n",
    "for key in bot_activity['Deepti'].keys():\n",
    "    print(type(key))\n",
    "    print(key)\n",
    "    print(len(key))\n",
    "    print(type(key[0]))\n",
    "    print(key[0])\n",
    "    if i==0:\n",
    "        break\n",
    "# [str((Timestamp('2023-03-29 15:31:52.620000'), Timestamp('2023-10-15 15:31:52.620000')))]"
   ]
  },
  {
   "cell_type": "markdown",
   "metadata": {},
   "source": [
    "- Hence, I created a dictionary(or JSON file) containing bot name, all of their continuous periods and the activities done by them in those continuous periods"
   ]
  },
  {
   "cell_type": "markdown",
   "metadata": {},
   "source": [
    "- Now, I put this information back in the dataframe"
   ]
  },
  {
   "cell_type": "code",
   "execution_count": 108,
   "metadata": {},
   "outputs": [
    {
     "data": {
      "text/plain": [
       "Index(['Name', 'Start', 'End', 'Activity'], dtype='object')"
      ]
     },
     "execution_count": 108,
     "metadata": {},
     "output_type": "execute_result"
    }
   ],
   "source": [
    "df.columns"
   ]
  },
  {
   "cell_type": "code",
   "execution_count": 109,
   "metadata": {},
   "outputs": [],
   "source": [
    "df[\"activity_duration\"] = None\n",
    "df[\"Activities_done\"] = None"
   ]
  },
  {
   "cell_type": "code",
   "execution_count": 110,
   "metadata": {},
   "outputs": [],
   "source": [
    "for i in range(df.shape[0]):\n",
    "    temp_dict = bot_activity[df.iloc[i]['Name']]\n",
    "    for key, value in temp_dict.items():\n",
    "        duration_starting = key[0]\n",
    "        duration_ending = key[1]\n",
    "        duration_starting_ns = pd.to_datetime(duration_starting, format=\"%Y-%m-%d %H:%M:%S.%f\", errors='coerce')\n",
    "        duration_ending_ns = pd.to_datetime(duration_ending, format=\"%Y-%m-%d %H:%M:%S.%f\", errors='coerce')\n",
    "        if (df.iloc[i]['Start'] >= duration_starting_ns) and (df.iloc[i]['End'] <= duration_ending_ns):\n",
    "            df.loc[i, \"activity_duration\"] = duration_starting + \"_\" + duration_ending\n",
    "            df.loc[i, \"Activities_done\"] = \", \".join(value)"
   ]
  },
  {
   "cell_type": "code",
   "execution_count": 111,
   "metadata": {},
   "outputs": [
    {
     "data": {
      "text/html": [
       "<div>\n",
       "<style scoped>\n",
       "    .dataframe tbody tr th:only-of-type {\n",
       "        vertical-align: middle;\n",
       "    }\n",
       "\n",
       "    .dataframe tbody tr th {\n",
       "        vertical-align: top;\n",
       "    }\n",
       "\n",
       "    .dataframe thead th {\n",
       "        text-align: right;\n",
       "    }\n",
       "</style>\n",
       "<table border=\"1\" class=\"dataframe\">\n",
       "  <thead>\n",
       "    <tr style=\"text-align: right;\">\n",
       "      <th></th>\n",
       "      <th>Name</th>\n",
       "      <th>Start</th>\n",
       "      <th>End</th>\n",
       "      <th>Activity</th>\n",
       "      <th>activity_duration</th>\n",
       "      <th>Activities_done</th>\n",
       "    </tr>\n",
       "  </thead>\n",
       "  <tbody>\n",
       "    <tr>\n",
       "      <th>4341</th>\n",
       "      <td>Deepti</td>\n",
       "      <td>2023-03-29 15:31:52.620</td>\n",
       "      <td>2023-04-02 08:19:52.620</td>\n",
       "      <td>Business Development</td>\n",
       "      <td>None</td>\n",
       "      <td>None</td>\n",
       "    </tr>\n",
       "    <tr>\n",
       "      <th>10807</th>\n",
       "      <td>Deepti</td>\n",
       "      <td>2023-03-29 15:31:52.620</td>\n",
       "      <td>2023-04-20 15:31:52.620</td>\n",
       "      <td>Reply to Customers</td>\n",
       "      <td>None</td>\n",
       "      <td>None</td>\n",
       "    </tr>\n",
       "    <tr>\n",
       "      <th>9894</th>\n",
       "      <td>Deepti</td>\n",
       "      <td>2023-03-29 17:55:52.620</td>\n",
       "      <td>2023-05-13 08:19:52.620</td>\n",
       "      <td>Send Email</td>\n",
       "      <td>None</td>\n",
       "      <td>None</td>\n",
       "    </tr>\n",
       "    <tr>\n",
       "      <th>10846</th>\n",
       "      <td>Deepti</td>\n",
       "      <td>2023-03-29 17:55:52.620</td>\n",
       "      <td>2023-03-30 22:43:52.620</td>\n",
       "      <td>Fund raising</td>\n",
       "      <td>None</td>\n",
       "      <td>None</td>\n",
       "    </tr>\n",
       "    <tr>\n",
       "      <th>181</th>\n",
       "      <td>Deepti</td>\n",
       "      <td>2023-03-29 20:19:52.620</td>\n",
       "      <td>2023-08-11 10:43:52.620</td>\n",
       "      <td>Send Email</td>\n",
       "      <td>None</td>\n",
       "      <td>None</td>\n",
       "    </tr>\n",
       "  </tbody>\n",
       "</table>\n",
       "</div>"
      ],
      "text/plain": [
       "         Name                   Start                     End  \\\n",
       "4341   Deepti 2023-03-29 15:31:52.620 2023-04-02 08:19:52.620   \n",
       "10807  Deepti 2023-03-29 15:31:52.620 2023-04-20 15:31:52.620   \n",
       "9894   Deepti 2023-03-29 17:55:52.620 2023-05-13 08:19:52.620   \n",
       "10846  Deepti 2023-03-29 17:55:52.620 2023-03-30 22:43:52.620   \n",
       "181    Deepti 2023-03-29 20:19:52.620 2023-08-11 10:43:52.620   \n",
       "\n",
       "                   Activity activity_duration Activities_done  \n",
       "4341   Business Development              None            None  \n",
       "10807    Reply to Customers              None            None  \n",
       "9894             Send Email              None            None  \n",
       "10846          Fund raising              None            None  \n",
       "181              Send Email              None            None  "
      ]
     },
     "execution_count": 111,
     "metadata": {},
     "output_type": "execute_result"
    }
   ],
   "source": [
    "df.sort_values(by=[\"Name\", \"Start\"], inplace=True, ascending=[True, True])\n",
    "df.head()"
   ]
  },
  {
   "cell_type": "code",
   "execution_count": 112,
   "metadata": {},
   "outputs": [
    {
     "data": {
      "text/plain": [
       "Name                    0\n",
       "Start                   0\n",
       "End                     0\n",
       "Activity                0\n",
       "activity_duration    2405\n",
       "Activities_done      2405\n",
       "dtype: int64"
      ]
     },
     "execution_count": 112,
     "metadata": {},
     "output_type": "execute_result"
    }
   ],
   "source": [
    "df.isnull().sum()"
   ]
  }
 ],
 "metadata": {
  "kernelspec": {
   "display_name": "base",
   "language": "python",
   "name": "python3"
  },
  "language_info": {
   "codemirror_mode": {
    "name": "ipython",
    "version": 3
   },
   "file_extension": ".py",
   "mimetype": "text/x-python",
   "name": "python",
   "nbconvert_exporter": "python",
   "pygments_lexer": "ipython3",
   "version": "3.11.5"
  }
 },
 "nbformat": 4,
 "nbformat_minor": 2
}
