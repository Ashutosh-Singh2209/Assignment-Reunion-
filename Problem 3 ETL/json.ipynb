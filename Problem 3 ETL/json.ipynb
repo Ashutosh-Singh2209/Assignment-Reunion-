{
  "cells": [
    {
      "cell_type": "markdown",
      "metadata": {
        "id": "1jHGTS9PngFM"
      },
      "source": [
        "### Separating Concerts from Programme"
      ]
    },
    {
      "cell_type": "code",
      "execution_count": 42,
      "metadata": {
        "id": "dpbCXPmhSeG-"
      },
      "outputs": [],
      "source": [
        "import json\n",
        "with open('nested_data.json') as f:\n",
        "  data1 = json.load(f)"
      ]
    },
    {
      "cell_type": "code",
      "execution_count": 43,
      "metadata": {
        "colab": {
          "base_uri": "https://localhost:8080/"
        },
        "id": "AOI5S4B-dMpm",
        "outputId": "cf2990d5-3d0e-48d6-b93b-4d35fdd67627"
      },
      "outputs": [
        {
          "name": "stdout",
          "output_type": "stream",
          "text": [
            "1\n",
            "13954\n"
          ]
        },
        {
          "data": {
            "text/plain": [
              "list"
            ]
          },
          "execution_count": 43,
          "metadata": {},
          "output_type": "execute_result"
        }
      ],
      "source": [
        "print(len(data1)) # data1 has only one key value pair\n",
        "print(len(data1['programs'])) # the value with the key \"programs\" is a list with length 13954\n",
        "type(data1['programs'])"
      ]
    },
    {
      "cell_type": "code",
      "execution_count": 44,
      "metadata": {
        "id": "Sc5U9herUqu4"
      },
      "outputs": [],
      "source": [
        "import pandas as pd\n",
        "df = pd.json_normalize(data1[\"programs\"])"
      ]
    },
    {
      "cell_type": "code",
      "execution_count": 45,
      "metadata": {
        "colab": {
          "base_uri": "https://localhost:8080/",
          "height": 311
        },
        "id": "ImXK4XQ1c4dl",
        "outputId": "54f4f872-c7bf-4027-d6a8-db8cd3271275"
      },
      "outputs": [
        {
          "name": "stdout",
          "output_type": "stream",
          "text": [
            "(13954, 6)\n"
          ]
        },
        {
          "data": {
            "text/html": [
              "<div>\n",
              "<style scoped>\n",
              "    .dataframe tbody tr th:only-of-type {\n",
              "        vertical-align: middle;\n",
              "    }\n",
              "\n",
              "    .dataframe tbody tr th {\n",
              "        vertical-align: top;\n",
              "    }\n",
              "\n",
              "    .dataframe thead th {\n",
              "        text-align: right;\n",
              "    }\n",
              "</style>\n",
              "<table border=\"1\" class=\"dataframe\">\n",
              "  <thead>\n",
              "    <tr style=\"text-align: right;\">\n",
              "      <th></th>\n",
              "      <th>season</th>\n",
              "      <th>orchestra</th>\n",
              "      <th>concerts</th>\n",
              "      <th>programID</th>\n",
              "      <th>works</th>\n",
              "      <th>id</th>\n",
              "    </tr>\n",
              "  </thead>\n",
              "  <tbody>\n",
              "    <tr>\n",
              "      <th>0</th>\n",
              "      <td>1842-43</td>\n",
              "      <td>New York Philharmonic</td>\n",
              "      <td>[{'Date': '1842-12-07T05:00:00Z', 'eventType':...</td>\n",
              "      <td>3853</td>\n",
              "      <td>[{'workTitle': 'SYMPHONY NO. 5 IN C MINOR, OP....</td>\n",
              "      <td>38e072a7-8fc9-4f9a-8eac-3957905c0002</td>\n",
              "    </tr>\n",
              "    <tr>\n",
              "      <th>1</th>\n",
              "      <td>1842-43</td>\n",
              "      <td>New York Philharmonic</td>\n",
              "      <td>[{'Date': '1843-02-18T05:00:00Z', 'eventType':...</td>\n",
              "      <td>5178</td>\n",
              "      <td>[{'workTitle': 'SYMPHONY NO. 3 IN E FLAT MAJOR...</td>\n",
              "      <td>c7b2b95c-5e0b-431c-a340-5b37fc860b34</td>\n",
              "    </tr>\n",
              "    <tr>\n",
              "      <th>2</th>\n",
              "      <td>1842-43</td>\n",
              "      <td>Musicians from the New York Philharmonic</td>\n",
              "      <td>[{'Date': '1843-04-07T05:00:00Z', 'eventType':...</td>\n",
              "      <td>10785</td>\n",
              "      <td>[{'workTitle': 'EGMONT, OP.84', 'composerName'...</td>\n",
              "      <td>894e1a52-1ae5-4fa7-aec0-b99997555a37</td>\n",
              "    </tr>\n",
              "    <tr>\n",
              "      <th>3</th>\n",
              "      <td>1842-43</td>\n",
              "      <td>New York Philharmonic</td>\n",
              "      <td>[{'Date': '1843-04-22T05:00:00Z', 'eventType':...</td>\n",
              "      <td>5887</td>\n",
              "      <td>[{'workTitle': 'SYMPHONY NO. 2 IN D MAJOR, OP....</td>\n",
              "      <td>34ec2c2b-3297-4716-9831-b538310462b7</td>\n",
              "    </tr>\n",
              "    <tr>\n",
              "      <th>4</th>\n",
              "      <td>1843-44</td>\n",
              "      <td>New York Philharmonic</td>\n",
              "      <td>[{'Date': '1843-11-18T05:00:00Z', 'eventType':...</td>\n",
              "      <td>305</td>\n",
              "      <td>[{'workTitle': 'SYMPHONY NO. 7 IN A MAJOR, OP....</td>\n",
              "      <td>610a4acc-94e4-4cd6-bdc1-8ad020edc7e9</td>\n",
              "    </tr>\n",
              "  </tbody>\n",
              "</table>\n",
              "</div>"
            ],
            "text/plain": [
              "    season                                 orchestra  \\\n",
              "0  1842-43                     New York Philharmonic   \n",
              "1  1842-43                     New York Philharmonic   \n",
              "2  1842-43  Musicians from the New York Philharmonic   \n",
              "3  1842-43                     New York Philharmonic   \n",
              "4  1843-44                     New York Philharmonic   \n",
              "\n",
              "                                            concerts programID  \\\n",
              "0  [{'Date': '1842-12-07T05:00:00Z', 'eventType':...      3853   \n",
              "1  [{'Date': '1843-02-18T05:00:00Z', 'eventType':...      5178   \n",
              "2  [{'Date': '1843-04-07T05:00:00Z', 'eventType':...     10785   \n",
              "3  [{'Date': '1843-04-22T05:00:00Z', 'eventType':...      5887   \n",
              "4  [{'Date': '1843-11-18T05:00:00Z', 'eventType':...       305   \n",
              "\n",
              "                                               works  \\\n",
              "0  [{'workTitle': 'SYMPHONY NO. 5 IN C MINOR, OP....   \n",
              "1  [{'workTitle': 'SYMPHONY NO. 3 IN E FLAT MAJOR...   \n",
              "2  [{'workTitle': 'EGMONT, OP.84', 'composerName'...   \n",
              "3  [{'workTitle': 'SYMPHONY NO. 2 IN D MAJOR, OP....   \n",
              "4  [{'workTitle': 'SYMPHONY NO. 7 IN A MAJOR, OP....   \n",
              "\n",
              "                                     id  \n",
              "0  38e072a7-8fc9-4f9a-8eac-3957905c0002  \n",
              "1  c7b2b95c-5e0b-431c-a340-5b37fc860b34  \n",
              "2  894e1a52-1ae5-4fa7-aec0-b99997555a37  \n",
              "3  34ec2c2b-3297-4716-9831-b538310462b7  \n",
              "4  610a4acc-94e4-4cd6-bdc1-8ad020edc7e9  "
            ]
          },
          "execution_count": 45,
          "metadata": {},
          "output_type": "execute_result"
        }
      ],
      "source": [
        "print(df.shape)\n",
        "df.head()"
      ]
    },
    {
      "cell_type": "markdown",
      "metadata": {
        "id": "4zJM6lO-sbU2"
      },
      "source": [
        "- following code shows that \"programID\" column have duplicates"
      ]
    },
    {
      "cell_type": "code",
      "execution_count": 46,
      "metadata": {
        "colab": {
          "base_uri": "https://localhost:8080/",
          "height": 264
        },
        "id": "70d1ZoGjiN8d",
        "outputId": "24d5ee4d-c87e-41a0-b49f-8402243e842a"
      },
      "outputs": [
        {
          "name": "stdout",
          "output_type": "stream",
          "text": [
            "13932\n",
            "0\n",
            "object\n"
          ]
        },
        {
          "data": {
            "text/plain": [
              "programID\n",
              "4917     2\n",
              "12707    2\n",
              "13972    2\n",
              "Name: count, dtype: int64"
            ]
          },
          "execution_count": 46,
          "metadata": {},
          "output_type": "execute_result"
        }
      ],
      "source": [
        "print(df[\"programID\"].nunique())\n",
        "print(df[\"programID\"].isnull().sum())\n",
        "print(df[\"programID\"].dtype)\n",
        "df[\"programID\"].value_counts()[:3]"
      ]
    },
    {
      "cell_type": "markdown",
      "metadata": {
        "id": "vdGeJn7osixk"
      },
      "source": [
        "- so, we choose \"id\" column which has no duplicates, as unique identifier."
      ]
    },
    {
      "cell_type": "code",
      "execution_count": 47,
      "metadata": {
        "colab": {
          "base_uri": "https://localhost:8080/",
          "height": 264
        },
        "id": "Tv_Xe7EOj0N6",
        "outputId": "bdd709f1-cb00-4cb9-d15a-90bbd8b08e4f"
      },
      "outputs": [
        {
          "name": "stdout",
          "output_type": "stream",
          "text": [
            "13954\n",
            "0\n",
            "object\n"
          ]
        },
        {
          "data": {
            "text/plain": [
              "id\n",
              "38e072a7-8fc9-4f9a-8eac-3957905c0002    1\n",
              "0080978c-2fbe-4c1c-8974-cdcda7b0b3e1    1\n",
              "c24746f9-457b-48cb-a4df-6f65d7a60979    1\n",
              "Name: count, dtype: int64"
            ]
          },
          "execution_count": 47,
          "metadata": {},
          "output_type": "execute_result"
        }
      ],
      "source": [
        "print(df[\"id\"].nunique())\n",
        "print(df[\"id\"].isnull().sum())\n",
        "print(df[\"id\"].dtype)\n",
        "df[\"id\"].value_counts()[:3]"
      ]
    },
    {
      "cell_type": "code",
      "execution_count": 48,
      "metadata": {
        "colab": {
          "base_uri": "https://localhost:8080/"
        },
        "id": "onIMglwJftnz",
        "outputId": "2a72502d-7b42-4da8-b017-9ff16053c56a"
      },
      "outputs": [
        {
          "data": {
            "text/plain": [
              "[{'Date': '1842-12-07T05:00:00Z',\n",
              "  'eventType': 'Subscription Season',\n",
              "  'Venue': 'Apollo Rooms',\n",
              "  'Location': 'Manhattan, NY',\n",
              "  'Time': '8:00PM'}]"
            ]
          },
          "execution_count": 48,
          "metadata": {},
          "output_type": "execute_result"
        }
      ],
      "source": [
        "df.concerts[0]"
      ]
    },
    {
      "cell_type": "code",
      "execution_count": 49,
      "metadata": {
        "colab": {
          "base_uri": "https://localhost:8080/",
          "height": 89
        },
        "id": "wV1XycGsg-wZ",
        "outputId": "67fec921-cbd3-406a-a787-648462a3a28e"
      },
      "outputs": [
        {
          "data": {
            "text/html": [
              "<div>\n",
              "<style scoped>\n",
              "    .dataframe tbody tr th:only-of-type {\n",
              "        vertical-align: middle;\n",
              "    }\n",
              "\n",
              "    .dataframe tbody tr th {\n",
              "        vertical-align: top;\n",
              "    }\n",
              "\n",
              "    .dataframe thead th {\n",
              "        text-align: right;\n",
              "    }\n",
              "</style>\n",
              "<table border=\"1\" class=\"dataframe\">\n",
              "  <thead>\n",
              "    <tr style=\"text-align: right;\">\n",
              "      <th></th>\n",
              "      <th>Date</th>\n",
              "      <th>eventType</th>\n",
              "      <th>Venue</th>\n",
              "      <th>Location</th>\n",
              "      <th>Time</th>\n",
              "    </tr>\n",
              "  </thead>\n",
              "  <tbody>\n",
              "    <tr>\n",
              "      <th>0</th>\n",
              "      <td>1842-12-07T05:00:00Z</td>\n",
              "      <td>Subscription Season</td>\n",
              "      <td>Apollo Rooms</td>\n",
              "      <td>Manhattan, NY</td>\n",
              "      <td>8:00PM</td>\n",
              "    </tr>\n",
              "  </tbody>\n",
              "</table>\n",
              "</div>"
            ],
            "text/plain": [
              "                   Date            eventType         Venue       Location  \\\n",
              "0  1842-12-07T05:00:00Z  Subscription Season  Apollo Rooms  Manhattan, NY   \n",
              "\n",
              "     Time  \n",
              "0  8:00PM  "
            ]
          },
          "execution_count": 49,
          "metadata": {},
          "output_type": "execute_result"
        }
      ],
      "source": [
        "concert0_df = pd.json_normalize(df.concerts[0])\n",
        "concert0_df"
      ]
    },
    {
      "cell_type": "code",
      "execution_count": 50,
      "metadata": {
        "colab": {
          "base_uri": "https://localhost:8080/"
        },
        "id": "sWYv5uZClkYD",
        "outputId": "99892875-1c81-42d2-eaec-3dd7b737a6b2"
      },
      "outputs": [
        {
          "name": "stdout",
          "output_type": "stream",
          "text": [
            "True\n"
          ]
        },
        {
          "data": {
            "text/plain": [
              "4245"
            ]
          },
          "execution_count": 50,
          "metadata": {},
          "output_type": "execute_result"
        }
      ],
      "source": [
        "flag = False\n",
        "rows_with_more_then_one_concert = []\n",
        "for i in range(df.shape[0]):\n",
        "  if len(pd.json_normalize(df.concerts[i])) > 1:\n",
        "    flag = True\n",
        "    rows_with_more_then_one_concert.append(i)\n",
        "\n",
        "print(flag)\n",
        "len(rows_with_more_then_one_concert)"
      ]
    },
    {
      "cell_type": "code",
      "execution_count": 51,
      "metadata": {
        "colab": {
          "base_uri": "https://localhost:8080/",
          "height": 272
        },
        "id": "fVTQtDrin9L0",
        "outputId": "49d6eacf-0beb-4590-fec4-20a1685a5b6c"
      },
      "outputs": [
        {
          "data": {
            "text/plain": [
              "season                                                 1878-79\n",
              "orchestra                                    New York Symphony\n",
              "concerts     [{'Date': '1878-11-07T05:00:00Z', 'eventType':...\n",
              "programID                                                 8764\n",
              "works        [{'workTitle': 'SYMPHONY NO. 5 IN C MINOR, OP....\n",
              "id                        1254a8ad-0176-4e7e-8418-aedbd8492961\n",
              "Name: 184, dtype: object"
            ]
          },
          "execution_count": 51,
          "metadata": {},
          "output_type": "execute_result"
        }
      ],
      "source": [
        "df.iloc[rows_with_more_then_one_concert[0]]"
      ]
    },
    {
      "cell_type": "code",
      "execution_count": 52,
      "metadata": {
        "colab": {
          "base_uri": "https://localhost:8080/"
        },
        "id": "jK44-1sApCGn",
        "outputId": "ab6b5b5b-756d-4132-dfaa-ff112a0cd134"
      },
      "outputs": [
        {
          "data": {
            "text/plain": [
              "[{'Date': '1878-11-07T05:00:00Z',\n",
              "  'eventType': 'Subscription Season',\n",
              "  'Venue': 'Steinway Hall',\n",
              "  'Location': 'Manhattan, NY',\n",
              "  'Time': '2:00PM'},\n",
              " {'Date': '1878-11-09T05:00:00Z',\n",
              "  'eventType': 'Subscription Season',\n",
              "  'Venue': 'Steinway Hall',\n",
              "  'Location': 'Manhattan, NY',\n",
              "  'Time': '8:00PM'}]"
            ]
          },
          "execution_count": 52,
          "metadata": {},
          "output_type": "execute_result"
        }
      ],
      "source": [
        "concert1 = df.iloc[rows_with_more_then_one_concert[0]]['concerts']\n",
        "concert1"
      ]
    },
    {
      "cell_type": "code",
      "execution_count": 53,
      "metadata": {
        "colab": {
          "base_uri": "https://localhost:8080/",
          "height": 125
        },
        "id": "KihLqskWpIUO",
        "outputId": "c8bf7dc6-f56e-4056-e0e0-64263f5edb90"
      },
      "outputs": [
        {
          "data": {
            "text/html": [
              "<div>\n",
              "<style scoped>\n",
              "    .dataframe tbody tr th:only-of-type {\n",
              "        vertical-align: middle;\n",
              "    }\n",
              "\n",
              "    .dataframe tbody tr th {\n",
              "        vertical-align: top;\n",
              "    }\n",
              "\n",
              "    .dataframe thead th {\n",
              "        text-align: right;\n",
              "    }\n",
              "</style>\n",
              "<table border=\"1\" class=\"dataframe\">\n",
              "  <thead>\n",
              "    <tr style=\"text-align: right;\">\n",
              "      <th></th>\n",
              "      <th>Date</th>\n",
              "      <th>eventType</th>\n",
              "      <th>Venue</th>\n",
              "      <th>Location</th>\n",
              "      <th>Time</th>\n",
              "    </tr>\n",
              "  </thead>\n",
              "  <tbody>\n",
              "    <tr>\n",
              "      <th>0</th>\n",
              "      <td>1878-11-07T05:00:00Z</td>\n",
              "      <td>Subscription Season</td>\n",
              "      <td>Steinway Hall</td>\n",
              "      <td>Manhattan, NY</td>\n",
              "      <td>2:00PM</td>\n",
              "    </tr>\n",
              "    <tr>\n",
              "      <th>1</th>\n",
              "      <td>1878-11-09T05:00:00Z</td>\n",
              "      <td>Subscription Season</td>\n",
              "      <td>Steinway Hall</td>\n",
              "      <td>Manhattan, NY</td>\n",
              "      <td>8:00PM</td>\n",
              "    </tr>\n",
              "  </tbody>\n",
              "</table>\n",
              "</div>"
            ],
            "text/plain": [
              "                   Date            eventType          Venue       Location  \\\n",
              "0  1878-11-07T05:00:00Z  Subscription Season  Steinway Hall  Manhattan, NY   \n",
              "1  1878-11-09T05:00:00Z  Subscription Season  Steinway Hall  Manhattan, NY   \n",
              "\n",
              "     Time  \n",
              "0  2:00PM  \n",
              "1  8:00PM  "
            ]
          },
          "execution_count": 53,
          "metadata": {},
          "output_type": "execute_result"
        }
      ],
      "source": [
        "concert1_df = pd.json_normalize(concert1)\n",
        "concert1_df"
      ]
    },
    {
      "cell_type": "code",
      "execution_count": 54,
      "metadata": {
        "colab": {
          "base_uri": "https://localhost:8080/",
          "height": 143
        },
        "id": "3NrnlPItoJ-P",
        "outputId": "114f38a5-103e-4172-8d3a-1515c77c1be3"
      },
      "outputs": [
        {
          "data": {
            "text/html": [
              "<div>\n",
              "<style scoped>\n",
              "    .dataframe tbody tr th:only-of-type {\n",
              "        vertical-align: middle;\n",
              "    }\n",
              "\n",
              "    .dataframe tbody tr th {\n",
              "        vertical-align: top;\n",
              "    }\n",
              "\n",
              "    .dataframe thead th {\n",
              "        text-align: right;\n",
              "    }\n",
              "</style>\n",
              "<table border=\"1\" class=\"dataframe\">\n",
              "  <thead>\n",
              "    <tr style=\"text-align: right;\">\n",
              "      <th></th>\n",
              "      <th>Date</th>\n",
              "      <th>eventType</th>\n",
              "      <th>Venue</th>\n",
              "      <th>Location</th>\n",
              "      <th>Time</th>\n",
              "    </tr>\n",
              "  </thead>\n",
              "  <tbody>\n",
              "    <tr>\n",
              "      <th>0</th>\n",
              "      <td>1842-12-07T05:00:00Z</td>\n",
              "      <td>Subscription Season</td>\n",
              "      <td>Apollo Rooms</td>\n",
              "      <td>Manhattan, NY</td>\n",
              "      <td>8:00PM</td>\n",
              "    </tr>\n",
              "    <tr>\n",
              "      <th>1</th>\n",
              "      <td>1878-11-07T05:00:00Z</td>\n",
              "      <td>Subscription Season</td>\n",
              "      <td>Steinway Hall</td>\n",
              "      <td>Manhattan, NY</td>\n",
              "      <td>2:00PM</td>\n",
              "    </tr>\n",
              "    <tr>\n",
              "      <th>2</th>\n",
              "      <td>1878-11-09T05:00:00Z</td>\n",
              "      <td>Subscription Season</td>\n",
              "      <td>Steinway Hall</td>\n",
              "      <td>Manhattan, NY</td>\n",
              "      <td>8:00PM</td>\n",
              "    </tr>\n",
              "  </tbody>\n",
              "</table>\n",
              "</div>"
            ],
            "text/plain": [
              "                   Date            eventType          Venue       Location  \\\n",
              "0  1842-12-07T05:00:00Z  Subscription Season   Apollo Rooms  Manhattan, NY   \n",
              "1  1878-11-07T05:00:00Z  Subscription Season  Steinway Hall  Manhattan, NY   \n",
              "2  1878-11-09T05:00:00Z  Subscription Season  Steinway Hall  Manhattan, NY   \n",
              "\n",
              "     Time  \n",
              "0  8:00PM  \n",
              "1  2:00PM  \n",
              "2  8:00PM  "
            ]
          },
          "execution_count": 54,
          "metadata": {},
          "output_type": "execute_result"
        }
      ],
      "source": [
        "pd.concat([concert0_df, concert1_df], ignore_index=True)"
      ]
    },
    {
      "cell_type": "code",
      "execution_count": 55,
      "metadata": {
        "colab": {
          "base_uri": "https://localhost:8080/",
          "height": 308
        },
        "id": "CYVCNCcNwljb",
        "outputId": "1c6799b2-5935-4d0d-9fba-04d7df55ab6d"
      },
      "outputs": [
        {
          "name": "stdout",
          "output_type": "stream",
          "text": [
            "38e072a7-8fc9-4f9a-8eac-3957905c0002\n",
            "[{'Date': '1842-12-07T05:00:00Z', 'eventType': 'Subscription Season', 'Venue': 'Apollo Rooms', 'Location': 'Manhattan, NY', 'Time': '8:00PM'}]\n"
          ]
        },
        {
          "data": {
            "text/plain": [
              "season                                                 1842-43\n",
              "orchestra                                New York Philharmonic\n",
              "concerts     [{'Date': '1842-12-07T05:00:00Z', 'eventType':...\n",
              "programID                                                 3853\n",
              "works        [{'workTitle': 'SYMPHONY NO. 5 IN C MINOR, OP....\n",
              "id                        38e072a7-8fc9-4f9a-8eac-3957905c0002\n",
              "Name: 0, dtype: object"
            ]
          },
          "execution_count": 55,
          "metadata": {},
          "output_type": "execute_result"
        }
      ],
      "source": [
        "print(df.iloc[0]['id'])\n",
        "print(df.concerts[0])\n",
        "df.iloc[0]"
      ]
    },
    {
      "cell_type": "code",
      "execution_count": 56,
      "metadata": {
        "colab": {
          "base_uri": "https://localhost:8080/"
        },
        "id": "FSncCyk8xDg_",
        "outputId": "4b364268-62a3-4c95-b927-78b9811f7389"
      },
      "outputs": [
        {
          "data": {
            "text/plain": [
              "184"
            ]
          },
          "execution_count": 56,
          "metadata": {},
          "output_type": "execute_result"
        }
      ],
      "source": [
        "temp = rows_with_more_then_one_concert[0]\n",
        "temp"
      ]
    },
    {
      "cell_type": "code",
      "execution_count": 57,
      "metadata": {
        "colab": {
          "base_uri": "https://localhost:8080/",
          "height": 36
        },
        "id": "aWFeykZ9wPzO",
        "outputId": "81078126-a513-471e-a71e-af2b4bcde019"
      },
      "outputs": [
        {
          "data": {
            "text/plain": [
              "'1254a8ad-0176-4e7e-8418-aedbd8492961'"
            ]
          },
          "execution_count": 57,
          "metadata": {},
          "output_type": "execute_result"
        }
      ],
      "source": [
        "df.iloc[temp]['id']"
      ]
    },
    {
      "cell_type": "code",
      "execution_count": 58,
      "metadata": {
        "colab": {
          "base_uri": "https://localhost:8080/",
          "height": 328
        },
        "id": "0OAjGTKDxP-j",
        "outputId": "5b06cd57-2acc-4311-8184-0e50e24554f9"
      },
      "outputs": [
        {
          "name": "stdout",
          "output_type": "stream",
          "text": [
            "1254a8ad-0176-4e7e-8418-aedbd8492961\n",
            "[{'Date': '1878-11-07T05:00:00Z', 'eventType': 'Subscription Season', 'Venue': 'Steinway Hall', 'Location': 'Manhattan, NY', 'Time': '2:00PM'}, {'Date': '1878-11-09T05:00:00Z', 'eventType': 'Subscription Season', 'Venue': 'Steinway Hall', 'Location': 'Manhattan, NY', 'Time': '8:00PM'}]\n"
          ]
        },
        {
          "data": {
            "text/plain": [
              "season                                                 1878-79\n",
              "orchestra                                    New York Symphony\n",
              "concerts     [{'Date': '1878-11-07T05:00:00Z', 'eventType':...\n",
              "programID                                                 8764\n",
              "works        [{'workTitle': 'SYMPHONY NO. 5 IN C MINOR, OP....\n",
              "id                        1254a8ad-0176-4e7e-8418-aedbd8492961\n",
              "Name: 184, dtype: object"
            ]
          },
          "execution_count": 58,
          "metadata": {},
          "output_type": "execute_result"
        }
      ],
      "source": [
        "print(df.iloc[temp]['id'])\n",
        "print(df.concerts[temp])\n",
        "df.iloc[temp]"
      ]
    },
    {
      "cell_type": "code",
      "execution_count": 59,
      "metadata": {
        "colab": {
          "base_uri": "https://localhost:8080/",
          "height": 143
        },
        "id": "K_vNCs-Wv5nI",
        "outputId": "b415ec21-a55d-4c8f-8402-c2eea73e9638"
      },
      "outputs": [
        {
          "data": {
            "text/html": [
              "<div>\n",
              "<style scoped>\n",
              "    .dataframe tbody tr th:only-of-type {\n",
              "        vertical-align: middle;\n",
              "    }\n",
              "\n",
              "    .dataframe tbody tr th {\n",
              "        vertical-align: top;\n",
              "    }\n",
              "\n",
              "    .dataframe thead th {\n",
              "        text-align: right;\n",
              "    }\n",
              "</style>\n",
              "<table border=\"1\" class=\"dataframe\">\n",
              "  <thead>\n",
              "    <tr style=\"text-align: right;\">\n",
              "      <th></th>\n",
              "      <th>Date</th>\n",
              "      <th>eventType</th>\n",
              "      <th>Venue</th>\n",
              "      <th>Location</th>\n",
              "      <th>Time</th>\n",
              "      <th>id</th>\n",
              "    </tr>\n",
              "  </thead>\n",
              "  <tbody>\n",
              "    <tr>\n",
              "      <th>0</th>\n",
              "      <td>1842-12-07T05:00:00Z</td>\n",
              "      <td>Subscription Season</td>\n",
              "      <td>Apollo Rooms</td>\n",
              "      <td>Manhattan, NY</td>\n",
              "      <td>8:00PM</td>\n",
              "      <td>38e072a7-8fc9-4f9a-8eac-3957905c0002</td>\n",
              "    </tr>\n",
              "    <tr>\n",
              "      <th>1</th>\n",
              "      <td>1878-11-07T05:00:00Z</td>\n",
              "      <td>Subscription Season</td>\n",
              "      <td>Steinway Hall</td>\n",
              "      <td>Manhattan, NY</td>\n",
              "      <td>2:00PM</td>\n",
              "      <td>1254a8ad-0176-4e7e-8418-aedbd8492961</td>\n",
              "    </tr>\n",
              "    <tr>\n",
              "      <th>2</th>\n",
              "      <td>1878-11-09T05:00:00Z</td>\n",
              "      <td>Subscription Season</td>\n",
              "      <td>Steinway Hall</td>\n",
              "      <td>Manhattan, NY</td>\n",
              "      <td>8:00PM</td>\n",
              "      <td>1254a8ad-0176-4e7e-8418-aedbd8492961</td>\n",
              "    </tr>\n",
              "  </tbody>\n",
              "</table>\n",
              "</div>"
            ],
            "text/plain": [
              "                   Date            eventType          Venue       Location  \\\n",
              "0  1842-12-07T05:00:00Z  Subscription Season   Apollo Rooms  Manhattan, NY   \n",
              "1  1878-11-07T05:00:00Z  Subscription Season  Steinway Hall  Manhattan, NY   \n",
              "2  1878-11-09T05:00:00Z  Subscription Season  Steinway Hall  Manhattan, NY   \n",
              "\n",
              "     Time                                    id  \n",
              "0  8:00PM  38e072a7-8fc9-4f9a-8eac-3957905c0002  \n",
              "1  2:00PM  1254a8ad-0176-4e7e-8418-aedbd8492961  \n",
              "2  8:00PM  1254a8ad-0176-4e7e-8418-aedbd8492961  "
            ]
          },
          "execution_count": 59,
          "metadata": {},
          "output_type": "execute_result"
        }
      ],
      "source": [
        "concert0_df[\"id\"] = df.iloc[0]['id']\n",
        "concert1_df[\"id\"] = df.iloc[rows_with_more_then_one_concert[0]]['id']\n",
        "\n",
        "# Concatenate the DataFrames\n",
        "pd.concat([concert0_df, concert1_df], ignore_index=True)"
      ]
    },
    {
      "cell_type": "code",
      "execution_count": 60,
      "metadata": {
        "id": "fAVGu5MXxowK"
      },
      "outputs": [],
      "source": [
        "# Traverse through entire dataframe df and convert concerts into dataframe, add a column for \"id\" and then concat them togather\n",
        "concerts_df = pd.json_normalize(df.iloc[0]['concerts'])\n",
        "concerts_df['id'] = df.iloc[0]['id']\n",
        "\n",
        "for i in range(1, df.shape[0]):\n",
        "  temp_df = pd.json_normalize(df.iloc[i]['concerts'])\n",
        "  temp_df['programs_id'] = df.iloc[i]['id']\n",
        "  concerts_df = pd.concat([concerts_df, temp_df], ignore_index=True)"
      ]
    },
    {
      "cell_type": "code",
      "execution_count": 61,
      "metadata": {
        "colab": {
          "base_uri": "https://localhost:8080/",
          "height": 311
        },
        "id": "r8zStgy30mdG",
        "outputId": "54d0ba94-23f2-4bf6-f7d7-762f55846a91"
      },
      "outputs": [
        {
          "name": "stdout",
          "output_type": "stream",
          "text": [
            "(21607, 7)\n"
          ]
        },
        {
          "data": {
            "text/html": [
              "<div>\n",
              "<style scoped>\n",
              "    .dataframe tbody tr th:only-of-type {\n",
              "        vertical-align: middle;\n",
              "    }\n",
              "\n",
              "    .dataframe tbody tr th {\n",
              "        vertical-align: top;\n",
              "    }\n",
              "\n",
              "    .dataframe thead th {\n",
              "        text-align: right;\n",
              "    }\n",
              "</style>\n",
              "<table border=\"1\" class=\"dataframe\">\n",
              "  <thead>\n",
              "    <tr style=\"text-align: right;\">\n",
              "      <th></th>\n",
              "      <th>Date</th>\n",
              "      <th>eventType</th>\n",
              "      <th>Venue</th>\n",
              "      <th>Location</th>\n",
              "      <th>Time</th>\n",
              "      <th>id</th>\n",
              "      <th>programs_id</th>\n",
              "    </tr>\n",
              "  </thead>\n",
              "  <tbody>\n",
              "    <tr>\n",
              "      <th>0</th>\n",
              "      <td>1842-12-07T05:00:00Z</td>\n",
              "      <td>Subscription Season</td>\n",
              "      <td>Apollo Rooms</td>\n",
              "      <td>Manhattan, NY</td>\n",
              "      <td>8:00PM</td>\n",
              "      <td>38e072a7-8fc9-4f9a-8eac-3957905c0002</td>\n",
              "      <td>NaN</td>\n",
              "    </tr>\n",
              "    <tr>\n",
              "      <th>1</th>\n",
              "      <td>1843-02-18T05:00:00Z</td>\n",
              "      <td>Subscription Season</td>\n",
              "      <td>Apollo Rooms</td>\n",
              "      <td>Manhattan, NY</td>\n",
              "      <td>8:00PM</td>\n",
              "      <td>NaN</td>\n",
              "      <td>c7b2b95c-5e0b-431c-a340-5b37fc860b34</td>\n",
              "    </tr>\n",
              "    <tr>\n",
              "      <th>2</th>\n",
              "      <td>1843-04-07T05:00:00Z</td>\n",
              "      <td>Special</td>\n",
              "      <td>Apollo Rooms</td>\n",
              "      <td>Manhattan, NY</td>\n",
              "      <td>8:00PM</td>\n",
              "      <td>NaN</td>\n",
              "      <td>894e1a52-1ae5-4fa7-aec0-b99997555a37</td>\n",
              "    </tr>\n",
              "    <tr>\n",
              "      <th>3</th>\n",
              "      <td>1843-04-22T05:00:00Z</td>\n",
              "      <td>Subscription Season</td>\n",
              "      <td>Apollo Rooms</td>\n",
              "      <td>Manhattan, NY</td>\n",
              "      <td>8:00PM</td>\n",
              "      <td>NaN</td>\n",
              "      <td>34ec2c2b-3297-4716-9831-b538310462b7</td>\n",
              "    </tr>\n",
              "    <tr>\n",
              "      <th>4</th>\n",
              "      <td>1843-11-18T05:00:00Z</td>\n",
              "      <td>Subscription Season</td>\n",
              "      <td>Apollo Rooms</td>\n",
              "      <td>Manhattan, NY</td>\n",
              "      <td>None</td>\n",
              "      <td>NaN</td>\n",
              "      <td>610a4acc-94e4-4cd6-bdc1-8ad020edc7e9</td>\n",
              "    </tr>\n",
              "  </tbody>\n",
              "</table>\n",
              "</div>"
            ],
            "text/plain": [
              "                   Date            eventType         Venue       Location  \\\n",
              "0  1842-12-07T05:00:00Z  Subscription Season  Apollo Rooms  Manhattan, NY   \n",
              "1  1843-02-18T05:00:00Z  Subscription Season  Apollo Rooms  Manhattan, NY   \n",
              "2  1843-04-07T05:00:00Z              Special  Apollo Rooms  Manhattan, NY   \n",
              "3  1843-04-22T05:00:00Z  Subscription Season  Apollo Rooms  Manhattan, NY   \n",
              "4  1843-11-18T05:00:00Z  Subscription Season  Apollo Rooms  Manhattan, NY   \n",
              "\n",
              "     Time                                    id  \\\n",
              "0  8:00PM  38e072a7-8fc9-4f9a-8eac-3957905c0002   \n",
              "1  8:00PM                                   NaN   \n",
              "2  8:00PM                                   NaN   \n",
              "3  8:00PM                                   NaN   \n",
              "4    None                                   NaN   \n",
              "\n",
              "                            programs_id  \n",
              "0                                   NaN  \n",
              "1  c7b2b95c-5e0b-431c-a340-5b37fc860b34  \n",
              "2  894e1a52-1ae5-4fa7-aec0-b99997555a37  \n",
              "3  34ec2c2b-3297-4716-9831-b538310462b7  \n",
              "4  610a4acc-94e4-4cd6-bdc1-8ad020edc7e9  "
            ]
          },
          "execution_count": 61,
          "metadata": {},
          "output_type": "execute_result"
        }
      ],
      "source": [
        "print(concerts_df.shape)\n",
        "concerts_df.head()"
      ]
    },
    {
      "cell_type": "code",
      "execution_count": 62,
      "metadata": {
        "colab": {
          "base_uri": "https://localhost:8080/",
          "height": 470
        },
        "id": "99DFNblbh78B",
        "outputId": "6abb23e9-1c0e-4202-ee04-9ae0ce1d6581"
      },
      "outputs": [
        {
          "data": {
            "text/html": [
              "<div>\n",
              "<style scoped>\n",
              "    .dataframe tbody tr th:only-of-type {\n",
              "        vertical-align: middle;\n",
              "    }\n",
              "\n",
              "    .dataframe tbody tr th {\n",
              "        vertical-align: top;\n",
              "    }\n",
              "\n",
              "    .dataframe thead th {\n",
              "        text-align: right;\n",
              "    }\n",
              "</style>\n",
              "<table border=\"1\" class=\"dataframe\">\n",
              "  <thead>\n",
              "    <tr style=\"text-align: right;\">\n",
              "      <th></th>\n",
              "      <th>workTitle</th>\n",
              "      <th>conductorName</th>\n",
              "      <th>ID</th>\n",
              "      <th>soloists</th>\n",
              "      <th>composerName</th>\n",
              "      <th>movement</th>\n",
              "      <th>interval</th>\n",
              "    </tr>\n",
              "  </thead>\n",
              "  <tbody>\n",
              "    <tr>\n",
              "      <th>0</th>\n",
              "      <td>SYMPHONY NO. 5 IN C MINOR, OP.67</td>\n",
              "      <td>Hill, Ureli Corelli</td>\n",
              "      <td>52446*</td>\n",
              "      <td>[]</td>\n",
              "      <td>Beethoven,  Ludwig  van</td>\n",
              "      <td>NaN</td>\n",
              "      <td>NaN</td>\n",
              "    </tr>\n",
              "    <tr>\n",
              "      <th>1</th>\n",
              "      <td>OBERON</td>\n",
              "      <td>Timm, Henry C.</td>\n",
              "      <td>8834*4</td>\n",
              "      <td>[{'soloistName': 'Otto, Antoinette', 'soloistR...</td>\n",
              "      <td>Weber,  Carl  Maria Von</td>\n",
              "      <td>\"Ozean, du Ungeheuer\" (Ocean, thou mighty mons...</td>\n",
              "      <td>NaN</td>\n",
              "    </tr>\n",
              "    <tr>\n",
              "      <th>2</th>\n",
              "      <td>QUINTET, PIANO, D MINOR, OP. 74</td>\n",
              "      <td>NaN</td>\n",
              "      <td>3642*</td>\n",
              "      <td>[{'soloistName': 'Scharfenberg, William', 'sol...</td>\n",
              "      <td>Hummel,  Johann</td>\n",
              "      <td>NaN</td>\n",
              "      <td>NaN</td>\n",
              "    </tr>\n",
              "    <tr>\n",
              "      <th>3</th>\n",
              "      <td>NaN</td>\n",
              "      <td>NaN</td>\n",
              "      <td>0*</td>\n",
              "      <td>[]</td>\n",
              "      <td>NaN</td>\n",
              "      <td>NaN</td>\n",
              "      <td>Intermission</td>\n",
              "    </tr>\n",
              "    <tr>\n",
              "      <th>4</th>\n",
              "      <td>OBERON</td>\n",
              "      <td>Etienne, Denis G.</td>\n",
              "      <td>8834*3</td>\n",
              "      <td>[]</td>\n",
              "      <td>Weber,  Carl  Maria Von</td>\n",
              "      <td>Overture</td>\n",
              "      <td>NaN</td>\n",
              "    </tr>\n",
              "    <tr>\n",
              "      <th>5</th>\n",
              "      <td>ARMIDA</td>\n",
              "      <td>Timm, Henry C.</td>\n",
              "      <td>8835*1</td>\n",
              "      <td>[{'soloistName': 'Otto, Antoinette', 'soloistR...</td>\n",
              "      <td>Rossini,  Gioachino</td>\n",
              "      <td>Duet</td>\n",
              "      <td>NaN</td>\n",
              "    </tr>\n",
              "    <tr>\n",
              "      <th>6</th>\n",
              "      <td>FIDELIO, OP. 72</td>\n",
              "      <td>Timm, Henry C.</td>\n",
              "      <td>8837*6</td>\n",
              "      <td>[{'soloistName': 'Horn, Charles Edward', 'solo...</td>\n",
              "      <td>Beethoven,  Ludwig  van</td>\n",
              "      <td>\"In Des Lebens Fruhlingstagen...O spur ich nic...</td>\n",
              "      <td>NaN</td>\n",
              "    </tr>\n",
              "    <tr>\n",
              "      <th>7</th>\n",
              "      <td>ABDUCTION FROM THE SERAGLIO,THE, K.384</td>\n",
              "      <td>Timm, Henry C.</td>\n",
              "      <td>8336*4</td>\n",
              "      <td>[{'soloistName': 'Otto, Antoinette', 'soloistR...</td>\n",
              "      <td>Mozart,  Wolfgang  Amadeus</td>\n",
              "      <td>\"Ach Ich liebte,\" Konstanze (aria)</td>\n",
              "      <td>NaN</td>\n",
              "    </tr>\n",
              "    <tr>\n",
              "      <th>8</th>\n",
              "      <td>OVERTURE NO. 1, D MINOR, OP. 38</td>\n",
              "      <td>Timm, Henry C.</td>\n",
              "      <td>5543*</td>\n",
              "      <td>[]</td>\n",
              "      <td>Kalliwoda,  Johann  W.</td>\n",
              "      <td>NaN</td>\n",
              "      <td>NaN</td>\n",
              "    </tr>\n",
              "  </tbody>\n",
              "</table>\n",
              "</div>"
            ],
            "text/plain": [
              "                                workTitle        conductorName      ID  \\\n",
              "0        SYMPHONY NO. 5 IN C MINOR, OP.67  Hill, Ureli Corelli  52446*   \n",
              "1                                  OBERON       Timm, Henry C.  8834*4   \n",
              "2         QUINTET, PIANO, D MINOR, OP. 74                  NaN   3642*   \n",
              "3                                     NaN                  NaN      0*   \n",
              "4                                  OBERON    Etienne, Denis G.  8834*3   \n",
              "5                                  ARMIDA       Timm, Henry C.  8835*1   \n",
              "6                         FIDELIO, OP. 72       Timm, Henry C.  8837*6   \n",
              "7  ABDUCTION FROM THE SERAGLIO,THE, K.384       Timm, Henry C.  8336*4   \n",
              "8         OVERTURE NO. 1, D MINOR, OP. 38       Timm, Henry C.   5543*   \n",
              "\n",
              "                                            soloists  \\\n",
              "0                                                 []   \n",
              "1  [{'soloistName': 'Otto, Antoinette', 'soloistR...   \n",
              "2  [{'soloistName': 'Scharfenberg, William', 'sol...   \n",
              "3                                                 []   \n",
              "4                                                 []   \n",
              "5  [{'soloistName': 'Otto, Antoinette', 'soloistR...   \n",
              "6  [{'soloistName': 'Horn, Charles Edward', 'solo...   \n",
              "7  [{'soloistName': 'Otto, Antoinette', 'soloistR...   \n",
              "8                                                 []   \n",
              "\n",
              "                 composerName  \\\n",
              "0     Beethoven,  Ludwig  van   \n",
              "1     Weber,  Carl  Maria Von   \n",
              "2             Hummel,  Johann   \n",
              "3                         NaN   \n",
              "4     Weber,  Carl  Maria Von   \n",
              "5         Rossini,  Gioachino   \n",
              "6     Beethoven,  Ludwig  van   \n",
              "7  Mozart,  Wolfgang  Amadeus   \n",
              "8      Kalliwoda,  Johann  W.   \n",
              "\n",
              "                                            movement      interval  \n",
              "0                                                NaN           NaN  \n",
              "1  \"Ozean, du Ungeheuer\" (Ocean, thou mighty mons...           NaN  \n",
              "2                                                NaN           NaN  \n",
              "3                                                NaN  Intermission  \n",
              "4                                           Overture           NaN  \n",
              "5                                               Duet           NaN  \n",
              "6  \"In Des Lebens Fruhlingstagen...O spur ich nic...           NaN  \n",
              "7                 \"Ach Ich liebte,\" Konstanze (aria)           NaN  \n",
              "8                                                NaN           NaN  "
            ]
          },
          "execution_count": 62,
          "metadata": {},
          "output_type": "execute_result"
        }
      ],
      "source": [
        "pd.json_normalize(df.works[0])"
      ]
    },
    {
      "cell_type": "code",
      "execution_count": 63,
      "metadata": {
        "colab": {
          "base_uri": "https://localhost:8080/"
        },
        "id": "9R2I1NItr43r",
        "outputId": "dc1036c9-8ce3-48af-ec96-d1adc6713fcc"
      },
      "outputs": [
        {
          "data": {
            "text/plain": [
              "[{'soloistName': 'Scharfenberg, William',\n",
              "  'soloistRoles': 'A',\n",
              "  'soloistInstrument': 'Piano'},\n",
              " {'soloistName': 'Hill, Ureli Corelli',\n",
              "  'soloistRoles': 'A',\n",
              "  'soloistInstrument': 'Violin'},\n",
              " {'soloistName': 'Derwort, G. H.',\n",
              "  'soloistRoles': 'A',\n",
              "  'soloistInstrument': 'Viola'},\n",
              " {'soloistName': 'Boucher, Alfred',\n",
              "  'soloistRoles': 'A',\n",
              "  'soloistInstrument': 'Cello'},\n",
              " {'soloistName': 'Rosier, F. W.',\n",
              "  'soloistRoles': 'A',\n",
              "  'soloistInstrument': 'Contrabass'}]"
            ]
          },
          "execution_count": 63,
          "metadata": {},
          "output_type": "execute_result"
        }
      ],
      "source": [
        "pd.json_normalize(df.works[0])['soloists'][2]"
      ]
    },
    {
      "cell_type": "code",
      "execution_count": 64,
      "metadata": {
        "colab": {
          "base_uri": "https://localhost:8080/",
          "height": 206
        },
        "id": "1QwhsY_TsBp_",
        "outputId": "40d7032f-9932-46c2-cf11-2567429bbd89"
      },
      "outputs": [
        {
          "data": {
            "text/html": [
              "<div>\n",
              "<style scoped>\n",
              "    .dataframe tbody tr th:only-of-type {\n",
              "        vertical-align: middle;\n",
              "    }\n",
              "\n",
              "    .dataframe tbody tr th {\n",
              "        vertical-align: top;\n",
              "    }\n",
              "\n",
              "    .dataframe thead th {\n",
              "        text-align: right;\n",
              "    }\n",
              "</style>\n",
              "<table border=\"1\" class=\"dataframe\">\n",
              "  <thead>\n",
              "    <tr style=\"text-align: right;\">\n",
              "      <th></th>\n",
              "      <th>soloistName</th>\n",
              "      <th>soloistRoles</th>\n",
              "      <th>soloistInstrument</th>\n",
              "    </tr>\n",
              "  </thead>\n",
              "  <tbody>\n",
              "    <tr>\n",
              "      <th>0</th>\n",
              "      <td>Scharfenberg, William</td>\n",
              "      <td>A</td>\n",
              "      <td>Piano</td>\n",
              "    </tr>\n",
              "    <tr>\n",
              "      <th>1</th>\n",
              "      <td>Hill, Ureli Corelli</td>\n",
              "      <td>A</td>\n",
              "      <td>Violin</td>\n",
              "    </tr>\n",
              "    <tr>\n",
              "      <th>2</th>\n",
              "      <td>Derwort, G. H.</td>\n",
              "      <td>A</td>\n",
              "      <td>Viola</td>\n",
              "    </tr>\n",
              "    <tr>\n",
              "      <th>3</th>\n",
              "      <td>Boucher, Alfred</td>\n",
              "      <td>A</td>\n",
              "      <td>Cello</td>\n",
              "    </tr>\n",
              "    <tr>\n",
              "      <th>4</th>\n",
              "      <td>Rosier, F. W.</td>\n",
              "      <td>A</td>\n",
              "      <td>Contrabass</td>\n",
              "    </tr>\n",
              "  </tbody>\n",
              "</table>\n",
              "</div>"
            ],
            "text/plain": [
              "             soloistName soloistRoles soloistInstrument\n",
              "0  Scharfenberg, William            A             Piano\n",
              "1    Hill, Ureli Corelli            A            Violin\n",
              "2         Derwort, G. H.            A             Viola\n",
              "3        Boucher, Alfred            A             Cello\n",
              "4          Rosier, F. W.            A        Contrabass"
            ]
          },
          "execution_count": 64,
          "metadata": {},
          "output_type": "execute_result"
        }
      ],
      "source": [
        "pd.json_normalize(pd.json_normalize(df.works[0])['soloists'][2])"
      ]
    },
    {
      "cell_type": "markdown",
      "metadata": {
        "id": "GlAHrRbckfyl"
      },
      "source": [
        "### Creating a dataframe for df['works']"
      ]
    },
    {
      "cell_type": "code",
      "execution_count": 65,
      "metadata": {
        "colab": {
          "base_uri": "https://localhost:8080/"
        },
        "id": "OwtpXZwJksym",
        "outputId": "72765473-33c0-48b5-a135-323987ae76ca"
      },
      "outputs": [
        {
          "name": "stdout",
          "output_type": "stream",
          "text": [
            "<class 'list'>\n"
          ]
        },
        {
          "data": {
            "text/plain": [
              "[{'workTitle': 'SYMPHONY NO. 5 IN C MINOR, OP.67',\n",
              "  'conductorName': 'Hill, Ureli Corelli',\n",
              "  'ID': '52446*',\n",
              "  'soloists': [],\n",
              "  'composerName': 'Beethoven,  Ludwig  van'},\n",
              " {'workTitle': 'OBERON',\n",
              "  'composerName': 'Weber,  Carl  Maria Von',\n",
              "  'conductorName': 'Timm, Henry C.',\n",
              "  'ID': '8834*4',\n",
              "  'soloists': [{'soloistName': 'Otto, Antoinette',\n",
              "    'soloistRoles': 'S',\n",
              "    'soloistInstrument': 'Soprano'}],\n",
              "  'movement': '\"Ozean, du Ungeheuer\" (Ocean, thou mighty monster), Reiza (Scene and Aria), Act II'},\n",
              " {'workTitle': 'QUINTET, PIANO, D MINOR, OP. 74',\n",
              "  'ID': '3642*',\n",
              "  'soloists': [{'soloistName': 'Scharfenberg, William',\n",
              "    'soloistRoles': 'A',\n",
              "    'soloistInstrument': 'Piano'},\n",
              "   {'soloistName': 'Hill, Ureli Corelli',\n",
              "    'soloistRoles': 'A',\n",
              "    'soloistInstrument': 'Violin'},\n",
              "   {'soloistName': 'Derwort, G. H.',\n",
              "    'soloistRoles': 'A',\n",
              "    'soloistInstrument': 'Viola'},\n",
              "   {'soloistName': 'Boucher, Alfred',\n",
              "    'soloistRoles': 'A',\n",
              "    'soloistInstrument': 'Cello'},\n",
              "   {'soloistName': 'Rosier, F. W.',\n",
              "    'soloistRoles': 'A',\n",
              "    'soloistInstrument': 'Contrabass'}],\n",
              "  'composerName': 'Hummel,  Johann'},\n",
              " {'interval': 'Intermission', 'ID': '0*', 'soloists': []},\n",
              " {'workTitle': 'OBERON',\n",
              "  'composerName': 'Weber,  Carl  Maria Von',\n",
              "  'conductorName': 'Etienne, Denis G.',\n",
              "  'ID': '8834*3',\n",
              "  'soloists': [],\n",
              "  'movement': 'Overture'},\n",
              " {'workTitle': 'ARMIDA',\n",
              "  'composerName': 'Rossini,  Gioachino',\n",
              "  'conductorName': 'Timm, Henry C.',\n",
              "  'ID': '8835*1',\n",
              "  'soloists': [{'soloistName': 'Otto, Antoinette',\n",
              "    'soloistRoles': 'S',\n",
              "    'soloistInstrument': 'Soprano'},\n",
              "   {'soloistName': 'Horn, Charles Edward',\n",
              "    'soloistRoles': 'S',\n",
              "    'soloistInstrument': 'Tenor'}],\n",
              "  'movement': 'Duet'},\n",
              " {'workTitle': 'FIDELIO, OP. 72',\n",
              "  'composerName': 'Beethoven,  Ludwig  van',\n",
              "  'conductorName': 'Timm, Henry C.',\n",
              "  'ID': '8837*6',\n",
              "  'soloists': [{'soloistName': 'Horn, Charles Edward',\n",
              "    'soloistRoles': 'S',\n",
              "    'soloistInstrument': 'Tenor'}],\n",
              "  'movement': '\"In Des Lebens Fruhlingstagen...O spur ich nicht linde,\" Florestan (aria)'},\n",
              " {'workTitle': 'ABDUCTION FROM THE SERAGLIO,THE, K.384',\n",
              "  'composerName': 'Mozart,  Wolfgang  Amadeus',\n",
              "  'conductorName': 'Timm, Henry C.',\n",
              "  'ID': '8336*4',\n",
              "  'soloists': [{'soloistName': 'Otto, Antoinette',\n",
              "    'soloistRoles': 'S',\n",
              "    'soloistInstrument': 'Soprano'}],\n",
              "  'movement': '\"Ach Ich liebte,\" Konstanze (aria)'},\n",
              " {'workTitle': 'OVERTURE NO. 1, D MINOR, OP. 38',\n",
              "  'conductorName': 'Timm, Henry C.',\n",
              "  'ID': '5543*',\n",
              "  'soloists': [],\n",
              "  'composerName': 'Kalliwoda,  Johann  W.'}]"
            ]
          },
          "execution_count": 65,
          "metadata": {},
          "output_type": "execute_result"
        }
      ],
      "source": [
        "print(type(df.works[0]))\n",
        "df.works[0]"
      ]
    },
    {
      "cell_type": "code",
      "execution_count": 66,
      "metadata": {
        "id": "S38Rff5MlBMN"
      },
      "outputs": [],
      "source": [
        "works_list = []\n",
        "for i in range(df.shape[0]):\n",
        "  temp_list = df.works[i]\n",
        "  for work in temp_list:\n",
        "    work['programs_id'] = df.id[i]\n",
        "\n",
        "  works_list.extend(temp_list)"
      ]
    },
    {
      "cell_type": "code",
      "execution_count": 67,
      "metadata": {
        "colab": {
          "base_uri": "https://localhost:8080/",
          "height": 521
        },
        "id": "eBdzN4mblkIs",
        "outputId": "72ad835c-c313-4573-a0c4-bf8852630869"
      },
      "outputs": [
        {
          "data": {
            "text/html": [
              "<div>\n",
              "<style scoped>\n",
              "    .dataframe tbody tr th:only-of-type {\n",
              "        vertical-align: middle;\n",
              "    }\n",
              "\n",
              "    .dataframe tbody tr th {\n",
              "        vertical-align: top;\n",
              "    }\n",
              "\n",
              "    .dataframe thead th {\n",
              "        text-align: right;\n",
              "    }\n",
              "</style>\n",
              "<table border=\"1\" class=\"dataframe\">\n",
              "  <thead>\n",
              "    <tr style=\"text-align: right;\">\n",
              "      <th></th>\n",
              "      <th>workTitle</th>\n",
              "      <th>conductorName</th>\n",
              "      <th>ID</th>\n",
              "      <th>soloists</th>\n",
              "      <th>composerName</th>\n",
              "      <th>programs_id</th>\n",
              "      <th>movement</th>\n",
              "      <th>interval</th>\n",
              "      <th>movement.em</th>\n",
              "      <th>movement._</th>\n",
              "      <th>workTitle.em</th>\n",
              "      <th>workTitle._</th>\n",
              "    </tr>\n",
              "  </thead>\n",
              "  <tbody>\n",
              "    <tr>\n",
              "      <th>0</th>\n",
              "      <td>SYMPHONY NO. 5 IN C MINOR, OP.67</td>\n",
              "      <td>Hill, Ureli Corelli</td>\n",
              "      <td>52446*</td>\n",
              "      <td>[]</td>\n",
              "      <td>Beethoven,  Ludwig  van</td>\n",
              "      <td>38e072a7-8fc9-4f9a-8eac-3957905c0002</td>\n",
              "      <td>NaN</td>\n",
              "      <td>NaN</td>\n",
              "      <td>NaN</td>\n",
              "      <td>NaN</td>\n",
              "      <td>NaN</td>\n",
              "      <td>NaN</td>\n",
              "    </tr>\n",
              "    <tr>\n",
              "      <th>1</th>\n",
              "      <td>OBERON</td>\n",
              "      <td>Timm, Henry C.</td>\n",
              "      <td>8834*4</td>\n",
              "      <td>[{'soloistName': 'Otto, Antoinette', 'soloistR...</td>\n",
              "      <td>Weber,  Carl  Maria Von</td>\n",
              "      <td>38e072a7-8fc9-4f9a-8eac-3957905c0002</td>\n",
              "      <td>\"Ozean, du Ungeheuer\" (Ocean, thou mighty mons...</td>\n",
              "      <td>NaN</td>\n",
              "      <td>NaN</td>\n",
              "      <td>NaN</td>\n",
              "      <td>NaN</td>\n",
              "      <td>NaN</td>\n",
              "    </tr>\n",
              "    <tr>\n",
              "      <th>2</th>\n",
              "      <td>QUINTET, PIANO, D MINOR, OP. 74</td>\n",
              "      <td>NaN</td>\n",
              "      <td>3642*</td>\n",
              "      <td>[{'soloistName': 'Scharfenberg, William', 'sol...</td>\n",
              "      <td>Hummel,  Johann</td>\n",
              "      <td>38e072a7-8fc9-4f9a-8eac-3957905c0002</td>\n",
              "      <td>NaN</td>\n",
              "      <td>NaN</td>\n",
              "      <td>NaN</td>\n",
              "      <td>NaN</td>\n",
              "      <td>NaN</td>\n",
              "      <td>NaN</td>\n",
              "    </tr>\n",
              "    <tr>\n",
              "      <th>3</th>\n",
              "      <td>NaN</td>\n",
              "      <td>NaN</td>\n",
              "      <td>0*</td>\n",
              "      <td>[]</td>\n",
              "      <td>NaN</td>\n",
              "      <td>38e072a7-8fc9-4f9a-8eac-3957905c0002</td>\n",
              "      <td>NaN</td>\n",
              "      <td>Intermission</td>\n",
              "      <td>NaN</td>\n",
              "      <td>NaN</td>\n",
              "      <td>NaN</td>\n",
              "      <td>NaN</td>\n",
              "    </tr>\n",
              "    <tr>\n",
              "      <th>4</th>\n",
              "      <td>OBERON</td>\n",
              "      <td>Etienne, Denis G.</td>\n",
              "      <td>8834*3</td>\n",
              "      <td>[]</td>\n",
              "      <td>Weber,  Carl  Maria Von</td>\n",
              "      <td>38e072a7-8fc9-4f9a-8eac-3957905c0002</td>\n",
              "      <td>Overture</td>\n",
              "      <td>NaN</td>\n",
              "      <td>NaN</td>\n",
              "      <td>NaN</td>\n",
              "      <td>NaN</td>\n",
              "      <td>NaN</td>\n",
              "    </tr>\n",
              "  </tbody>\n",
              "</table>\n",
              "</div>"
            ],
            "text/plain": [
              "                          workTitle        conductorName      ID  \\\n",
              "0  SYMPHONY NO. 5 IN C MINOR, OP.67  Hill, Ureli Corelli  52446*   \n",
              "1                            OBERON       Timm, Henry C.  8834*4   \n",
              "2   QUINTET, PIANO, D MINOR, OP. 74                  NaN   3642*   \n",
              "3                               NaN                  NaN      0*   \n",
              "4                            OBERON    Etienne, Denis G.  8834*3   \n",
              "\n",
              "                                            soloists             composerName  \\\n",
              "0                                                 []  Beethoven,  Ludwig  van   \n",
              "1  [{'soloistName': 'Otto, Antoinette', 'soloistR...  Weber,  Carl  Maria Von   \n",
              "2  [{'soloistName': 'Scharfenberg, William', 'sol...          Hummel,  Johann   \n",
              "3                                                 []                      NaN   \n",
              "4                                                 []  Weber,  Carl  Maria Von   \n",
              "\n",
              "                            programs_id  \\\n",
              "0  38e072a7-8fc9-4f9a-8eac-3957905c0002   \n",
              "1  38e072a7-8fc9-4f9a-8eac-3957905c0002   \n",
              "2  38e072a7-8fc9-4f9a-8eac-3957905c0002   \n",
              "3  38e072a7-8fc9-4f9a-8eac-3957905c0002   \n",
              "4  38e072a7-8fc9-4f9a-8eac-3957905c0002   \n",
              "\n",
              "                                            movement      interval  \\\n",
              "0                                                NaN           NaN   \n",
              "1  \"Ozean, du Ungeheuer\" (Ocean, thou mighty mons...           NaN   \n",
              "2                                                NaN           NaN   \n",
              "3                                                NaN  Intermission   \n",
              "4                                           Overture           NaN   \n",
              "\n",
              "  movement.em movement._ workTitle.em workTitle._  \n",
              "0         NaN        NaN          NaN         NaN  \n",
              "1         NaN        NaN          NaN         NaN  \n",
              "2         NaN        NaN          NaN         NaN  \n",
              "3         NaN        NaN          NaN         NaN  \n",
              "4         NaN        NaN          NaN         NaN  "
            ]
          },
          "execution_count": 67,
          "metadata": {},
          "output_type": "execute_result"
        }
      ],
      "source": [
        "works_df = pd.json_normalize(works_list)\n",
        "works_df.head()"
      ]
    },
    {
      "cell_type": "markdown",
      "metadata": {
        "id": "Y_OtfgRunzG2"
      },
      "source": [
        "### separating soloist from works_df"
      ]
    },
    {
      "cell_type": "code",
      "execution_count": 68,
      "metadata": {
        "colab": {
          "base_uri": "https://localhost:8080/",
          "height": 521
        },
        "id": "FntfYP8loD5x",
        "outputId": "300bd968-93eb-4aea-be44-8f299d2fdcd8"
      },
      "outputs": [
        {
          "data": {
            "text/html": [
              "<div>\n",
              "<style scoped>\n",
              "    .dataframe tbody tr th:only-of-type {\n",
              "        vertical-align: middle;\n",
              "    }\n",
              "\n",
              "    .dataframe tbody tr th {\n",
              "        vertical-align: top;\n",
              "    }\n",
              "\n",
              "    .dataframe thead th {\n",
              "        text-align: right;\n",
              "    }\n",
              "</style>\n",
              "<table border=\"1\" class=\"dataframe\">\n",
              "  <thead>\n",
              "    <tr style=\"text-align: right;\">\n",
              "      <th></th>\n",
              "      <th>workTitle</th>\n",
              "      <th>conductorName</th>\n",
              "      <th>ID</th>\n",
              "      <th>soloists</th>\n",
              "      <th>composerName</th>\n",
              "      <th>programs_id</th>\n",
              "      <th>movement</th>\n",
              "      <th>interval</th>\n",
              "      <th>movement.em</th>\n",
              "      <th>movement._</th>\n",
              "      <th>workTitle.em</th>\n",
              "      <th>workTitle._</th>\n",
              "    </tr>\n",
              "  </thead>\n",
              "  <tbody>\n",
              "    <tr>\n",
              "      <th>0</th>\n",
              "      <td>SYMPHONY NO. 5 IN C MINOR, OP.67</td>\n",
              "      <td>Hill, Ureli Corelli</td>\n",
              "      <td>52446*</td>\n",
              "      <td>[]</td>\n",
              "      <td>Beethoven,  Ludwig  van</td>\n",
              "      <td>38e072a7-8fc9-4f9a-8eac-3957905c0002</td>\n",
              "      <td>NaN</td>\n",
              "      <td>NaN</td>\n",
              "      <td>NaN</td>\n",
              "      <td>NaN</td>\n",
              "      <td>NaN</td>\n",
              "      <td>NaN</td>\n",
              "    </tr>\n",
              "    <tr>\n",
              "      <th>1</th>\n",
              "      <td>OBERON</td>\n",
              "      <td>Timm, Henry C.</td>\n",
              "      <td>8834*4</td>\n",
              "      <td>[{'soloistName': 'Otto, Antoinette', 'soloistR...</td>\n",
              "      <td>Weber,  Carl  Maria Von</td>\n",
              "      <td>38e072a7-8fc9-4f9a-8eac-3957905c0002</td>\n",
              "      <td>\"Ozean, du Ungeheuer\" (Ocean, thou mighty mons...</td>\n",
              "      <td>NaN</td>\n",
              "      <td>NaN</td>\n",
              "      <td>NaN</td>\n",
              "      <td>NaN</td>\n",
              "      <td>NaN</td>\n",
              "    </tr>\n",
              "    <tr>\n",
              "      <th>2</th>\n",
              "      <td>QUINTET, PIANO, D MINOR, OP. 74</td>\n",
              "      <td>NaN</td>\n",
              "      <td>3642*</td>\n",
              "      <td>[{'soloistName': 'Scharfenberg, William', 'sol...</td>\n",
              "      <td>Hummel,  Johann</td>\n",
              "      <td>38e072a7-8fc9-4f9a-8eac-3957905c0002</td>\n",
              "      <td>NaN</td>\n",
              "      <td>NaN</td>\n",
              "      <td>NaN</td>\n",
              "      <td>NaN</td>\n",
              "      <td>NaN</td>\n",
              "      <td>NaN</td>\n",
              "    </tr>\n",
              "    <tr>\n",
              "      <th>3</th>\n",
              "      <td>NaN</td>\n",
              "      <td>NaN</td>\n",
              "      <td>0*</td>\n",
              "      <td>[]</td>\n",
              "      <td>NaN</td>\n",
              "      <td>38e072a7-8fc9-4f9a-8eac-3957905c0002</td>\n",
              "      <td>NaN</td>\n",
              "      <td>Intermission</td>\n",
              "      <td>NaN</td>\n",
              "      <td>NaN</td>\n",
              "      <td>NaN</td>\n",
              "      <td>NaN</td>\n",
              "    </tr>\n",
              "    <tr>\n",
              "      <th>4</th>\n",
              "      <td>OBERON</td>\n",
              "      <td>Etienne, Denis G.</td>\n",
              "      <td>8834*3</td>\n",
              "      <td>[]</td>\n",
              "      <td>Weber,  Carl  Maria Von</td>\n",
              "      <td>38e072a7-8fc9-4f9a-8eac-3957905c0002</td>\n",
              "      <td>Overture</td>\n",
              "      <td>NaN</td>\n",
              "      <td>NaN</td>\n",
              "      <td>NaN</td>\n",
              "      <td>NaN</td>\n",
              "      <td>NaN</td>\n",
              "    </tr>\n",
              "  </tbody>\n",
              "</table>\n",
              "</div>"
            ],
            "text/plain": [
              "                          workTitle        conductorName      ID  \\\n",
              "0  SYMPHONY NO. 5 IN C MINOR, OP.67  Hill, Ureli Corelli  52446*   \n",
              "1                            OBERON       Timm, Henry C.  8834*4   \n",
              "2   QUINTET, PIANO, D MINOR, OP. 74                  NaN   3642*   \n",
              "3                               NaN                  NaN      0*   \n",
              "4                            OBERON    Etienne, Denis G.  8834*3   \n",
              "\n",
              "                                            soloists             composerName  \\\n",
              "0                                                 []  Beethoven,  Ludwig  van   \n",
              "1  [{'soloistName': 'Otto, Antoinette', 'soloistR...  Weber,  Carl  Maria Von   \n",
              "2  [{'soloistName': 'Scharfenberg, William', 'sol...          Hummel,  Johann   \n",
              "3                                                 []                      NaN   \n",
              "4                                                 []  Weber,  Carl  Maria Von   \n",
              "\n",
              "                            programs_id  \\\n",
              "0  38e072a7-8fc9-4f9a-8eac-3957905c0002   \n",
              "1  38e072a7-8fc9-4f9a-8eac-3957905c0002   \n",
              "2  38e072a7-8fc9-4f9a-8eac-3957905c0002   \n",
              "3  38e072a7-8fc9-4f9a-8eac-3957905c0002   \n",
              "4  38e072a7-8fc9-4f9a-8eac-3957905c0002   \n",
              "\n",
              "                                            movement      interval  \\\n",
              "0                                                NaN           NaN   \n",
              "1  \"Ozean, du Ungeheuer\" (Ocean, thou mighty mons...           NaN   \n",
              "2                                                NaN           NaN   \n",
              "3                                                NaN  Intermission   \n",
              "4                                           Overture           NaN   \n",
              "\n",
              "  movement.em movement._ workTitle.em workTitle._  \n",
              "0         NaN        NaN          NaN         NaN  \n",
              "1         NaN        NaN          NaN         NaN  \n",
              "2         NaN        NaN          NaN         NaN  \n",
              "3         NaN        NaN          NaN         NaN  \n",
              "4         NaN        NaN          NaN         NaN  "
            ]
          },
          "execution_count": 68,
          "metadata": {},
          "output_type": "execute_result"
        }
      ],
      "source": [
        "works_df.head()"
      ]
    },
    {
      "cell_type": "code",
      "execution_count": 69,
      "metadata": {
        "colab": {
          "base_uri": "https://localhost:8080/",
          "height": 264
        },
        "id": "Mt5TOB-3rGLm",
        "outputId": "b99b42fa-6bfd-410c-de8d-ef5464223c34"
      },
      "outputs": [
        {
          "data": {
            "text/html": [
              "<div>\n",
              "<style scoped>\n",
              "    .dataframe tbody tr th:only-of-type {\n",
              "        vertical-align: middle;\n",
              "    }\n",
              "\n",
              "    .dataframe tbody tr th {\n",
              "        vertical-align: top;\n",
              "    }\n",
              "\n",
              "    .dataframe thead th {\n",
              "        text-align: right;\n",
              "    }\n",
              "</style>\n",
              "<table border=\"1\" class=\"dataframe\">\n",
              "  <thead>\n",
              "    <tr style=\"text-align: right;\">\n",
              "      <th></th>\n",
              "      <th>workTitle</th>\n",
              "      <th>conductorName</th>\n",
              "      <th>ID</th>\n",
              "      <th>soloists</th>\n",
              "      <th>composerName</th>\n",
              "      <th>programs_id</th>\n",
              "      <th>movement</th>\n",
              "      <th>interval</th>\n",
              "      <th>movement.em</th>\n",
              "      <th>movement._</th>\n",
              "      <th>workTitle.em</th>\n",
              "      <th>workTitle._</th>\n",
              "    </tr>\n",
              "  </thead>\n",
              "  <tbody>\n",
              "    <tr>\n",
              "      <th>count</th>\n",
              "      <td>71422</td>\n",
              "      <td>66314</td>\n",
              "      <td>82793</td>\n",
              "      <td>82793</td>\n",
              "      <td>71427</td>\n",
              "      <td>82793</td>\n",
              "      <td>24989</td>\n",
              "      <td>11366</td>\n",
              "      <td>227</td>\n",
              "      <td>114</td>\n",
              "      <td>5</td>\n",
              "      <td>5</td>\n",
              "    </tr>\n",
              "    <tr>\n",
              "      <th>unique</th>\n",
              "      <td>11269</td>\n",
              "      <td>794</td>\n",
              "      <td>16648</td>\n",
              "      <td>8295</td>\n",
              "      <td>2766</td>\n",
              "      <td>13907</td>\n",
              "      <td>4648</td>\n",
              "      <td>4</td>\n",
              "      <td>84</td>\n",
              "      <td>37</td>\n",
              "      <td>4</td>\n",
              "      <td>4</td>\n",
              "    </tr>\n",
              "    <tr>\n",
              "      <th>top</th>\n",
              "      <td>MEISTERSINGER, DIE, WWV 96</td>\n",
              "      <td>Damrosch, Walter</td>\n",
              "      <td>0*</td>\n",
              "      <td>[]</td>\n",
              "      <td>Wagner,  Richard</td>\n",
              "      <td>f549e93f-b35f-4824-b0d5-d543953535f8</td>\n",
              "      <td>Overture</td>\n",
              "      <td>Intermission</td>\n",
              "      <td>The Swan of Tuonela</td>\n",
              "      <td>(name of Marmein dance)</td>\n",
              "      <td>FIFTHS</td>\n",
              "      <td>QUARTET, STRING, OP. 76, NO. 2, D MINOR, H.III...</td>\n",
              "    </tr>\n",
              "    <tr>\n",
              "      <th>freq</th>\n",
              "      <td>784</td>\n",
              "      <td>5427</td>\n",
              "      <td>11278</td>\n",
              "      <td>56725</td>\n",
              "      <td>4929</td>\n",
              "      <td>50</td>\n",
              "      <td>3419</td>\n",
              "      <td>11278</td>\n",
              "      <td>80</td>\n",
              "      <td>18</td>\n",
              "      <td>2</td>\n",
              "      <td>2</td>\n",
              "    </tr>\n",
              "  </tbody>\n",
              "</table>\n",
              "</div>"
            ],
            "text/plain": [
              "                         workTitle     conductorName     ID soloists  \\\n",
              "count                        71422             66314  82793    82793   \n",
              "unique                       11269               794  16648     8295   \n",
              "top     MEISTERSINGER, DIE, WWV 96  Damrosch, Walter     0*       []   \n",
              "freq                           784              5427  11278    56725   \n",
              "\n",
              "            composerName                           programs_id  movement  \\\n",
              "count              71427                                 82793     24989   \n",
              "unique              2766                                 13907      4648   \n",
              "top     Wagner,  Richard  f549e93f-b35f-4824-b0d5-d543953535f8  Overture   \n",
              "freq                4929                                    50      3419   \n",
              "\n",
              "            interval          movement.em               movement._  \\\n",
              "count          11366                  227                      114   \n",
              "unique             4                   84                       37   \n",
              "top     Intermission  The Swan of Tuonela  (name of Marmein dance)   \n",
              "freq           11278                   80                       18   \n",
              "\n",
              "       workTitle.em                                        workTitle._  \n",
              "count             5                                                  5  \n",
              "unique            4                                                  4  \n",
              "top          FIFTHS  QUARTET, STRING, OP. 76, NO. 2, D MINOR, H.III...  \n",
              "freq              2                                                  2  "
            ]
          },
          "execution_count": 69,
          "metadata": {},
          "output_type": "execute_result"
        }
      ],
      "source": [
        "works_df.describe()"
      ]
    },
    {
      "cell_type": "code",
      "execution_count": 70,
      "metadata": {
        "colab": {
          "base_uri": "https://localhost:8080/"
        },
        "id": "318JmEq9rIhO",
        "outputId": "5f387d97-2db5-443d-c222-cfef4a433c78"
      },
      "outputs": [
        {
          "data": {
            "text/plain": [
              "(26068, 12)"
            ]
          },
          "execution_count": 70,
          "metadata": {},
          "output_type": "execute_result"
        }
      ],
      "source": [
        "works_df1 = works_df[ works_df['soloists'].apply(lambda x: len(x)) != 0 ]\n",
        "works_df1.shape"
      ]
    },
    {
      "cell_type": "code",
      "execution_count": 71,
      "metadata": {
        "colab": {
          "base_uri": "https://localhost:8080/",
          "height": 281
        },
        "id": "iTgi2cbOwFeB",
        "outputId": "6838255b-3c89-4187-b172-73b1b2ee05dd"
      },
      "outputs": [
        {
          "data": {
            "text/html": [
              "<div>\n",
              "<style scoped>\n",
              "    .dataframe tbody tr th:only-of-type {\n",
              "        vertical-align: middle;\n",
              "    }\n",
              "\n",
              "    .dataframe tbody tr th {\n",
              "        vertical-align: top;\n",
              "    }\n",
              "\n",
              "    .dataframe thead th {\n",
              "        text-align: right;\n",
              "    }\n",
              "</style>\n",
              "<table border=\"1\" class=\"dataframe\">\n",
              "  <thead>\n",
              "    <tr style=\"text-align: right;\">\n",
              "      <th></th>\n",
              "      <th>workTitle</th>\n",
              "      <th>conductorName</th>\n",
              "      <th>ID</th>\n",
              "      <th>soloists</th>\n",
              "      <th>composerName</th>\n",
              "      <th>programs_id</th>\n",
              "      <th>movement</th>\n",
              "      <th>interval</th>\n",
              "      <th>movement.em</th>\n",
              "      <th>movement._</th>\n",
              "      <th>workTitle.em</th>\n",
              "      <th>workTitle._</th>\n",
              "    </tr>\n",
              "  </thead>\n",
              "  <tbody>\n",
              "    <tr>\n",
              "      <th>count</th>\n",
              "      <td>26064</td>\n",
              "      <td>21176</td>\n",
              "      <td>26068</td>\n",
              "      <td>26068</td>\n",
              "      <td>26068</td>\n",
              "      <td>26068</td>\n",
              "      <td>8461</td>\n",
              "      <td>0</td>\n",
              "      <td>128</td>\n",
              "      <td>84</td>\n",
              "      <td>4</td>\n",
              "      <td>4</td>\n",
              "    </tr>\n",
              "    <tr>\n",
              "      <th>unique</th>\n",
              "      <td>7325</td>\n",
              "      <td>627</td>\n",
              "      <td>10318</td>\n",
              "      <td>8294</td>\n",
              "      <td>1946</td>\n",
              "      <td>10422</td>\n",
              "      <td>3001</td>\n",
              "      <td>0</td>\n",
              "      <td>67</td>\n",
              "      <td>25</td>\n",
              "      <td>3</td>\n",
              "      <td>3</td>\n",
              "    </tr>\n",
              "    <tr>\n",
              "      <th>top</th>\n",
              "      <td>PORGY AND BESS</td>\n",
              "      <td>Damrosch, Walter</td>\n",
              "      <td>9004*14</td>\n",
              "      <td>[{'soloistName': 'No Soloist', 'soloistRoles':...</td>\n",
              "      <td>Beethoven,  Ludwig  van</td>\n",
              "      <td>f549e93f-b35f-4824-b0d5-d543953535f8</td>\n",
              "      <td>Prelude and Liebestod (with or without soloist)</td>\n",
              "      <td>NaN</td>\n",
              "      <td>The Swan of Tuonela</td>\n",
              "      <td>(name of Marmein dance)</td>\n",
              "      <td>FIFTHS</td>\n",
              "      <td>QUARTET, STRING, OP. 76, NO. 2, D MINOR, H.III...</td>\n",
              "    </tr>\n",
              "    <tr>\n",
              "      <th>freq</th>\n",
              "      <td>387</td>\n",
              "      <td>1670</td>\n",
              "      <td>294</td>\n",
              "      <td>248</td>\n",
              "      <td>1347</td>\n",
              "      <td>50</td>\n",
              "      <td>294</td>\n",
              "      <td>NaN</td>\n",
              "      <td>27</td>\n",
              "      <td>16</td>\n",
              "      <td>2</td>\n",
              "      <td>2</td>\n",
              "    </tr>\n",
              "  </tbody>\n",
              "</table>\n",
              "</div>"
            ],
            "text/plain": [
              "             workTitle     conductorName       ID  \\\n",
              "count            26064             21176    26068   \n",
              "unique            7325               627    10318   \n",
              "top     PORGY AND BESS  Damrosch, Walter  9004*14   \n",
              "freq               387              1670      294   \n",
              "\n",
              "                                                 soloists  \\\n",
              "count                                               26068   \n",
              "unique                                               8294   \n",
              "top     [{'soloistName': 'No Soloist', 'soloistRoles':...   \n",
              "freq                                                  248   \n",
              "\n",
              "                   composerName                           programs_id  \\\n",
              "count                     26068                                 26068   \n",
              "unique                     1946                                 10422   \n",
              "top     Beethoven,  Ludwig  van  f549e93f-b35f-4824-b0d5-d543953535f8   \n",
              "freq                       1347                                    50   \n",
              "\n",
              "                                               movement interval  \\\n",
              "count                                              8461        0   \n",
              "unique                                             3001        0   \n",
              "top     Prelude and Liebestod (with or without soloist)      NaN   \n",
              "freq                                                294      NaN   \n",
              "\n",
              "                movement.em               movement._ workTitle.em  \\\n",
              "count                   128                       84            4   \n",
              "unique                   67                       25            3   \n",
              "top     The Swan of Tuonela  (name of Marmein dance)       FIFTHS   \n",
              "freq                     27                       16            2   \n",
              "\n",
              "                                              workTitle._  \n",
              "count                                                   4  \n",
              "unique                                                  3  \n",
              "top     QUARTET, STRING, OP. 76, NO. 2, D MINOR, H.III...  \n",
              "freq                                                    2  "
            ]
          },
          "execution_count": 71,
          "metadata": {},
          "output_type": "execute_result"
        }
      ],
      "source": [
        "works_df1.describe()"
      ]
    },
    {
      "cell_type": "code",
      "execution_count": 72,
      "metadata": {
        "colab": {
          "base_uri": "https://localhost:8080/"
        },
        "id": "G-EMlTTT1W9I",
        "outputId": "d45ee0d1-a073-4ade-b72d-0f1ef3d42372"
      },
      "outputs": [
        {
          "name": "stderr",
          "output_type": "stream",
          "text": [
            "C:\\Users\\Ashutosh\\AppData\\Local\\Temp\\ipykernel_24364\\2339324117.py:1: SettingWithCopyWarning: \n",
            "A value is trying to be set on a copy of a slice from a DataFrame.\n",
            "Try using .loc[row_indexer,col_indexer] = value instead\n",
            "\n",
            "See the caveats in the documentation: https://pandas.pydata.org/pandas-docs/stable/user_guide/indexing.html#returning-a-view-versus-a-copy\n",
            "  works_df1['new_column'] = works_df1[['ID', 'composerName', 'programs_id']].astype(str).agg('_'.join, axis=1)\n"
          ]
        }
      ],
      "source": [
        "works_df1['new_column'] = works_df1[['ID', 'composerName', 'programs_id']].astype(str).agg('_'.join, axis=1)"
      ]
    },
    {
      "cell_type": "code",
      "execution_count": 73,
      "metadata": {
        "colab": {
          "base_uri": "https://localhost:8080/",
          "height": 281
        },
        "id": "sX1tSTT81Yam",
        "outputId": "7d539340-6d4a-4d30-8455-c5dab6e1aa9e"
      },
      "outputs": [
        {
          "data": {
            "text/html": [
              "<div>\n",
              "<style scoped>\n",
              "    .dataframe tbody tr th:only-of-type {\n",
              "        vertical-align: middle;\n",
              "    }\n",
              "\n",
              "    .dataframe tbody tr th {\n",
              "        vertical-align: top;\n",
              "    }\n",
              "\n",
              "    .dataframe thead th {\n",
              "        text-align: right;\n",
              "    }\n",
              "</style>\n",
              "<table border=\"1\" class=\"dataframe\">\n",
              "  <thead>\n",
              "    <tr style=\"text-align: right;\">\n",
              "      <th></th>\n",
              "      <th>workTitle</th>\n",
              "      <th>conductorName</th>\n",
              "      <th>ID</th>\n",
              "      <th>soloists</th>\n",
              "      <th>composerName</th>\n",
              "      <th>programs_id</th>\n",
              "      <th>movement</th>\n",
              "      <th>interval</th>\n",
              "      <th>movement.em</th>\n",
              "      <th>movement._</th>\n",
              "      <th>workTitle.em</th>\n",
              "      <th>workTitle._</th>\n",
              "      <th>new_column</th>\n",
              "    </tr>\n",
              "  </thead>\n",
              "  <tbody>\n",
              "    <tr>\n",
              "      <th>count</th>\n",
              "      <td>26064</td>\n",
              "      <td>21176</td>\n",
              "      <td>26068</td>\n",
              "      <td>26068</td>\n",
              "      <td>26068</td>\n",
              "      <td>26068</td>\n",
              "      <td>8461</td>\n",
              "      <td>0</td>\n",
              "      <td>128</td>\n",
              "      <td>84</td>\n",
              "      <td>4</td>\n",
              "      <td>4</td>\n",
              "      <td>26068</td>\n",
              "    </tr>\n",
              "    <tr>\n",
              "      <th>unique</th>\n",
              "      <td>7325</td>\n",
              "      <td>627</td>\n",
              "      <td>10318</td>\n",
              "      <td>8294</td>\n",
              "      <td>1946</td>\n",
              "      <td>10422</td>\n",
              "      <td>3001</td>\n",
              "      <td>0</td>\n",
              "      <td>67</td>\n",
              "      <td>25</td>\n",
              "      <td>3</td>\n",
              "      <td>3</td>\n",
              "      <td>25994</td>\n",
              "    </tr>\n",
              "    <tr>\n",
              "      <th>top</th>\n",
              "      <td>PORGY AND BESS</td>\n",
              "      <td>Damrosch, Walter</td>\n",
              "      <td>9004*14</td>\n",
              "      <td>[{'soloistName': 'No Soloist', 'soloistRoles':...</td>\n",
              "      <td>Beethoven,  Ludwig  van</td>\n",
              "      <td>f549e93f-b35f-4824-b0d5-d543953535f8</td>\n",
              "      <td>Prelude and Liebestod (with or without soloist)</td>\n",
              "      <td>NaN</td>\n",
              "      <td>The Swan of Tuonela</td>\n",
              "      <td>(name of Marmein dance)</td>\n",
              "      <td>FIFTHS</td>\n",
              "      <td>QUARTET, STRING, OP. 76, NO. 2, D MINOR, H.III...</td>\n",
              "      <td>5970*_Unspecified,_83d202fe-e59b-4c9b-92e4-de5...</td>\n",
              "    </tr>\n",
              "    <tr>\n",
              "      <th>freq</th>\n",
              "      <td>387</td>\n",
              "      <td>1670</td>\n",
              "      <td>294</td>\n",
              "      <td>248</td>\n",
              "      <td>1347</td>\n",
              "      <td>50</td>\n",
              "      <td>294</td>\n",
              "      <td>NaN</td>\n",
              "      <td>27</td>\n",
              "      <td>16</td>\n",
              "      <td>2</td>\n",
              "      <td>2</td>\n",
              "      <td>9</td>\n",
              "    </tr>\n",
              "  </tbody>\n",
              "</table>\n",
              "</div>"
            ],
            "text/plain": [
              "             workTitle     conductorName       ID  \\\n",
              "count            26064             21176    26068   \n",
              "unique            7325               627    10318   \n",
              "top     PORGY AND BESS  Damrosch, Walter  9004*14   \n",
              "freq               387              1670      294   \n",
              "\n",
              "                                                 soloists  \\\n",
              "count                                               26068   \n",
              "unique                                               8294   \n",
              "top     [{'soloistName': 'No Soloist', 'soloistRoles':...   \n",
              "freq                                                  248   \n",
              "\n",
              "                   composerName                           programs_id  \\\n",
              "count                     26068                                 26068   \n",
              "unique                     1946                                 10422   \n",
              "top     Beethoven,  Ludwig  van  f549e93f-b35f-4824-b0d5-d543953535f8   \n",
              "freq                       1347                                    50   \n",
              "\n",
              "                                               movement interval  \\\n",
              "count                                              8461        0   \n",
              "unique                                             3001        0   \n",
              "top     Prelude and Liebestod (with or without soloist)      NaN   \n",
              "freq                                                294      NaN   \n",
              "\n",
              "                movement.em               movement._ workTitle.em  \\\n",
              "count                   128                       84            4   \n",
              "unique                   67                       25            3   \n",
              "top     The Swan of Tuonela  (name of Marmein dance)       FIFTHS   \n",
              "freq                     27                       16            2   \n",
              "\n",
              "                                              workTitle._  \\\n",
              "count                                                   4   \n",
              "unique                                                  3   \n",
              "top     QUARTET, STRING, OP. 76, NO. 2, D MINOR, H.III...   \n",
              "freq                                                    2   \n",
              "\n",
              "                                               new_column  \n",
              "count                                               26068  \n",
              "unique                                              25994  \n",
              "top     5970*_Unspecified,_83d202fe-e59b-4c9b-92e4-de5...  \n",
              "freq                                                    9  "
            ]
          },
          "execution_count": 73,
          "metadata": {},
          "output_type": "execute_result"
        }
      ],
      "source": [
        "works_df1.describe()"
      ]
    },
    {
      "cell_type": "code",
      "execution_count": 74,
      "metadata": {
        "id": "_QMj0RWJ1hVC"
      },
      "outputs": [],
      "source": [
        "soloists_list = []\n",
        "for i in range(works_df1.shape[0]):\n",
        "  temp_soloists_list = works_df1.iloc[i]['soloists']\n",
        "  for soloist in temp_soloists_list:\n",
        "    soloist['programs_id'] = works_df1.iloc[i]['programs_id']\n",
        "    soloist['works_ID'] = works_df1.iloc[i]['ID']\n",
        "    soloist['works_composerName'] = works_df1.iloc[i]['composerName']\n",
        "\n",
        "  soloists_list.extend(temp_soloists_list)"
      ]
    },
    {
      "cell_type": "code",
      "execution_count": 75,
      "metadata": {
        "colab": {
          "base_uri": "https://localhost:8080/",
          "height": 206
        },
        "id": "4Hv5GahHF8I2",
        "outputId": "136cbc2d-455c-4034-db6d-3df5615488cb"
      },
      "outputs": [
        {
          "data": {
            "text/html": [
              "<div>\n",
              "<style scoped>\n",
              "    .dataframe tbody tr th:only-of-type {\n",
              "        vertical-align: middle;\n",
              "    }\n",
              "\n",
              "    .dataframe tbody tr th {\n",
              "        vertical-align: top;\n",
              "    }\n",
              "\n",
              "    .dataframe thead th {\n",
              "        text-align: right;\n",
              "    }\n",
              "</style>\n",
              "<table border=\"1\" class=\"dataframe\">\n",
              "  <thead>\n",
              "    <tr style=\"text-align: right;\">\n",
              "      <th></th>\n",
              "      <th>soloistName</th>\n",
              "      <th>soloistRoles</th>\n",
              "      <th>soloistInstrument</th>\n",
              "      <th>programs_id</th>\n",
              "      <th>works_ID</th>\n",
              "      <th>works_composerName</th>\n",
              "    </tr>\n",
              "  </thead>\n",
              "  <tbody>\n",
              "    <tr>\n",
              "      <th>0</th>\n",
              "      <td>Otto, Antoinette</td>\n",
              "      <td>S</td>\n",
              "      <td>Soprano</td>\n",
              "      <td>38e072a7-8fc9-4f9a-8eac-3957905c0002</td>\n",
              "      <td>8834*4</td>\n",
              "      <td>Weber,  Carl  Maria Von</td>\n",
              "    </tr>\n",
              "    <tr>\n",
              "      <th>1</th>\n",
              "      <td>Scharfenberg, William</td>\n",
              "      <td>A</td>\n",
              "      <td>Piano</td>\n",
              "      <td>38e072a7-8fc9-4f9a-8eac-3957905c0002</td>\n",
              "      <td>3642*</td>\n",
              "      <td>Hummel,  Johann</td>\n",
              "    </tr>\n",
              "    <tr>\n",
              "      <th>2</th>\n",
              "      <td>Hill, Ureli Corelli</td>\n",
              "      <td>A</td>\n",
              "      <td>Violin</td>\n",
              "      <td>38e072a7-8fc9-4f9a-8eac-3957905c0002</td>\n",
              "      <td>3642*</td>\n",
              "      <td>Hummel,  Johann</td>\n",
              "    </tr>\n",
              "    <tr>\n",
              "      <th>3</th>\n",
              "      <td>Derwort, G. H.</td>\n",
              "      <td>A</td>\n",
              "      <td>Viola</td>\n",
              "      <td>38e072a7-8fc9-4f9a-8eac-3957905c0002</td>\n",
              "      <td>3642*</td>\n",
              "      <td>Hummel,  Johann</td>\n",
              "    </tr>\n",
              "    <tr>\n",
              "      <th>4</th>\n",
              "      <td>Boucher, Alfred</td>\n",
              "      <td>A</td>\n",
              "      <td>Cello</td>\n",
              "      <td>38e072a7-8fc9-4f9a-8eac-3957905c0002</td>\n",
              "      <td>3642*</td>\n",
              "      <td>Hummel,  Johann</td>\n",
              "    </tr>\n",
              "  </tbody>\n",
              "</table>\n",
              "</div>"
            ],
            "text/plain": [
              "             soloistName soloistRoles soloistInstrument  \\\n",
              "0       Otto, Antoinette            S           Soprano   \n",
              "1  Scharfenberg, William            A             Piano   \n",
              "2    Hill, Ureli Corelli            A            Violin   \n",
              "3         Derwort, G. H.            A             Viola   \n",
              "4        Boucher, Alfred            A             Cello   \n",
              "\n",
              "                            programs_id works_ID       works_composerName  \n",
              "0  38e072a7-8fc9-4f9a-8eac-3957905c0002   8834*4  Weber,  Carl  Maria Von  \n",
              "1  38e072a7-8fc9-4f9a-8eac-3957905c0002    3642*          Hummel,  Johann  \n",
              "2  38e072a7-8fc9-4f9a-8eac-3957905c0002    3642*          Hummel,  Johann  \n",
              "3  38e072a7-8fc9-4f9a-8eac-3957905c0002    3642*          Hummel,  Johann  \n",
              "4  38e072a7-8fc9-4f9a-8eac-3957905c0002    3642*          Hummel,  Johann  "
            ]
          },
          "execution_count": 75,
          "metadata": {},
          "output_type": "execute_result"
        }
      ],
      "source": [
        "soloists_df = pd.json_normalize(soloists_list)\n",
        "soloists_df.head()"
      ]
    },
    {
      "cell_type": "code",
      "execution_count": 76,
      "metadata": {
        "colab": {
          "base_uri": "https://localhost:8080/"
        },
        "id": "S2frFbAhGPhN",
        "outputId": "1e5a08d0-948d-44f3-98ac-ee21c6714e07"
      },
      "outputs": [
        {
          "name": "stdout",
          "output_type": "stream",
          "text": [
            "(56194, 6)\n",
            "(55928, 6)\n"
          ]
        }
      ],
      "source": [
        "print(soloists_df.shape)\n",
        "soloists_df.drop_duplicates(inplace = True)\n",
        "print(soloists_df.shape)"
      ]
    },
    {
      "cell_type": "code",
      "execution_count": 77,
      "metadata": {
        "id": "02dIanDaGw5J"
      },
      "outputs": [],
      "source": [
        "works_df.drop('soloists', axis=1, inplace=True)"
      ]
    },
    {
      "cell_type": "code",
      "execution_count": 78,
      "metadata": {
        "colab": {
          "base_uri": "https://localhost:8080/"
        },
        "id": "se1weO8UHC1R",
        "outputId": "87dc8633-b1fa-47ce-9192-5cb459e11525"
      },
      "outputs": [
        {
          "name": "stdout",
          "output_type": "stream",
          "text": [
            "(82793, 11)\n",
            "(82571, 11)\n"
          ]
        }
      ],
      "source": [
        "print(works_df.shape)\n",
        "works_df.drop_duplicates(inplace = True)\n",
        "print(works_df.shape)"
      ]
    },
    {
      "cell_type": "code",
      "execution_count": 79,
      "metadata": {
        "id": "3anv4xj6HxSn"
      },
      "outputs": [],
      "source": [
        "df.drop(['concerts', 'works'], axis=1, inplace=True)"
      ]
    },
    {
      "cell_type": "code",
      "execution_count": 80,
      "metadata": {
        "colab": {
          "base_uri": "https://localhost:8080/"
        },
        "id": "5PXnQ3DEIYKf",
        "outputId": "d62ba54d-5af5-4c98-f0e5-8c9632d8458a"
      },
      "outputs": [
        {
          "name": "stdout",
          "output_type": "stream",
          "text": [
            "Before dropping duplicates: (13954, 4)\n",
            "After dropping duplicates: (13954, 4)\n"
          ]
        }
      ],
      "source": [
        "# Print the shape of the DataFrame 'df' before dropping duplicates\n",
        "print(\"Before dropping duplicates:\", df.shape)\n",
        "\n",
        "# Drop duplicate rows inplace\n",
        "df.drop_duplicates(inplace=True)\n",
        "\n",
        "# Print the shape of the DataFrame 'df' after dropping duplicates\n",
        "print(\"After dropping duplicates:\", df.shape)\n"
      ]
    },
    {
      "cell_type": "markdown",
      "metadata": {
        "id": "F7j3ePu9Ixji"
      },
      "source": [
        "- The following code will show that copying the columns 'ID', 'composerName', 'concert_id' from works_df to soloists_df was right.\n",
        "- We can use a combination of these columns as a foreign key of table soloists_df which connects it with works_df."
      ]
    },
    {
      "cell_type": "code",
      "execution_count": 81,
      "metadata": {
        "colab": {
          "base_uri": "https://localhost:8080/",
          "height": 264
        },
        "id": "Vjp85D_7Iogk",
        "outputId": "fabb6ae4-2a56-4e3f-864d-f18b657d78f0"
      },
      "outputs": [
        {
          "data": {
            "text/html": [
              "<div>\n",
              "<style scoped>\n",
              "    .dataframe tbody tr th:only-of-type {\n",
              "        vertical-align: middle;\n",
              "    }\n",
              "\n",
              "    .dataframe tbody tr th {\n",
              "        vertical-align: top;\n",
              "    }\n",
              "\n",
              "    .dataframe thead th {\n",
              "        text-align: right;\n",
              "    }\n",
              "</style>\n",
              "<table border=\"1\" class=\"dataframe\">\n",
              "  <thead>\n",
              "    <tr style=\"text-align: right;\">\n",
              "      <th></th>\n",
              "      <th>workTitle</th>\n",
              "      <th>conductorName</th>\n",
              "      <th>ID</th>\n",
              "      <th>composerName</th>\n",
              "      <th>programs_id</th>\n",
              "      <th>movement</th>\n",
              "      <th>interval</th>\n",
              "      <th>movement.em</th>\n",
              "      <th>movement._</th>\n",
              "      <th>workTitle.em</th>\n",
              "      <th>workTitle._</th>\n",
              "      <th>new_column</th>\n",
              "    </tr>\n",
              "  </thead>\n",
              "  <tbody>\n",
              "    <tr>\n",
              "      <th>count</th>\n",
              "      <td>71286</td>\n",
              "      <td>66190</td>\n",
              "      <td>82571</td>\n",
              "      <td>71291</td>\n",
              "      <td>82571</td>\n",
              "      <td>24938</td>\n",
              "      <td>11280</td>\n",
              "      <td>227</td>\n",
              "      <td>114</td>\n",
              "      <td>5</td>\n",
              "      <td>5</td>\n",
              "      <td>82571</td>\n",
              "    </tr>\n",
              "    <tr>\n",
              "      <th>unique</th>\n",
              "      <td>11269</td>\n",
              "      <td>794</td>\n",
              "      <td>16648</td>\n",
              "      <td>2766</td>\n",
              "      <td>13907</td>\n",
              "      <td>4648</td>\n",
              "      <td>4</td>\n",
              "      <td>84</td>\n",
              "      <td>37</td>\n",
              "      <td>4</td>\n",
              "      <td>4</td>\n",
              "      <td>82571</td>\n",
              "    </tr>\n",
              "    <tr>\n",
              "      <th>top</th>\n",
              "      <td>MEISTERSINGER, DIE, WWV 96</td>\n",
              "      <td>Damrosch, Walter</td>\n",
              "      <td>0*</td>\n",
              "      <td>Wagner,  Richard</td>\n",
              "      <td>f549e93f-b35f-4824-b0d5-d543953535f8</td>\n",
              "      <td>Overture</td>\n",
              "      <td>Intermission</td>\n",
              "      <td>The Swan of Tuonela</td>\n",
              "      <td>(name of Marmein dance)</td>\n",
              "      <td>FIFTHS</td>\n",
              "      <td>QUARTET, STRING, OP. 76, NO. 2, D MINOR, H.III...</td>\n",
              "      <td>52446*_Beethoven,  Ludwig  van_38e072a7-8fc9-4...</td>\n",
              "    </tr>\n",
              "    <tr>\n",
              "      <th>freq</th>\n",
              "      <td>784</td>\n",
              "      <td>5405</td>\n",
              "      <td>11192</td>\n",
              "      <td>4923</td>\n",
              "      <td>50</td>\n",
              "      <td>3418</td>\n",
              "      <td>11192</td>\n",
              "      <td>80</td>\n",
              "      <td>18</td>\n",
              "      <td>2</td>\n",
              "      <td>2</td>\n",
              "      <td>1</td>\n",
              "    </tr>\n",
              "  </tbody>\n",
              "</table>\n",
              "</div>"
            ],
            "text/plain": [
              "                         workTitle     conductorName     ID      composerName  \\\n",
              "count                        71286             66190  82571             71291   \n",
              "unique                       11269               794  16648              2766   \n",
              "top     MEISTERSINGER, DIE, WWV 96  Damrosch, Walter     0*  Wagner,  Richard   \n",
              "freq                           784              5405  11192              4923   \n",
              "\n",
              "                                 programs_id  movement      interval  \\\n",
              "count                                  82571     24938         11280   \n",
              "unique                                 13907      4648             4   \n",
              "top     f549e93f-b35f-4824-b0d5-d543953535f8  Overture  Intermission   \n",
              "freq                                      50      3418         11192   \n",
              "\n",
              "                movement.em               movement._ workTitle.em  \\\n",
              "count                   227                      114            5   \n",
              "unique                   84                       37            4   \n",
              "top     The Swan of Tuonela  (name of Marmein dance)       FIFTHS   \n",
              "freq                     80                       18            2   \n",
              "\n",
              "                                              workTitle._  \\\n",
              "count                                                   5   \n",
              "unique                                                  4   \n",
              "top     QUARTET, STRING, OP. 76, NO. 2, D MINOR, H.III...   \n",
              "freq                                                    2   \n",
              "\n",
              "                                               new_column  \n",
              "count                                               82571  \n",
              "unique                                              82571  \n",
              "top     52446*_Beethoven,  Ludwig  van_38e072a7-8fc9-4...  \n",
              "freq                                                    1  "
            ]
          },
          "execution_count": 81,
          "metadata": {},
          "output_type": "execute_result"
        }
      ],
      "source": [
        "works_df['new_column'] = works_df[['ID', 'composerName', 'programs_id']].astype(str).agg('_'.join, axis=1)\n",
        "works_df.describe()"
      ]
    },
    {
      "cell_type": "code",
      "execution_count": 82,
      "metadata": {
        "id": "Lg9jGpRYJegA"
      },
      "outputs": [],
      "source": [
        "# Saving works_df to a CSV file\n",
        "works_df.to_csv('works_df.csv', index=False)\n",
        "\n",
        "# Saving soloists_df to a CSV file\n",
        "soloists_df.to_csv('soloists_df.csv', index=False)\n",
        "\n",
        "# Saving df to a CSV file\n",
        "df.to_csv('programs_df.csv', index=False)\n",
        "\n",
        "# Saving concerts_df to a CSV file\n",
        "df.to_csv('concerts_df.csv', index=False)"
      ]
    }
  ],
  "metadata": {
    "accelerator": "GPU",
    "colab": {
      "collapsed_sections": [
        "n03cZgw2JpkO",
        "1jNW1OqaJwCi",
        "1jHGTS9PngFM",
        "GlAHrRbckfyl",
        "Y_OtfgRunzG2"
      ],
      "gpuType": "T4",
      "provenance": []
    },
    "kernelspec": {
      "display_name": "Python 3",
      "name": "python3"
    },
    "language_info": {
      "codemirror_mode": {
        "name": "ipython",
        "version": 3
      },
      "file_extension": ".py",
      "mimetype": "text/x-python",
      "name": "python",
      "nbconvert_exporter": "python",
      "pygments_lexer": "ipython3",
      "version": "3.11.5"
    }
  },
  "nbformat": 4,
  "nbformat_minor": 0
}
